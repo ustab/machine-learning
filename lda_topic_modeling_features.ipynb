{
  "cells": [
    {
      "cell_type": "markdown",
      "metadata": {
        "id": "view-in-github",
        "colab_type": "text"
      },
      "source": [
        "<a href=\"https://colab.research.google.com/github/ustab/machine-learning/blob/master/lda_topic_modeling_features.ipynb\" target=\"_parent\"><img src=\"https://colab.research.google.com/assets/colab-badge.svg\" alt=\"Open In Colab\"/></a>"
      ]
    },
    {
      "cell_type": "markdown",
      "id": "bcdcd7a3",
      "metadata": {
        "papermill": {
          "duration": 0.006275,
          "end_time": "2022-08-10T14:32:58.600208",
          "exception": false,
          "start_time": "2022-08-10T14:32:58.593933",
          "status": "completed"
        },
        "tags": [],
        "id": "bcdcd7a3"
      },
      "source": [
        "## Extracting Topic Modeling Features using LDA (Latent Dirichlet Allocation)"
      ]
    },
    {
      "cell_type": "markdown",
      "id": "5fe3738f",
      "metadata": {
        "papermill": {
          "duration": 0.00487,
          "end_time": "2022-08-10T14:32:58.610479",
          "exception": false,
          "start_time": "2022-08-10T14:32:58.605609",
          "status": "completed"
        },
        "tags": [],
        "id": "5fe3738f"
      },
      "source": [
        "In natural language processing, Latent Dirichlet Allocation (LDA) is a generative statistical model (Un-supervised) that explains a set of observations through unobserved groups, and each group explains why some parts of the data are similar. The LDA is an example of a topic model. In this, observations (e.g., words) are collected into documents, and each word's presence is attributable to one of the document's topics. Each document will contain a small number of topics."
      ]
    },
    {
      "cell_type": "code",
      "execution_count": 3,
      "id": "1798ac9f",
      "metadata": {
        "_cell_guid": "b1076dfc-b9ad-4769-8c92-a6c4dae69d19",
        "_uuid": "8f2839f25d086af736a60e9eeb907d3b93b6e0e5",
        "execution": {
          "iopub.execute_input": "2022-08-10T14:32:58.623063Z",
          "iopub.status.busy": "2022-08-10T14:32:58.622550Z",
          "iopub.status.idle": "2022-08-10T14:32:58.644979Z",
          "shell.execute_reply": "2022-08-10T14:32:58.643669Z"
        },
        "papermill": {
          "duration": 0.032591,
          "end_time": "2022-08-10T14:32:58.648343",
          "exception": false,
          "start_time": "2022-08-10T14:32:58.615752",
          "status": "completed"
        },
        "tags": [],
        "id": "1798ac9f"
      },
      "outputs": [],
      "source": [
        "# This Python 3 environment comes with many helpful analytics libraries installed\n",
        "# It is defined by the kaggle/python Docker image: https://github.com/kaggle/docker-python\n",
        "# For example, here's several helpful packages to load\n",
        "\n",
        "import numpy as np # linear algebra\n",
        "import pandas as pd # data processing, CSV file I/O (e.g. pd.read_csv)\n",
        "\n",
        "# Input data files are available in the read-only \"../input/\" directory\n",
        "# For example, running this (by clicking run or pressing Shift+Enter) will list all files under the input directory\n",
        "\n",
        "import os\n",
        "for dirname, _, filenames in os.walk('/kaggle/input'):\n",
        "    for filename in filenames:\n",
        "        print(os.path.join(dirname, filename))\n",
        "\n",
        "# You can write up to 20GB to the current directory (/kaggle/working/) that gets preserved as output when you create a version using \"Save & Run All\" \n",
        "# You can also write temporary files to /kaggle/temp/, but they won't be saved outside of the current session"
      ]
    },
    {
      "cell_type": "code",
      "execution_count": 5,
      "id": "6f79519c",
      "metadata": {
        "execution": {
          "iopub.execute_input": "2022-08-10T14:32:58.661956Z",
          "iopub.status.busy": "2022-08-10T14:32:58.661547Z",
          "iopub.status.idle": "2022-08-10T14:32:58.845258Z",
          "shell.execute_reply": "2022-08-10T14:32:58.844073Z"
        },
        "papermill": {
          "duration": 0.193733,
          "end_time": "2022-08-10T14:32:58.848211",
          "exception": false,
          "start_time": "2022-08-10T14:32:58.654478",
          "status": "completed"
        },
        "tags": [],
        "id": "6f79519c"
      },
      "outputs": [],
      "source": [
        "dataset = pd.read_csv('/content/Mental-Health-Twitter.csv').drop(['Unnamed: 0'],axis=1)"
      ]
    },
    {
      "cell_type": "code",
      "execution_count": 6,
      "id": "3d7a0050",
      "metadata": {
        "execution": {
          "iopub.execute_input": "2022-08-10T14:32:58.862051Z",
          "iopub.status.busy": "2022-08-10T14:32:58.861550Z",
          "iopub.status.idle": "2022-08-10T14:32:58.867239Z",
          "shell.execute_reply": "2022-08-10T14:32:58.865913Z"
        },
        "papermill": {
          "duration": 0.015641,
          "end_time": "2022-08-10T14:32:58.869766",
          "exception": false,
          "start_time": "2022-08-10T14:32:58.854125",
          "status": "completed"
        },
        "tags": [],
        "id": "3d7a0050"
      },
      "outputs": [],
      "source": [
        "pd.set_option('display.max_colwidth', None)\n",
        "pd.set_option('display.max_rows', 50)\n",
        "# to see the full post_text in given dataset"
      ]
    },
    {
      "cell_type": "code",
      "execution_count": 7,
      "id": "85ad4402",
      "metadata": {
        "execution": {
          "iopub.execute_input": "2022-08-10T14:32:58.883452Z",
          "iopub.status.busy": "2022-08-10T14:32:58.882499Z",
          "iopub.status.idle": "2022-08-10T14:32:58.904716Z",
          "shell.execute_reply": "2022-08-10T14:32:58.903102Z"
        },
        "papermill": {
          "duration": 0.03208,
          "end_time": "2022-08-10T14:32:58.907510",
          "exception": false,
          "start_time": "2022-08-10T14:32:58.875430",
          "status": "completed"
        },
        "tags": [],
        "colab": {
          "base_uri": "https://localhost:8080/",
          "height": 372
        },
        "id": "85ad4402",
        "outputId": "99c36fae-cd4e-4eb2-ec9a-591685b154ac"
      },
      "outputs": [
        {
          "output_type": "execute_result",
          "data": {
            "text/plain": [
              "              post_id                    post_created  \\\n",
              "0  637894677824413696  Sun Aug 30 07:48:37 +0000 2015   \n",
              "1  637890384576778240  Sun Aug 30 07:31:33 +0000 2015   \n",
              "2  637749345908051968  Sat Aug 29 22:11:07 +0000 2015   \n",
              "3  637696421077123073  Sat Aug 29 18:40:49 +0000 2015   \n",
              "4  637696327485366272  Sat Aug 29 18:40:26 +0000 2015   \n",
              "\n",
              "                                                                                                                                      post_text  \\\n",
              "0  It's just over 2 years since I was diagnosed with #anxiety and #depression. Today I'm taking a moment to reflect on how far I've come since.   \n",
              "1                                               It's Sunday, I need a break, so I'm planning to spend as little time as possible on the #A14...   \n",
              "2                                                                              Awake but tired. I need to sleep but my brain has other ideas...   \n",
              "3  RT @SewHQ: #Retro bears make perfect gifts and are great for beginners too! Get stitching with October's Sew on sale NOW! #yay http://t.co/…   \n",
              "4         It’s hard to say whether packing lists are making life easier or just reinforcing how much still needs doing... #movinghouse #anxiety   \n",
              "\n",
              "      user_id  followers  friends  favourites  statuses  retweets  label  \n",
              "0  1013187241         84      211         251       837         0      1  \n",
              "1  1013187241         84      211         251       837         1      1  \n",
              "2  1013187241         84      211         251       837         0      1  \n",
              "3  1013187241         84      211         251       837         2      1  \n",
              "4  1013187241         84      211         251       837         1      1  "
            ],
            "text/html": [
              "\n",
              "  <div id=\"df-747693ec-5bb2-403a-a0d6-967eb1a7d562\">\n",
              "    <div class=\"colab-df-container\">\n",
              "      <div>\n",
              "<style scoped>\n",
              "    .dataframe tbody tr th:only-of-type {\n",
              "        vertical-align: middle;\n",
              "    }\n",
              "\n",
              "    .dataframe tbody tr th {\n",
              "        vertical-align: top;\n",
              "    }\n",
              "\n",
              "    .dataframe thead th {\n",
              "        text-align: right;\n",
              "    }\n",
              "</style>\n",
              "<table border=\"1\" class=\"dataframe\">\n",
              "  <thead>\n",
              "    <tr style=\"text-align: right;\">\n",
              "      <th></th>\n",
              "      <th>post_id</th>\n",
              "      <th>post_created</th>\n",
              "      <th>post_text</th>\n",
              "      <th>user_id</th>\n",
              "      <th>followers</th>\n",
              "      <th>friends</th>\n",
              "      <th>favourites</th>\n",
              "      <th>statuses</th>\n",
              "      <th>retweets</th>\n",
              "      <th>label</th>\n",
              "    </tr>\n",
              "  </thead>\n",
              "  <tbody>\n",
              "    <tr>\n",
              "      <th>0</th>\n",
              "      <td>637894677824413696</td>\n",
              "      <td>Sun Aug 30 07:48:37 +0000 2015</td>\n",
              "      <td>It's just over 2 years since I was diagnosed with #anxiety and #depression. Today I'm taking a moment to reflect on how far I've come since.</td>\n",
              "      <td>1013187241</td>\n",
              "      <td>84</td>\n",
              "      <td>211</td>\n",
              "      <td>251</td>\n",
              "      <td>837</td>\n",
              "      <td>0</td>\n",
              "      <td>1</td>\n",
              "    </tr>\n",
              "    <tr>\n",
              "      <th>1</th>\n",
              "      <td>637890384576778240</td>\n",
              "      <td>Sun Aug 30 07:31:33 +0000 2015</td>\n",
              "      <td>It's Sunday, I need a break, so I'm planning to spend as little time as possible on the #A14...</td>\n",
              "      <td>1013187241</td>\n",
              "      <td>84</td>\n",
              "      <td>211</td>\n",
              "      <td>251</td>\n",
              "      <td>837</td>\n",
              "      <td>1</td>\n",
              "      <td>1</td>\n",
              "    </tr>\n",
              "    <tr>\n",
              "      <th>2</th>\n",
              "      <td>637749345908051968</td>\n",
              "      <td>Sat Aug 29 22:11:07 +0000 2015</td>\n",
              "      <td>Awake but tired. I need to sleep but my brain has other ideas...</td>\n",
              "      <td>1013187241</td>\n",
              "      <td>84</td>\n",
              "      <td>211</td>\n",
              "      <td>251</td>\n",
              "      <td>837</td>\n",
              "      <td>0</td>\n",
              "      <td>1</td>\n",
              "    </tr>\n",
              "    <tr>\n",
              "      <th>3</th>\n",
              "      <td>637696421077123073</td>\n",
              "      <td>Sat Aug 29 18:40:49 +0000 2015</td>\n",
              "      <td>RT @SewHQ: #Retro bears make perfect gifts and are great for beginners too! Get stitching with October's Sew on sale NOW! #yay http://t.co/…</td>\n",
              "      <td>1013187241</td>\n",
              "      <td>84</td>\n",
              "      <td>211</td>\n",
              "      <td>251</td>\n",
              "      <td>837</td>\n",
              "      <td>2</td>\n",
              "      <td>1</td>\n",
              "    </tr>\n",
              "    <tr>\n",
              "      <th>4</th>\n",
              "      <td>637696327485366272</td>\n",
              "      <td>Sat Aug 29 18:40:26 +0000 2015</td>\n",
              "      <td>It’s hard to say whether packing lists are making life easier or just reinforcing how much still needs doing... #movinghouse #anxiety</td>\n",
              "      <td>1013187241</td>\n",
              "      <td>84</td>\n",
              "      <td>211</td>\n",
              "      <td>251</td>\n",
              "      <td>837</td>\n",
              "      <td>1</td>\n",
              "      <td>1</td>\n",
              "    </tr>\n",
              "  </tbody>\n",
              "</table>\n",
              "</div>\n",
              "      <button class=\"colab-df-convert\" onclick=\"convertToInteractive('df-747693ec-5bb2-403a-a0d6-967eb1a7d562')\"\n",
              "              title=\"Convert this dataframe to an interactive table.\"\n",
              "              style=\"display:none;\">\n",
              "        \n",
              "  <svg xmlns=\"http://www.w3.org/2000/svg\" height=\"24px\"viewBox=\"0 0 24 24\"\n",
              "       width=\"24px\">\n",
              "    <path d=\"M0 0h24v24H0V0z\" fill=\"none\"/>\n",
              "    <path d=\"M18.56 5.44l.94 2.06.94-2.06 2.06-.94-2.06-.94-.94-2.06-.94 2.06-2.06.94zm-11 1L8.5 8.5l.94-2.06 2.06-.94-2.06-.94L8.5 2.5l-.94 2.06-2.06.94zm10 10l.94 2.06.94-2.06 2.06-.94-2.06-.94-.94-2.06-.94 2.06-2.06.94z\"/><path d=\"M17.41 7.96l-1.37-1.37c-.4-.4-.92-.59-1.43-.59-.52 0-1.04.2-1.43.59L10.3 9.45l-7.72 7.72c-.78.78-.78 2.05 0 2.83L4 21.41c.39.39.9.59 1.41.59.51 0 1.02-.2 1.41-.59l7.78-7.78 2.81-2.81c.8-.78.8-2.07 0-2.86zM5.41 20L4 18.59l7.72-7.72 1.47 1.35L5.41 20z\"/>\n",
              "  </svg>\n",
              "      </button>\n",
              "      \n",
              "  <style>\n",
              "    .colab-df-container {\n",
              "      display:flex;\n",
              "      flex-wrap:wrap;\n",
              "      gap: 12px;\n",
              "    }\n",
              "\n",
              "    .colab-df-convert {\n",
              "      background-color: #E8F0FE;\n",
              "      border: none;\n",
              "      border-radius: 50%;\n",
              "      cursor: pointer;\n",
              "      display: none;\n",
              "      fill: #1967D2;\n",
              "      height: 32px;\n",
              "      padding: 0 0 0 0;\n",
              "      width: 32px;\n",
              "    }\n",
              "\n",
              "    .colab-df-convert:hover {\n",
              "      background-color: #E2EBFA;\n",
              "      box-shadow: 0px 1px 2px rgba(60, 64, 67, 0.3), 0px 1px 3px 1px rgba(60, 64, 67, 0.15);\n",
              "      fill: #174EA6;\n",
              "    }\n",
              "\n",
              "    [theme=dark] .colab-df-convert {\n",
              "      background-color: #3B4455;\n",
              "      fill: #D2E3FC;\n",
              "    }\n",
              "\n",
              "    [theme=dark] .colab-df-convert:hover {\n",
              "      background-color: #434B5C;\n",
              "      box-shadow: 0px 1px 3px 1px rgba(0, 0, 0, 0.15);\n",
              "      filter: drop-shadow(0px 1px 2px rgba(0, 0, 0, 0.3));\n",
              "      fill: #FFFFFF;\n",
              "    }\n",
              "  </style>\n",
              "\n",
              "      <script>\n",
              "        const buttonEl =\n",
              "          document.querySelector('#df-747693ec-5bb2-403a-a0d6-967eb1a7d562 button.colab-df-convert');\n",
              "        buttonEl.style.display =\n",
              "          google.colab.kernel.accessAllowed ? 'block' : 'none';\n",
              "\n",
              "        async function convertToInteractive(key) {\n",
              "          const element = document.querySelector('#df-747693ec-5bb2-403a-a0d6-967eb1a7d562');\n",
              "          const dataTable =\n",
              "            await google.colab.kernel.invokeFunction('convertToInteractive',\n",
              "                                                     [key], {});\n",
              "          if (!dataTable) return;\n",
              "\n",
              "          const docLinkHtml = 'Like what you see? Visit the ' +\n",
              "            '<a target=\"_blank\" href=https://colab.research.google.com/notebooks/data_table.ipynb>data table notebook</a>'\n",
              "            + ' to learn more about interactive tables.';\n",
              "          element.innerHTML = '';\n",
              "          dataTable['output_type'] = 'display_data';\n",
              "          await google.colab.output.renderOutput(dataTable, element);\n",
              "          const docLink = document.createElement('div');\n",
              "          docLink.innerHTML = docLinkHtml;\n",
              "          element.appendChild(docLink);\n",
              "        }\n",
              "      </script>\n",
              "    </div>\n",
              "  </div>\n",
              "  "
            ]
          },
          "metadata": {},
          "execution_count": 7
        }
      ],
      "source": [
        "dataset.head()"
      ]
    },
    {
      "cell_type": "code",
      "execution_count": 11,
      "id": "19bc4159",
      "metadata": {
        "execution": {
          "iopub.execute_input": "2022-08-10T14:32:58.922060Z",
          "iopub.status.busy": "2022-08-10T14:32:58.921262Z",
          "iopub.status.idle": "2022-08-10T14:32:58.931535Z",
          "shell.execute_reply": "2022-08-10T14:32:58.930135Z"
        },
        "papermill": {
          "duration": 0.020806,
          "end_time": "2022-08-10T14:32:58.934535",
          "exception": false,
          "start_time": "2022-08-10T14:32:58.913729",
          "status": "completed"
        },
        "tags": [],
        "colab": {
          "base_uri": "https://localhost:8080/"
        },
        "id": "19bc4159",
        "outputId": "46fd16ec-60d2-414a-dc4d-8c47a22e26ec"
      },
      "outputs": [
        {
          "output_type": "execute_result",
          "data": {
            "text/plain": [
              "72"
            ]
          },
          "metadata": {},
          "execution_count": 11
        }
      ],
      "source": [
        "dataset['user_id'].nunique()\n",
        "# total unique users"
      ]
    },
    {
      "cell_type": "code",
      "source": [
        "from nltk.stem.porter import PorterStemmer\n",
        "stemmer = PorterStemmer()"
      ],
      "metadata": {
        "id": "NTlkPkkFd6yB"
      },
      "id": "NTlkPkkFd6yB",
      "execution_count": 13,
      "outputs": []
    },
    {
      "cell_type": "code",
      "source": [
        "!pip install matplotlib-venn"
      ],
      "metadata": {
        "colab": {
          "base_uri": "https://localhost:8080/"
        },
        "id": "X-WO6qZrekUD",
        "outputId": "aa5ca381-17d5-4fa4-b89d-ca87806ebdde"
      },
      "id": "X-WO6qZrekUD",
      "execution_count": 17,
      "outputs": [
        {
          "output_type": "stream",
          "name": "stdout",
          "text": [
            "Looking in indexes: https://pypi.org/simple, https://us-python.pkg.dev/colab-wheels/public/simple/\n",
            "Requirement already satisfied: matplotlib-venn in /usr/local/lib/python3.7/dist-packages (0.11.7)\n",
            "Requirement already satisfied: scipy in /usr/local/lib/python3.7/dist-packages (from matplotlib-venn) (1.7.3)\n",
            "Requirement already satisfied: numpy in /usr/local/lib/python3.7/dist-packages (from matplotlib-venn) (1.21.6)\n",
            "Requirement already satisfied: matplotlib in /usr/local/lib/python3.7/dist-packages (from matplotlib-venn) (3.2.2)\n",
            "Requirement already satisfied: cycler>=0.10 in /usr/local/lib/python3.7/dist-packages (from matplotlib->matplotlib-venn) (0.11.0)\n",
            "Requirement already satisfied: pyparsing!=2.0.4,!=2.1.2,!=2.1.6,>=2.0.1 in /usr/local/lib/python3.7/dist-packages (from matplotlib->matplotlib-venn) (3.0.9)\n",
            "Requirement already satisfied: kiwisolver>=1.0.1 in /usr/local/lib/python3.7/dist-packages (from matplotlib->matplotlib-venn) (1.4.4)\n",
            "Requirement already satisfied: python-dateutil>=2.1 in /usr/local/lib/python3.7/dist-packages (from matplotlib->matplotlib-venn) (2.8.2)\n",
            "Requirement already satisfied: typing-extensions in /usr/local/lib/python3.7/dist-packages (from kiwisolver>=1.0.1->matplotlib->matplotlib-venn) (4.1.1)\n",
            "Requirement already satisfied: six>=1.5 in /usr/local/lib/python3.7/dist-packages (from python-dateutil>=2.1->matplotlib->matplotlib-venn) (1.15.0)\n"
          ]
        }
      ]
    },
    {
      "cell_type": "code",
      "source": [
        "!apt-get -qq install -y graphviz && pip install pydot\n",
        "import pydot"
      ],
      "metadata": {
        "colab": {
          "base_uri": "https://localhost:8080/"
        },
        "id": "MviNfLfBewOr",
        "outputId": "3c2f16f3-3b43-45f6-b2b0-a3d66887bcea"
      },
      "id": "MviNfLfBewOr",
      "execution_count": 18,
      "outputs": [
        {
          "output_type": "stream",
          "name": "stdout",
          "text": [
            "Looking in indexes: https://pypi.org/simple, https://us-python.pkg.dev/colab-wheels/public/simple/\n",
            "Requirement already satisfied: pydot in /usr/local/lib/python3.7/dist-packages (1.3.0)\n",
            "Requirement already satisfied: pyparsing>=2.1.4 in /usr/local/lib/python3.7/dist-packages (from pydot) (3.0.9)\n"
          ]
        }
      ]
    },
    {
      "cell_type": "code",
      "source": [
        "!apt-get -qq install -y libfluidsynth1"
      ],
      "metadata": {
        "colab": {
          "base_uri": "https://localhost:8080/"
        },
        "id": "2ldGFB90epeR",
        "outputId": "4ca8e2e0-1a92-45cb-93b0-82f4ffbae5d7"
      },
      "id": "2ldGFB90epeR",
      "execution_count": 16,
      "outputs": [
        {
          "output_type": "stream",
          "name": "stdout",
          "text": [
            "Selecting previously unselected package libfluidsynth1:amd64.\n",
            "(Reading database ... \r(Reading database ... 5%\r(Reading database ... 10%\r(Reading database ... 15%\r(Reading database ... 20%\r(Reading database ... 25%\r(Reading database ... 30%\r(Reading database ... 35%\r(Reading database ... 40%\r(Reading database ... 45%\r(Reading database ... 50%\r(Reading database ... 55%\r(Reading database ... 60%\r(Reading database ... 65%\r(Reading database ... 70%\r(Reading database ... 75%\r(Reading database ... 80%\r(Reading database ... 85%\r(Reading database ... 90%\r(Reading database ... 95%\r(Reading database ... 100%\r(Reading database ... 155741 files and directories currently installed.)\n",
            "Preparing to unpack .../libfluidsynth1_1.1.9-1_amd64.deb ...\n",
            "Unpacking libfluidsynth1:amd64 (1.1.9-1) ...\n",
            "Setting up libfluidsynth1:amd64 (1.1.9-1) ...\n",
            "Processing triggers for libc-bin (2.27-3ubuntu1.5) ...\n"
          ]
        }
      ]
    },
    {
      "cell_type": "code",
      "source": [
        "!pip install cartopy\n",
        "import cartopy"
      ],
      "metadata": {
        "colab": {
          "base_uri": "https://localhost:8080/"
        },
        "id": "v6Vo8Q31e3hh",
        "outputId": "f3c7803f-24a3-4b92-c162-b8175b3d8dd5"
      },
      "id": "v6Vo8Q31e3hh",
      "execution_count": 19,
      "outputs": [
        {
          "output_type": "stream",
          "name": "stdout",
          "text": [
            "Looking in indexes: https://pypi.org/simple, https://us-python.pkg.dev/colab-wheels/public/simple/\n",
            "Collecting cartopy\n",
            "  Downloading Cartopy-0.20.3.tar.gz (10.8 MB)\n",
            "\u001b[K     |████████████████████████████████| 10.8 MB 8.9 MB/s \n",
            "\u001b[?25h  Installing build dependencies ... \u001b[?25l\u001b[?25hdone\n",
            "  Getting requirements to build wheel ... \u001b[?25l\u001b[?25herror\n",
            "\u001b[33mWARNING: Discarding https://files.pythonhosted.org/packages/98/a9/0e4000eabadfcff6373c0fec790863b543b919cbfec18aed60d71ba67d5d/Cartopy-0.20.3.tar.gz#sha256=0d60fa2e2fbd77c4d1f6b1f9d3b588966147f07c1b179d2d34570ac1e1b49006 (from https://pypi.org/simple/cartopy/) (requires-python:>=3.7). Command errored out with exit status 1: /usr/bin/python3 /usr/local/lib/python3.7/dist-packages/pip/_vendor/pep517/in_process/_in_process.py get_requires_for_build_wheel /tmp/tmpl7q5ui0z Check the logs for full command output.\u001b[0m\n",
            "  Downloading Cartopy-0.20.2.tar.gz (10.8 MB)\n",
            "\u001b[K     |████████████████████████████████| 10.8 MB 49.7 MB/s \n",
            "\u001b[?25h  Installing build dependencies ... \u001b[?25l\u001b[?25hdone\n",
            "  Getting requirements to build wheel ... \u001b[?25l\u001b[?25herror\n",
            "\u001b[33mWARNING: Discarding https://files.pythonhosted.org/packages/f6/55/1e1c737dc9436b320deead73d1c455ddbb74b8b6992081863492f6f6378a/Cartopy-0.20.2.tar.gz#sha256=4d08c198ecaa50a6a6b109d0f14c070e813defc046a83ac5d7ab494f85599e35 (from https://pypi.org/simple/cartopy/) (requires-python:>=3.7). Command errored out with exit status 1: /usr/bin/python3 /usr/local/lib/python3.7/dist-packages/pip/_vendor/pep517/in_process/_in_process.py get_requires_for_build_wheel /tmp/tmpnks53lzw Check the logs for full command output.\u001b[0m\n",
            "  Downloading Cartopy-0.20.1.tar.gz (10.8 MB)\n",
            "\u001b[K     |████████████████████████████████| 10.8 MB 42.9 MB/s \n",
            "\u001b[?25h  Installing build dependencies ... \u001b[?25l\u001b[?25hdone\n",
            "  Getting requirements to build wheel ... \u001b[?25l\u001b[?25herror\n",
            "\u001b[33mWARNING: Discarding https://files.pythonhosted.org/packages/fc/59/aa52698e3838f4cd0e7eaa75bd86837e9e0b05041dbdaee3cda2fffced06/Cartopy-0.20.1.tar.gz#sha256=91f87b130e2574547a20cd634498df97d797abd12dcfd0235bc0cdbcec8b05e3 (from https://pypi.org/simple/cartopy/) (requires-python:>=3.7). Command errored out with exit status 1: /usr/bin/python3 /usr/local/lib/python3.7/dist-packages/pip/_vendor/pep517/in_process/_in_process.py get_requires_for_build_wheel /tmp/tmpjxva89pa Check the logs for full command output.\u001b[0m\n",
            "  Downloading Cartopy-0.20.0.tar.gz (10.8 MB)\n",
            "\u001b[K     |████████████████████████████████| 10.8 MB 53.3 MB/s \n",
            "\u001b[?25h  Installing build dependencies ... \u001b[?25l\u001b[?25hdone\n",
            "  Getting requirements to build wheel ... \u001b[?25l\u001b[?25herror\n",
            "\u001b[33mWARNING: Discarding https://files.pythonhosted.org/packages/0f/c0/58453b036e79046d211f083880d58dcce787e7e07647ac25dc46c6555099/Cartopy-0.20.0.tar.gz#sha256=eae58aff26806e63cf115b2bce9477cedc4aa9f578c5e477b2c25cfa404f2b7a (from https://pypi.org/simple/cartopy/) (requires-python:>=3.7). Command errored out with exit status 1: /usr/bin/python3 /usr/local/lib/python3.7/dist-packages/pip/_vendor/pep517/in_process/_in_process.py get_requires_for_build_wheel /tmp/tmpqvplp0yb Check the logs for full command output.\u001b[0m\n",
            "  Downloading Cartopy-0.19.0.post1.tar.gz (12.1 MB)\n",
            "\u001b[K     |████████████████████████████████| 12.1 MB 43.2 MB/s \n",
            "\u001b[?25h  Installing build dependencies ... \u001b[?25l\u001b[?25hdone\n",
            "  Getting requirements to build wheel ... \u001b[?25l\u001b[?25hdone\n",
            "    Preparing wheel metadata ... \u001b[?25l\u001b[?25hdone\n",
            "Requirement already satisfied: numpy>=1.13.3 in /usr/local/lib/python3.7/dist-packages (from cartopy) (1.21.6)\n",
            "Collecting pyshp>=2\n",
            "  Downloading pyshp-2.3.1-py2.py3-none-any.whl (46 kB)\n",
            "\u001b[K     |████████████████████████████████| 46 kB 4.4 MB/s \n",
            "\u001b[?25hRequirement already satisfied: shapely>=1.5.6 in /usr/local/lib/python3.7/dist-packages (from cartopy) (1.8.4)\n",
            "Building wheels for collected packages: cartopy\n",
            "  Building wheel for cartopy (PEP 517) ... \u001b[?25l\u001b[?25hdone\n",
            "  Created wheel for cartopy: filename=Cartopy-0.19.0.post1-cp37-cp37m-linux_x86_64.whl size=12516300 sha256=cfb520f05d3f7a3c10f9d3536626c00cd3ab2d8444e0446b81bbc83f94beeb83\n",
            "  Stored in directory: /root/.cache/pip/wheels/98/01/f7/bd10aeb96fe4b518cde5f7c4f5e12c7202f85b7353a5017847\n",
            "Successfully built cartopy\n",
            "Installing collected packages: pyshp, cartopy\n",
            "Successfully installed cartopy-0.19.0.post1 pyshp-2.3.1\n"
          ]
        }
      ]
    },
    {
      "cell_type": "code",
      "source": [
        "!apt-get -qq install -y libarchive-dev && pip install -U libarchive\n",
        "import libarchive"
      ],
      "metadata": {
        "colab": {
          "base_uri": "https://localhost:8080/"
        },
        "id": "gmFxrQzWeWm6",
        "outputId": "481ffc85-7f95-4e52-ee1f-1dce1107dac2"
      },
      "id": "gmFxrQzWeWm6",
      "execution_count": 15,
      "outputs": [
        {
          "output_type": "stream",
          "name": "stdout",
          "text": [
            "Selecting previously unselected package libarchive-dev:amd64.\n",
            "(Reading database ... 155685 files and directories currently installed.)\n",
            "Preparing to unpack .../libarchive-dev_3.2.2-3.1ubuntu0.7_amd64.deb ...\n",
            "Unpacking libarchive-dev:amd64 (3.2.2-3.1ubuntu0.7) ...\n",
            "Setting up libarchive-dev:amd64 (3.2.2-3.1ubuntu0.7) ...\n",
            "Processing triggers for man-db (2.8.3-2ubuntu0.1) ...\n",
            "Looking in indexes: https://pypi.org/simple, https://us-python.pkg.dev/colab-wheels/public/simple/\n",
            "Collecting libarchive\n",
            "  Downloading libarchive-0.4.7.tar.gz (23 kB)\n",
            "Collecting nose\n",
            "  Downloading nose-1.3.7-py3-none-any.whl (154 kB)\n",
            "\u001b[K     |████████████████████████████████| 154 kB 9.6 MB/s \n",
            "\u001b[?25hBuilding wheels for collected packages: libarchive\n",
            "  Building wheel for libarchive (setup.py) ... \u001b[?25l\u001b[?25hdone\n",
            "  Created wheel for libarchive: filename=libarchive-0.4.7-py3-none-any.whl size=31646 sha256=ba2c5273040e922581c01e8262660c1ea660274ba268ff84f95fb31f3e5ced21\n",
            "  Stored in directory: /root/.cache/pip/wheels/63/b1/c6/b3da79bec2012175bd43603eed98ef8548ac1733b77c1d4330\n",
            "Successfully built libarchive\n",
            "Installing collected packages: nose, libarchive\n",
            "Successfully installed libarchive-0.4.7 nose-1.3.7\n"
          ]
        }
      ]
    },
    {
      "cell_type": "code",
      "source": [
        "pip install emoji --upgrade"
      ],
      "metadata": {
        "colab": {
          "base_uri": "https://localhost:8080/"
        },
        "id": "URtYugE8foGX",
        "outputId": "fb7cf907-6397-480c-d6a3-9502571a1937"
      },
      "id": "URtYugE8foGX",
      "execution_count": 21,
      "outputs": [
        {
          "output_type": "stream",
          "name": "stdout",
          "text": [
            "Looking in indexes: https://pypi.org/simple, https://us-python.pkg.dev/colab-wheels/public/simple/\n",
            "Collecting emoji\n",
            "  Downloading emoji-2.0.0.tar.gz (197 kB)\n",
            "\u001b[K     |████████████████████████████████| 197 kB 6.7 MB/s \n",
            "\u001b[?25hBuilding wheels for collected packages: emoji\n",
            "  Building wheel for emoji (setup.py) ... \u001b[?25l\u001b[?25hdone\n",
            "  Created wheel for emoji: filename=emoji-2.0.0-py3-none-any.whl size=193022 sha256=6936bfaca0fed9ca43c1f8d2ba78df7da27d4ffc672780e5809dda088f6cf720\n",
            "  Stored in directory: /root/.cache/pip/wheels/ec/29/4d/3cfe7452ac7d8d83b1930f8a6205c3c9649b24e80f9029fc38\n",
            "Successfully built emoji\n",
            "Installing collected packages: emoji\n",
            "Successfully installed emoji-2.0.0\n"
          ]
        }
      ]
    },
    {
      "cell_type": "code",
      "source": [
        "# Text Pre-processing (NLP)\n",
        "import re\n",
        "import nltk\n",
        "import emoji"
      ],
      "metadata": {
        "id": "7AaV6wSleJEx"
      },
      "id": "7AaV6wSleJEx",
      "execution_count": 22,
      "outputs": []
    },
    {
      "cell_type": "code",
      "execution_count": 23,
      "id": "a48df91a",
      "metadata": {
        "execution": {
          "iopub.execute_input": "2022-08-10T14:32:58.948927Z",
          "iopub.status.busy": "2022-08-10T14:32:58.947974Z",
          "iopub.status.idle": "2022-08-10T14:33:00.707338Z",
          "shell.execute_reply": "2022-08-10T14:33:00.706135Z"
        },
        "papermill": {
          "duration": 1.769605,
          "end_time": "2022-08-10T14:33:00.710214",
          "exception": false,
          "start_time": "2022-08-10T14:32:58.940609",
          "status": "completed"
        },
        "tags": [],
        "id": "a48df91a"
      },
      "outputs": [],
      "source": [
        "# Custom Tokenizer\n",
        "def tokenize(text):\n",
        "    text = emoji.replace_emoji(text, replace='')    # Removes Emoji's from Text\n",
        "    text = re.sub(r\"http\\S+\", \"\", text)             # Removes URLs from Text\n",
        "    text = re.sub(r\"[^\\w\\s]\", \"\", text)             # Removes\n",
        "    tokens = [word for word in nltk.word_tokenize(text) if len(word)>3]   # Tokenization and Keeping only the words with length at least 4\n",
        "    stems = [stemmer.stem(item) for item in tokens]                       # Stemming\n",
        "    return tokens"
      ]
    },
    {
      "cell_type": "code",
      "source": [
        "from sklearn.feature_extraction.text import TfidfVectorizer"
      ],
      "metadata": {
        "id": "yuBmiEVugWrt"
      },
      "id": "yuBmiEVugWrt",
      "execution_count": 25,
      "outputs": []
    },
    {
      "cell_type": "code",
      "source": [
        "import nltk\n",
        "nltk.download('punkt')\n",
        "from nltk import word_tokenize,sent_tokenize"
      ],
      "metadata": {
        "colab": {
          "base_uri": "https://localhost:8080/"
        },
        "id": "7qk6BurLhJki",
        "outputId": "f84dd0bc-78e9-4d3f-e06f-1e90f059644d"
      },
      "id": "7qk6BurLhJki",
      "execution_count": 30,
      "outputs": [
        {
          "output_type": "stream",
          "name": "stderr",
          "text": [
            "[nltk_data] Downloading package punkt to /root/nltk_data...\n",
            "[nltk_data]   Unzipping tokenizers/punkt.zip.\n"
          ]
        }
      ]
    },
    {
      "cell_type": "code",
      "source": [
        "import nltk.data\n",
        "tokenizer = nltk.data.load('nltk:tokenizers/punkt/english.pickle')"
      ],
      "metadata": {
        "id": "aQf5z5yVg7EV"
      },
      "id": "aQf5z5yVg7EV",
      "execution_count": 31,
      "outputs": []
    },
    {
      "cell_type": "code",
      "execution_count": 32,
      "id": "587f5b43",
      "metadata": {
        "execution": {
          "iopub.execute_input": "2022-08-10T14:33:00.724214Z",
          "iopub.status.busy": "2022-08-10T14:33:00.723217Z",
          "iopub.status.idle": "2022-08-10T14:33:08.745941Z",
          "shell.execute_reply": "2022-08-10T14:33:08.744462Z"
        },
        "papermill": {
          "duration": 8.033202,
          "end_time": "2022-08-10T14:33:08.749194",
          "exception": false,
          "start_time": "2022-08-10T14:33:00.715992",
          "status": "completed"
        },
        "tags": [],
        "id": "587f5b43"
      },
      "outputs": [],
      "source": [
        "vectorizer_tf = TfidfVectorizer(tokenizer=tokenize, stop_words='english', max_df=0.75, max_features=10000, use_idf=False, norm=None)\n",
        "tf_vectors = vectorizer_tf.fit_transform(dataset.post_text)"
      ]
    },
    {
      "cell_type": "code",
      "execution_count": 33,
      "id": "4e75331b",
      "metadata": {
        "execution": {
          "iopub.execute_input": "2022-08-10T14:33:08.763205Z",
          "iopub.status.busy": "2022-08-10T14:33:08.762771Z",
          "iopub.status.idle": "2022-08-10T14:33:08.779630Z",
          "shell.execute_reply": "2022-08-10T14:33:08.778312Z"
        },
        "papermill": {
          "duration": 0.026909,
          "end_time": "2022-08-10T14:33:08.782044",
          "exception": false,
          "start_time": "2022-08-10T14:33:08.755135",
          "status": "completed"
        },
        "tags": [],
        "colab": {
          "base_uri": "https://localhost:8080/"
        },
        "id": "4e75331b",
        "outputId": "d2450ea6-4eec-47ca-94f6-7b18af5efab4"
      },
      "outputs": [
        {
          "output_type": "execute_result",
          "data": {
            "text/plain": [
              "array(['70412', '70685', '7yrold', '800656hope', '8664887386',\n",
              "       '89stevesmith', '933flz', '_5sosfamupdates', '_ahmadqushairi',\n",
              "       '_betwixt', '_dpiddy', '_fatinsalihah', '_fawky', '_gabrielpicolo',\n",
              "       '_kelibatbangsat', '_snape_', '_spalala', '_spetty',\n",
              "       'a1sincedaynone', 'a__twat', 'a_venture3', 'aaay', 'aag2016',\n",
              "       'aaron', 'aaron_ariff', 'aaroncarpenter', 'aartorias', 'abandoned',\n",
              "       'abby', 'abcnetwork', 'ability', 'able', 'abroad', 'absence',\n",
              "       'absolute', 'absolutely', 'abuse', 'abused', 'abusing',\n",
              "       'acaciabrinley', 'academic', 'academy', 'accent', 'accept',\n",
              "       'acceptable', 'acceptance', 'accepted', 'accepts', 'access',\n",
              "       'accessories', 'accident', 'accidentally', 'accomplish',\n",
              "       'accomplished', 'according', 'account', 'accountability',\n",
              "       'accountants', 'accounting', 'accounts', 'accurate', 'accurately',\n",
              "       'accused', 'accuses', 'accustomed', 'acetaminophen', 'ache',\n",
              "       'achieve', 'achieved', 'achievement', 'achievements', 'aching',\n",
              "       'achmetnor', 'acid', 'ackerman', 'acknowledge', 'acknowledging',\n",
              "       'acne', 'acon_mahomie7', 'acquaintances', 'acquire', 'acted',\n",
              "       'acting', 'action', 'actionhappiness', 'actions', 'activate',\n",
              "       'active', 'activist', 'activity', 'actlikea5so', 'actor',\n",
              "       'actor_friend', 'actors', 'actress', 'acts', 'actual', 'actually',\n",
              "       'acupuncture', 'adam'], dtype=object)"
            ]
          },
          "metadata": {},
          "execution_count": 33
        }
      ],
      "source": [
        "vectorizer_tf.get_feature_names_out()[100:200]\n",
        "\n",
        "# vectorizer_tf.get_feature_names_out().shape"
      ]
    },
    {
      "cell_type": "code",
      "execution_count": 34,
      "id": "c57052dc",
      "metadata": {
        "execution": {
          "iopub.execute_input": "2022-08-10T14:33:08.796297Z",
          "iopub.status.busy": "2022-08-10T14:33:08.795382Z",
          "iopub.status.idle": "2022-08-10T14:33:42.763180Z",
          "shell.execute_reply": "2022-08-10T14:33:42.761917Z"
        },
        "papermill": {
          "duration": 33.978047,
          "end_time": "2022-08-10T14:33:42.766206",
          "exception": false,
          "start_time": "2022-08-10T14:33:08.788159",
          "status": "completed"
        },
        "tags": [],
        "id": "c57052dc"
      },
      "outputs": [],
      "source": [
        "from sklearn import decomposition\n",
        "\n",
        "# Creating top 25 topics/clusters to get Summary\n",
        "lda = decomposition.LatentDirichletAllocation(n_components=25, max_iter=10, learning_method='online', learning_offset=50, n_jobs=1, random_state=42)\n",
        "\n",
        "W1 = lda.fit_transform(tf_vectors)\n",
        "H1 = lda.components_"
      ]
    },
    {
      "cell_type": "code",
      "execution_count": 35,
      "id": "7134411f",
      "metadata": {
        "execution": {
          "iopub.execute_input": "2022-08-10T14:33:42.780198Z",
          "iopub.status.busy": "2022-08-10T14:33:42.779743Z",
          "iopub.status.idle": "2022-08-10T14:33:42.787726Z",
          "shell.execute_reply": "2022-08-10T14:33:42.786505Z"
        },
        "papermill": {
          "duration": 0.017444,
          "end_time": "2022-08-10T14:33:42.789939",
          "exception": false,
          "start_time": "2022-08-10T14:33:42.772495",
          "status": "completed"
        },
        "tags": [],
        "colab": {
          "base_uri": "https://localhost:8080/"
        },
        "id": "7134411f",
        "outputId": "506dfd06-4998-4845-a7a6-92da573d9acd"
      },
      "outputs": [
        {
          "output_type": "execute_result",
          "data": {
            "text/plain": [
              "(20000, 25)"
            ]
          },
          "metadata": {},
          "execution_count": 35
        }
      ],
      "source": [
        "W1.shape"
      ]
    },
    {
      "cell_type": "code",
      "execution_count": 36,
      "id": "2b61a516",
      "metadata": {
        "execution": {
          "iopub.execute_input": "2022-08-10T14:33:42.804499Z",
          "iopub.status.busy": "2022-08-10T14:33:42.803716Z",
          "iopub.status.idle": "2022-08-10T14:33:42.840185Z",
          "shell.execute_reply": "2022-08-10T14:33:42.839123Z"
        },
        "papermill": {
          "duration": 0.046916,
          "end_time": "2022-08-10T14:33:42.842992",
          "exception": false,
          "start_time": "2022-08-10T14:33:42.796076",
          "status": "completed"
        },
        "tags": [],
        "id": "2b61a516"
      },
      "outputs": [],
      "source": [
        "# Prints top 15 relevant words for each of the 25 topics\n",
        "num_words = 15\n",
        "\n",
        "vocab = np.array(vectorizer_tf.get_feature_names_out())\n",
        "\n",
        "top_words = lambda t: [vocab[i] for i in np.argsort(t)[:-num_words-1:-1]]\n",
        "topic_words = ([top_words(t) for t in H1])\n",
        "topics = [' '.join(t) for t in topic_words]"
      ]
    },
    {
      "cell_type": "code",
      "execution_count": 37,
      "id": "f114c51c",
      "metadata": {
        "execution": {
          "iopub.execute_input": "2022-08-10T14:33:42.858845Z",
          "iopub.status.busy": "2022-08-10T14:33:42.858121Z",
          "iopub.status.idle": "2022-08-10T14:33:42.865105Z",
          "shell.execute_reply": "2022-08-10T14:33:42.863838Z"
        },
        "papermill": {
          "duration": 0.018042,
          "end_time": "2022-08-10T14:33:42.867400",
          "exception": false,
          "start_time": "2022-08-10T14:33:42.849358",
          "status": "completed"
        },
        "tags": [],
        "colab": {
          "base_uri": "https://localhost:8080/"
        },
        "id": "f114c51c",
        "outputId": "9a46ce2c-d53d-4670-fb2d-fa2d46fc97c6"
      },
      "outputs": [
        {
          "output_type": "execute_result",
          "data": {
            "text/plain": [
              "['time following really hard morning care tomorrow heart post important story high came make guess',\n",
              " 'depression make treatments years overcome sure read team anxiety honestly support children treatment diagnosed salon',\n",
              " 'actually wait start adclaidekanes tweets 5sostumblrx lies understand seen arent vine wouldnt month weeks giving',\n",
              " 'thank need fuck happy yall live birthday mind literally check free started kind coming tired',\n",
              " 'said putin change season truth veganrevoiution ways ready russian wasnt proud albino animals middle checked',\n",
              " 'like thanks sleep guys tweet baby cool maybe left fine sweet goes lady fucked young',\n",
              " 'hello right game lydiamcrtins lets zaynmalik okay head looking idea playing song listen forget ugly',\n",
              " 'today hope play damn hananyxnyx mnwild azfarovski bea_viel88 true voting took bitch minutes word death',\n",
              " 'misslusyd genevieveverso thefuxedos azarkansero tauri3l trying pretty liz_smith333 wanted house fake place account wants nothingalarming',\n",
              " 'want thing video family makes doesnt positive thinking remember center lindacurley37 aleph different addiction power',\n",
              " 'good zayn bestmusicvideo pillowtalk iheartawards home miss migraine stay wont probably aint second sounds women',\n",
              " 'better hate girl theres fucking shes hell kids 2016 used wear lmao question highzyl meetthebatman',\n",
              " 'look money away msnbc havent crazy country daily months star book voice human mark daughter',\n",
              " 'dont know twitter trump best shit think people getting joenbc lost dead michael worth propaganda',\n",
              " 'cameronhoodkin cute allthxngsozzie hair hours headache comes ashton5sos nigga complete dollahkhair brother easy history tskimoongoddess',\n",
              " 'youre think health christmas looks school russia mental light migraines leave talking obama called sick',\n",
              " 'friends says vote trumps party foxnews bellamy point headaches reason social morning_joe knew suicide dream',\n",
              " 'people realdonaldtrump stop world wish president wrong business madreeve words body city vegan negative smile',\n",
              " 'sorry white watching cause vnndrws thehill half autism repair send official_ncfc celtics perfect woman gaj_2',\n",
              " 'real tonight week believe 2017 told having beautiful isnt ones problem small final mood illness',\n",
              " 'yong wearepayting foryong whats thought haha gopaytwin tilltheend tuesyong feeling gopayt dreamteamyong dude yongkissreturnonpbb hear',\n",
              " 'life help news times black kill face stuff movie later went needs youve forever lions',\n",
              " 'feel work anytime talk paytforluckysun pain america working nanny asks parents american waiting problems telling',\n",
              " 'just love year follow going great person watch tell friend night 5sos doing theyre little',\n",
              " 'thats does come didnt things yeah mean long nice youll michael5sos funny music gets girls']"
            ]
          },
          "metadata": {},
          "execution_count": 37
        }
      ],
      "source": [
        "topics"
      ]
    },
    {
      "cell_type": "code",
      "execution_count": 38,
      "id": "011ce83b",
      "metadata": {
        "execution": {
          "iopub.execute_input": "2022-08-10T14:33:42.882768Z",
          "iopub.status.busy": "2022-08-10T14:33:42.881516Z",
          "iopub.status.idle": "2022-08-10T14:33:42.900179Z",
          "shell.execute_reply": "2022-08-10T14:33:42.898956Z"
        },
        "papermill": {
          "duration": 0.029129,
          "end_time": "2022-08-10T14:33:42.902885",
          "exception": false,
          "start_time": "2022-08-10T14:33:42.873756",
          "status": "completed"
        },
        "tags": [],
        "id": "011ce83b"
      },
      "outputs": [],
      "source": [
        "# deciding to which topic/cluster the current document belongs to (argmax)\n",
        "\n",
        "colnames = [\"Topic\" + str(i) for i in range(lda.n_components)]\n",
        "docnames = [\"Doc\" + str(i) for i in range(len(dataset.post_text))]\n",
        "\n",
        "df_doc_topic_pos = pd.DataFrame(np.round(W1,2),columns=colnames,index=docnames)\n",
        "significanttopic = np.argmax(df_doc_topic_pos.values,axis=1)\n",
        "\n",
        "df_doc_topic_pos['dominant_topic'] = significanttopic"
      ]
    },
    {
      "cell_type": "code",
      "execution_count": 39,
      "id": "04254c2f",
      "metadata": {
        "execution": {
          "iopub.execute_input": "2022-08-10T14:33:42.917402Z",
          "iopub.status.busy": "2022-08-10T14:33:42.916922Z",
          "iopub.status.idle": "2022-08-10T14:33:42.971950Z",
          "shell.execute_reply": "2022-08-10T14:33:42.970785Z"
        },
        "papermill": {
          "duration": 0.065381,
          "end_time": "2022-08-10T14:33:42.974552",
          "exception": false,
          "start_time": "2022-08-10T14:33:42.909171",
          "status": "completed"
        },
        "tags": [],
        "colab": {
          "base_uri": "https://localhost:8080/",
          "height": 487
        },
        "id": "04254c2f",
        "outputId": "1ab9d36b-4900-4a24-c443-95b74a822dad"
      },
      "outputs": [
        {
          "output_type": "execute_result",
          "data": {
            "text/plain": [
              "          Topic0  Topic1  Topic2  Topic3  Topic4  Topic5  Topic6  Topic7  \\\n",
              "Doc0        0.00    0.64    0.00    0.00    0.00    0.00    0.00    0.09   \n",
              "Doc1        0.12    0.00    0.00    0.12    0.00    0.00    0.00    0.00   \n",
              "Doc2        0.01    0.01    0.01    0.72    0.01    0.15    0.01    0.01   \n",
              "Doc3        0.00    0.09    0.00    0.00    0.00    0.00    0.00    0.00   \n",
              "Doc4        0.09    0.00    0.00    0.00    0.00    0.00    0.00    0.00   \n",
              "...          ...     ...     ...     ...     ...     ...     ...     ...   \n",
              "Doc19995    0.01    0.01    0.01    0.26    0.01    0.26    0.01    0.01   \n",
              "Doc19996    0.01    0.01    0.21    0.01    0.01    0.01    0.01    0.01   \n",
              "Doc19997    0.00    0.00    0.12    0.00    0.23    0.00    0.00    0.00   \n",
              "Doc19998    0.01    0.01    0.01    0.01    0.17    0.01    0.01    0.01   \n",
              "Doc19999    0.01    0.01    0.01    0.01    0.01    0.01    0.01    0.01   \n",
              "\n",
              "          Topic8  Topic9  ...  Topic16  Topic17  Topic18  Topic19  Topic20  \\\n",
              "Doc0        0.00    0.00  ...     0.00     0.00     0.00     0.00     0.00   \n",
              "Doc1        0.00    0.12  ...     0.00     0.00     0.00     0.00     0.00   \n",
              "Doc2        0.01    0.01  ...     0.01     0.01     0.01     0.01     0.01   \n",
              "Doc3        0.00    0.00  ...     0.00     0.00     0.73     0.00     0.00   \n",
              "Doc4        0.00    0.00  ...     0.00     0.00     0.00     0.00     0.00   \n",
              "...          ...     ...  ...      ...      ...      ...      ...      ...   \n",
              "Doc19995    0.01    0.01  ...     0.01     0.01     0.01     0.01     0.01   \n",
              "Doc19996    0.21    0.41  ...     0.01     0.01     0.01     0.01     0.01   \n",
              "Doc19997    0.12    0.00  ...     0.00     0.00     0.00     0.00     0.00   \n",
              "Doc19998    0.01    0.01  ...     0.01     0.01     0.01     0.01     0.17   \n",
              "Doc19999    0.01    0.01  ...     0.01     0.01     0.01     0.01     0.01   \n",
              "\n",
              "          Topic21  Topic22  Topic23  Topic24  dominant_topic  \n",
              "Doc0         0.00     0.00     0.10     0.09               1  \n",
              "Doc1         0.00     0.00     0.12     0.00              12  \n",
              "Doc2         0.01     0.01     0.01     0.01               3  \n",
              "Doc3         0.00     0.00     0.09     0.00              18  \n",
              "Doc4         0.25     0.00     0.50     0.00              23  \n",
              "...           ...      ...      ...      ...             ...  \n",
              "Doc19995     0.01     0.01     0.26     0.01               3  \n",
              "Doc19996     0.01     0.01     0.01     0.01               9  \n",
              "Doc19997     0.12     0.00     0.00     0.00               4  \n",
              "Doc19998     0.01     0.01     0.01     0.17              10  \n",
              "Doc19999     0.26     0.01     0.01     0.01              11  \n",
              "\n",
              "[20000 rows x 26 columns]"
            ],
            "text/html": [
              "\n",
              "  <div id=\"df-944d7436-cdb3-4a49-86ea-d56647abd928\">\n",
              "    <div class=\"colab-df-container\">\n",
              "      <div>\n",
              "<style scoped>\n",
              "    .dataframe tbody tr th:only-of-type {\n",
              "        vertical-align: middle;\n",
              "    }\n",
              "\n",
              "    .dataframe tbody tr th {\n",
              "        vertical-align: top;\n",
              "    }\n",
              "\n",
              "    .dataframe thead th {\n",
              "        text-align: right;\n",
              "    }\n",
              "</style>\n",
              "<table border=\"1\" class=\"dataframe\">\n",
              "  <thead>\n",
              "    <tr style=\"text-align: right;\">\n",
              "      <th></th>\n",
              "      <th>Topic0</th>\n",
              "      <th>Topic1</th>\n",
              "      <th>Topic2</th>\n",
              "      <th>Topic3</th>\n",
              "      <th>Topic4</th>\n",
              "      <th>Topic5</th>\n",
              "      <th>Topic6</th>\n",
              "      <th>Topic7</th>\n",
              "      <th>Topic8</th>\n",
              "      <th>Topic9</th>\n",
              "      <th>...</th>\n",
              "      <th>Topic16</th>\n",
              "      <th>Topic17</th>\n",
              "      <th>Topic18</th>\n",
              "      <th>Topic19</th>\n",
              "      <th>Topic20</th>\n",
              "      <th>Topic21</th>\n",
              "      <th>Topic22</th>\n",
              "      <th>Topic23</th>\n",
              "      <th>Topic24</th>\n",
              "      <th>dominant_topic</th>\n",
              "    </tr>\n",
              "  </thead>\n",
              "  <tbody>\n",
              "    <tr>\n",
              "      <th>Doc0</th>\n",
              "      <td>0.00</td>\n",
              "      <td>0.64</td>\n",
              "      <td>0.00</td>\n",
              "      <td>0.00</td>\n",
              "      <td>0.00</td>\n",
              "      <td>0.00</td>\n",
              "      <td>0.00</td>\n",
              "      <td>0.09</td>\n",
              "      <td>0.00</td>\n",
              "      <td>0.00</td>\n",
              "      <td>...</td>\n",
              "      <td>0.00</td>\n",
              "      <td>0.00</td>\n",
              "      <td>0.00</td>\n",
              "      <td>0.00</td>\n",
              "      <td>0.00</td>\n",
              "      <td>0.00</td>\n",
              "      <td>0.00</td>\n",
              "      <td>0.10</td>\n",
              "      <td>0.09</td>\n",
              "      <td>1</td>\n",
              "    </tr>\n",
              "    <tr>\n",
              "      <th>Doc1</th>\n",
              "      <td>0.12</td>\n",
              "      <td>0.00</td>\n",
              "      <td>0.00</td>\n",
              "      <td>0.12</td>\n",
              "      <td>0.00</td>\n",
              "      <td>0.00</td>\n",
              "      <td>0.00</td>\n",
              "      <td>0.00</td>\n",
              "      <td>0.00</td>\n",
              "      <td>0.12</td>\n",
              "      <td>...</td>\n",
              "      <td>0.00</td>\n",
              "      <td>0.00</td>\n",
              "      <td>0.00</td>\n",
              "      <td>0.00</td>\n",
              "      <td>0.00</td>\n",
              "      <td>0.00</td>\n",
              "      <td>0.00</td>\n",
              "      <td>0.12</td>\n",
              "      <td>0.00</td>\n",
              "      <td>12</td>\n",
              "    </tr>\n",
              "    <tr>\n",
              "      <th>Doc2</th>\n",
              "      <td>0.01</td>\n",
              "      <td>0.01</td>\n",
              "      <td>0.01</td>\n",
              "      <td>0.72</td>\n",
              "      <td>0.01</td>\n",
              "      <td>0.15</td>\n",
              "      <td>0.01</td>\n",
              "      <td>0.01</td>\n",
              "      <td>0.01</td>\n",
              "      <td>0.01</td>\n",
              "      <td>...</td>\n",
              "      <td>0.01</td>\n",
              "      <td>0.01</td>\n",
              "      <td>0.01</td>\n",
              "      <td>0.01</td>\n",
              "      <td>0.01</td>\n",
              "      <td>0.01</td>\n",
              "      <td>0.01</td>\n",
              "      <td>0.01</td>\n",
              "      <td>0.01</td>\n",
              "      <td>3</td>\n",
              "    </tr>\n",
              "    <tr>\n",
              "      <th>Doc3</th>\n",
              "      <td>0.00</td>\n",
              "      <td>0.09</td>\n",
              "      <td>0.00</td>\n",
              "      <td>0.00</td>\n",
              "      <td>0.00</td>\n",
              "      <td>0.00</td>\n",
              "      <td>0.00</td>\n",
              "      <td>0.00</td>\n",
              "      <td>0.00</td>\n",
              "      <td>0.00</td>\n",
              "      <td>...</td>\n",
              "      <td>0.00</td>\n",
              "      <td>0.00</td>\n",
              "      <td>0.73</td>\n",
              "      <td>0.00</td>\n",
              "      <td>0.00</td>\n",
              "      <td>0.00</td>\n",
              "      <td>0.00</td>\n",
              "      <td>0.09</td>\n",
              "      <td>0.00</td>\n",
              "      <td>18</td>\n",
              "    </tr>\n",
              "    <tr>\n",
              "      <th>Doc4</th>\n",
              "      <td>0.09</td>\n",
              "      <td>0.00</td>\n",
              "      <td>0.00</td>\n",
              "      <td>0.00</td>\n",
              "      <td>0.00</td>\n",
              "      <td>0.00</td>\n",
              "      <td>0.00</td>\n",
              "      <td>0.00</td>\n",
              "      <td>0.00</td>\n",
              "      <td>0.00</td>\n",
              "      <td>...</td>\n",
              "      <td>0.00</td>\n",
              "      <td>0.00</td>\n",
              "      <td>0.00</td>\n",
              "      <td>0.00</td>\n",
              "      <td>0.00</td>\n",
              "      <td>0.25</td>\n",
              "      <td>0.00</td>\n",
              "      <td>0.50</td>\n",
              "      <td>0.00</td>\n",
              "      <td>23</td>\n",
              "    </tr>\n",
              "    <tr>\n",
              "      <th>...</th>\n",
              "      <td>...</td>\n",
              "      <td>...</td>\n",
              "      <td>...</td>\n",
              "      <td>...</td>\n",
              "      <td>...</td>\n",
              "      <td>...</td>\n",
              "      <td>...</td>\n",
              "      <td>...</td>\n",
              "      <td>...</td>\n",
              "      <td>...</td>\n",
              "      <td>...</td>\n",
              "      <td>...</td>\n",
              "      <td>...</td>\n",
              "      <td>...</td>\n",
              "      <td>...</td>\n",
              "      <td>...</td>\n",
              "      <td>...</td>\n",
              "      <td>...</td>\n",
              "      <td>...</td>\n",
              "      <td>...</td>\n",
              "      <td>...</td>\n",
              "    </tr>\n",
              "    <tr>\n",
              "      <th>Doc19995</th>\n",
              "      <td>0.01</td>\n",
              "      <td>0.01</td>\n",
              "      <td>0.01</td>\n",
              "      <td>0.26</td>\n",
              "      <td>0.01</td>\n",
              "      <td>0.26</td>\n",
              "      <td>0.01</td>\n",
              "      <td>0.01</td>\n",
              "      <td>0.01</td>\n",
              "      <td>0.01</td>\n",
              "      <td>...</td>\n",
              "      <td>0.01</td>\n",
              "      <td>0.01</td>\n",
              "      <td>0.01</td>\n",
              "      <td>0.01</td>\n",
              "      <td>0.01</td>\n",
              "      <td>0.01</td>\n",
              "      <td>0.01</td>\n",
              "      <td>0.26</td>\n",
              "      <td>0.01</td>\n",
              "      <td>3</td>\n",
              "    </tr>\n",
              "    <tr>\n",
              "      <th>Doc19996</th>\n",
              "      <td>0.01</td>\n",
              "      <td>0.01</td>\n",
              "      <td>0.21</td>\n",
              "      <td>0.01</td>\n",
              "      <td>0.01</td>\n",
              "      <td>0.01</td>\n",
              "      <td>0.01</td>\n",
              "      <td>0.01</td>\n",
              "      <td>0.21</td>\n",
              "      <td>0.41</td>\n",
              "      <td>...</td>\n",
              "      <td>0.01</td>\n",
              "      <td>0.01</td>\n",
              "      <td>0.01</td>\n",
              "      <td>0.01</td>\n",
              "      <td>0.01</td>\n",
              "      <td>0.01</td>\n",
              "      <td>0.01</td>\n",
              "      <td>0.01</td>\n",
              "      <td>0.01</td>\n",
              "      <td>9</td>\n",
              "    </tr>\n",
              "    <tr>\n",
              "      <th>Doc19997</th>\n",
              "      <td>0.00</td>\n",
              "      <td>0.00</td>\n",
              "      <td>0.12</td>\n",
              "      <td>0.00</td>\n",
              "      <td>0.23</td>\n",
              "      <td>0.00</td>\n",
              "      <td>0.00</td>\n",
              "      <td>0.00</td>\n",
              "      <td>0.12</td>\n",
              "      <td>0.00</td>\n",
              "      <td>...</td>\n",
              "      <td>0.00</td>\n",
              "      <td>0.00</td>\n",
              "      <td>0.00</td>\n",
              "      <td>0.00</td>\n",
              "      <td>0.00</td>\n",
              "      <td>0.12</td>\n",
              "      <td>0.00</td>\n",
              "      <td>0.00</td>\n",
              "      <td>0.00</td>\n",
              "      <td>4</td>\n",
              "    </tr>\n",
              "    <tr>\n",
              "      <th>Doc19998</th>\n",
              "      <td>0.01</td>\n",
              "      <td>0.01</td>\n",
              "      <td>0.01</td>\n",
              "      <td>0.01</td>\n",
              "      <td>0.17</td>\n",
              "      <td>0.01</td>\n",
              "      <td>0.01</td>\n",
              "      <td>0.01</td>\n",
              "      <td>0.01</td>\n",
              "      <td>0.01</td>\n",
              "      <td>...</td>\n",
              "      <td>0.01</td>\n",
              "      <td>0.01</td>\n",
              "      <td>0.01</td>\n",
              "      <td>0.01</td>\n",
              "      <td>0.17</td>\n",
              "      <td>0.01</td>\n",
              "      <td>0.01</td>\n",
              "      <td>0.01</td>\n",
              "      <td>0.17</td>\n",
              "      <td>10</td>\n",
              "    </tr>\n",
              "    <tr>\n",
              "      <th>Doc19999</th>\n",
              "      <td>0.01</td>\n",
              "      <td>0.01</td>\n",
              "      <td>0.01</td>\n",
              "      <td>0.01</td>\n",
              "      <td>0.01</td>\n",
              "      <td>0.01</td>\n",
              "      <td>0.01</td>\n",
              "      <td>0.01</td>\n",
              "      <td>0.01</td>\n",
              "      <td>0.01</td>\n",
              "      <td>...</td>\n",
              "      <td>0.01</td>\n",
              "      <td>0.01</td>\n",
              "      <td>0.01</td>\n",
              "      <td>0.01</td>\n",
              "      <td>0.01</td>\n",
              "      <td>0.26</td>\n",
              "      <td>0.01</td>\n",
              "      <td>0.01</td>\n",
              "      <td>0.01</td>\n",
              "      <td>11</td>\n",
              "    </tr>\n",
              "  </tbody>\n",
              "</table>\n",
              "<p>20000 rows × 26 columns</p>\n",
              "</div>\n",
              "      <button class=\"colab-df-convert\" onclick=\"convertToInteractive('df-944d7436-cdb3-4a49-86ea-d56647abd928')\"\n",
              "              title=\"Convert this dataframe to an interactive table.\"\n",
              "              style=\"display:none;\">\n",
              "        \n",
              "  <svg xmlns=\"http://www.w3.org/2000/svg\" height=\"24px\"viewBox=\"0 0 24 24\"\n",
              "       width=\"24px\">\n",
              "    <path d=\"M0 0h24v24H0V0z\" fill=\"none\"/>\n",
              "    <path d=\"M18.56 5.44l.94 2.06.94-2.06 2.06-.94-2.06-.94-.94-2.06-.94 2.06-2.06.94zm-11 1L8.5 8.5l.94-2.06 2.06-.94-2.06-.94L8.5 2.5l-.94 2.06-2.06.94zm10 10l.94 2.06.94-2.06 2.06-.94-2.06-.94-.94-2.06-.94 2.06-2.06.94z\"/><path d=\"M17.41 7.96l-1.37-1.37c-.4-.4-.92-.59-1.43-.59-.52 0-1.04.2-1.43.59L10.3 9.45l-7.72 7.72c-.78.78-.78 2.05 0 2.83L4 21.41c.39.39.9.59 1.41.59.51 0 1.02-.2 1.41-.59l7.78-7.78 2.81-2.81c.8-.78.8-2.07 0-2.86zM5.41 20L4 18.59l7.72-7.72 1.47 1.35L5.41 20z\"/>\n",
              "  </svg>\n",
              "      </button>\n",
              "      \n",
              "  <style>\n",
              "    .colab-df-container {\n",
              "      display:flex;\n",
              "      flex-wrap:wrap;\n",
              "      gap: 12px;\n",
              "    }\n",
              "\n",
              "    .colab-df-convert {\n",
              "      background-color: #E8F0FE;\n",
              "      border: none;\n",
              "      border-radius: 50%;\n",
              "      cursor: pointer;\n",
              "      display: none;\n",
              "      fill: #1967D2;\n",
              "      height: 32px;\n",
              "      padding: 0 0 0 0;\n",
              "      width: 32px;\n",
              "    }\n",
              "\n",
              "    .colab-df-convert:hover {\n",
              "      background-color: #E2EBFA;\n",
              "      box-shadow: 0px 1px 2px rgba(60, 64, 67, 0.3), 0px 1px 3px 1px rgba(60, 64, 67, 0.15);\n",
              "      fill: #174EA6;\n",
              "    }\n",
              "\n",
              "    [theme=dark] .colab-df-convert {\n",
              "      background-color: #3B4455;\n",
              "      fill: #D2E3FC;\n",
              "    }\n",
              "\n",
              "    [theme=dark] .colab-df-convert:hover {\n",
              "      background-color: #434B5C;\n",
              "      box-shadow: 0px 1px 3px 1px rgba(0, 0, 0, 0.15);\n",
              "      filter: drop-shadow(0px 1px 2px rgba(0, 0, 0, 0.3));\n",
              "      fill: #FFFFFF;\n",
              "    }\n",
              "  </style>\n",
              "\n",
              "      <script>\n",
              "        const buttonEl =\n",
              "          document.querySelector('#df-944d7436-cdb3-4a49-86ea-d56647abd928 button.colab-df-convert');\n",
              "        buttonEl.style.display =\n",
              "          google.colab.kernel.accessAllowed ? 'block' : 'none';\n",
              "\n",
              "        async function convertToInteractive(key) {\n",
              "          const element = document.querySelector('#df-944d7436-cdb3-4a49-86ea-d56647abd928');\n",
              "          const dataTable =\n",
              "            await google.colab.kernel.invokeFunction('convertToInteractive',\n",
              "                                                     [key], {});\n",
              "          if (!dataTable) return;\n",
              "\n",
              "          const docLinkHtml = 'Like what you see? Visit the ' +\n",
              "            '<a target=\"_blank\" href=https://colab.research.google.com/notebooks/data_table.ipynb>data table notebook</a>'\n",
              "            + ' to learn more about interactive tables.';\n",
              "          element.innerHTML = '';\n",
              "          dataTable['output_type'] = 'display_data';\n",
              "          await google.colab.output.renderOutput(dataTable, element);\n",
              "          const docLink = document.createElement('div');\n",
              "          docLink.innerHTML = docLinkHtml;\n",
              "          element.appendChild(docLink);\n",
              "        }\n",
              "      </script>\n",
              "    </div>\n",
              "  </div>\n",
              "  "
            ]
          },
          "metadata": {},
          "execution_count": 39
        }
      ],
      "source": [
        "# Final feautures\n",
        "\n",
        "df_doc_topic_pos"
      ]
    },
    {
      "cell_type": "code",
      "execution_count": 60,
      "id": "33747735",
      "metadata": {
        "execution": {
          "iopub.execute_input": "2022-08-10T14:33:42.990472Z",
          "iopub.status.busy": "2022-08-10T14:33:42.990019Z",
          "iopub.status.idle": "2022-08-10T14:33:42.998286Z",
          "shell.execute_reply": "2022-08-10T14:33:42.996645Z"
        },
        "papermill": {
          "duration": 0.019575,
          "end_time": "2022-08-10T14:33:43.001246",
          "exception": false,
          "start_time": "2022-08-10T14:33:42.981671",
          "status": "completed"
        },
        "tags": [],
        "colab": {
          "base_uri": "https://localhost:8080/"
        },
        "id": "33747735",
        "outputId": "6f21a630-c341-49c2-c1c9-59b2db7d7579"
      },
      "outputs": [
        {
          "output_type": "execute_result",
          "data": {
            "text/plain": [
              "Index(['Topic0', 'Topic1', 'Topic2', 'Topic3', 'Topic4', 'Topic5', 'Topic6',\n",
              "       'Topic7', 'Topic8', 'Topic9', 'Topic10', 'Topic11', 'Topic12',\n",
              "       'Topic13', 'Topic14', 'Topic15', 'Topic16', 'Topic17', 'Topic18',\n",
              "       'Topic19', 'Topic20', 'Topic21', 'Topic22', 'Topic23', 'Topic24',\n",
              "       'dominant_topic'],\n",
              "      dtype='object')"
            ]
          },
          "metadata": {},
          "execution_count": 60
        }
      ],
      "source": [
        "df_doc_topic_pos.columns"
      ]
    },
    {
      "cell_type": "code",
      "execution_count": 62,
      "id": "e31afdea",
      "metadata": {
        "execution": {
          "iopub.execute_input": "2022-08-10T14:33:43.017966Z",
          "iopub.status.busy": "2022-08-10T14:33:43.017520Z",
          "iopub.status.idle": "2022-08-10T14:33:43.310693Z",
          "shell.execute_reply": "2022-08-10T14:33:43.309636Z"
        },
        "papermill": {
          "duration": 0.304586,
          "end_time": "2022-08-10T14:33:43.313357",
          "exception": false,
          "start_time": "2022-08-10T14:33:43.008771",
          "status": "completed"
        },
        "tags": [],
        "id": "e31afdea"
      },
      "outputs": [],
      "source": [
        "df_doc_topic_pos.to_csv(\"lda_features.csv\")"
      ]
    },
    {
      "cell_type": "code",
      "source": [
        "df=pd.read_csv('lda_features.csv')"
      ],
      "metadata": {
        "id": "K4pDuDFYiAIi"
      },
      "id": "K4pDuDFYiAIi",
      "execution_count": 63,
      "outputs": []
    },
    {
      "cell_type": "markdown",
      "id": "e1da42e2",
      "metadata": {
        "papermill": {
          "duration": 0.00739,
          "end_time": "2022-08-10T14:33:43.327789",
          "exception": false,
          "start_time": "2022-08-10T14:33:43.320399",
          "status": "completed"
        },
        "tags": [],
        "id": "e1da42e2"
      },
      "source": [
        "### Visualizing LDA Features"
      ]
    },
    {
      "cell_type": "code",
      "source": [
        "!pip install pyLDAvis"
      ],
      "metadata": {
        "colab": {
          "base_uri": "https://localhost:8080/"
        },
        "id": "-iO91ZaTkX9B",
        "outputId": "f6129c48-8df2-430f-f97f-6a2f0eea4d5e"
      },
      "id": "-iO91ZaTkX9B",
      "execution_count": 71,
      "outputs": [
        {
          "output_type": "stream",
          "name": "stdout",
          "text": [
            "Looking in indexes: https://pypi.org/simple, https://us-python.pkg.dev/colab-wheels/public/simple/\n",
            "Requirement already satisfied: pyLDAvis in /usr/local/lib/python3.7/dist-packages (3.3.1)\n",
            "Requirement already satisfied: gensim in /usr/local/lib/python3.7/dist-packages (from pyLDAvis) (3.6.0)\n",
            "Requirement already satisfied: sklearn in /usr/local/lib/python3.7/dist-packages (from pyLDAvis) (0.0)\n",
            "Requirement already satisfied: numexpr in /usr/local/lib/python3.7/dist-packages (from pyLDAvis) (2.8.3)\n",
            "Requirement already satisfied: scikit-learn in /usr/local/lib/python3.7/dist-packages (from pyLDAvis) (1.0.2)\n",
            "Requirement already satisfied: setuptools in /usr/local/lib/python3.7/dist-packages (from pyLDAvis) (57.4.0)\n",
            "Requirement already satisfied: numpy>=1.20.0 in /usr/local/lib/python3.7/dist-packages (from pyLDAvis) (1.21.6)\n",
            "Requirement already satisfied: pandas>=1.2.0 in /usr/local/lib/python3.7/dist-packages (from pyLDAvis) (1.3.5)\n",
            "Requirement already satisfied: joblib in /usr/local/lib/python3.7/dist-packages (from pyLDAvis) (1.1.0)\n",
            "Requirement already satisfied: funcy in /usr/local/lib/python3.7/dist-packages (from pyLDAvis) (1.17)\n",
            "Requirement already satisfied: future in /usr/local/lib/python3.7/dist-packages (from pyLDAvis) (0.16.0)\n",
            "Requirement already satisfied: scipy in /usr/local/lib/python3.7/dist-packages (from pyLDAvis) (1.7.3)\n",
            "Requirement already satisfied: jinja2 in /usr/local/lib/python3.7/dist-packages (from pyLDAvis) (2.11.3)\n",
            "Requirement already satisfied: pytz>=2017.3 in /usr/local/lib/python3.7/dist-packages (from pandas>=1.2.0->pyLDAvis) (2022.2.1)\n",
            "Requirement already satisfied: python-dateutil>=2.7.3 in /usr/local/lib/python3.7/dist-packages (from pandas>=1.2.0->pyLDAvis) (2.8.2)\n",
            "Requirement already satisfied: six>=1.5 in /usr/local/lib/python3.7/dist-packages (from python-dateutil>=2.7.3->pandas>=1.2.0->pyLDAvis) (1.15.0)\n",
            "Requirement already satisfied: smart-open>=1.2.1 in /usr/local/lib/python3.7/dist-packages (from gensim->pyLDAvis) (5.2.1)\n",
            "Requirement already satisfied: MarkupSafe>=0.23 in /usr/local/lib/python3.7/dist-packages (from jinja2->pyLDAvis) (2.0.1)\n",
            "Requirement already satisfied: packaging in /usr/local/lib/python3.7/dist-packages (from numexpr->pyLDAvis) (21.3)\n",
            "Requirement already satisfied: pyparsing!=3.0.5,>=2.0.2 in /usr/local/lib/python3.7/dist-packages (from packaging->numexpr->pyLDAvis) (3.0.9)\n",
            "Requirement already satisfied: threadpoolctl>=2.0.0 in /usr/local/lib/python3.7/dist-packages (from scikit-learn->pyLDAvis) (3.1.0)\n"
          ]
        }
      ]
    },
    {
      "cell_type": "code",
      "source": [
        "import pyLDAvis.gensim_models"
      ],
      "metadata": {
        "id": "mzNTTDfek9_a"
      },
      "id": "mzNTTDfek9_a",
      "execution_count": 72,
      "outputs": []
    },
    {
      "cell_type": "code",
      "execution_count": 73,
      "id": "54524877",
      "metadata": {
        "execution": {
          "iopub.execute_input": "2022-08-10T14:33:43.344076Z",
          "iopub.status.busy": "2022-08-10T14:33:43.343620Z",
          "iopub.status.idle": "2022-08-10T14:33:47.970875Z",
          "shell.execute_reply": "2022-08-10T14:33:47.969791Z"
        },
        "papermill": {
          "duration": 4.641986,
          "end_time": "2022-08-10T14:33:47.976947",
          "exception": false,
          "start_time": "2022-08-10T14:33:43.334961",
          "status": "completed"
        },
        "tags": [],
        "colab": {
          "base_uri": "https://localhost:8080/",
          "height": 953
        },
        "id": "54524877",
        "outputId": "7c6fe10b-a033-4850-fd7f-b3647075b054"
      },
      "outputs": [
        {
          "output_type": "stream",
          "name": "stderr",
          "text": [
            "/usr/local/lib/python3.7/dist-packages/sklearn/utils/deprecation.py:87: FutureWarning: Function get_feature_names is deprecated; get_feature_names is deprecated in 1.0 and will be removed in 1.2. Please use get_feature_names_out instead.\n",
            "  warnings.warn(msg, category=FutureWarning)\n",
            "/usr/local/lib/python3.7/dist-packages/pyLDAvis/_prepare.py:247: FutureWarning: In a future version of pandas all arguments of DataFrame.drop except for the argument 'labels' will be keyword-only\n",
            "  by='saliency', ascending=False).head(R).drop('saliency', 1)\n"
          ]
        },
        {
          "output_type": "execute_result",
          "data": {
            "text/plain": [
              "PreparedData(topic_coordinates=              x         y  topics  cluster      Freq\n",
              "topic                                               \n",
              "23     0.048217  0.385848       1        1  6.560847\n",
              "1     -0.048567  0.078206       2        1  5.511444\n",
              "13     0.332768 -0.075212       3        1  5.397265\n",
              "0     -0.054692  0.025251       4        1  4.278613\n",
              "15     0.168336  0.055061       5        1  4.241964\n",
              "17     0.213660 -0.084297       6        1  4.240805\n",
              "10    -0.002080  0.148882       7        1  4.201341\n",
              "8     -0.040196 -0.029079       8        1  4.181856\n",
              "3     -0.017427 -0.024400       9        1  4.141084\n",
              "9     -0.057762 -0.047214      10        1  4.090237\n",
              "24    -0.040862 -0.037069      11        1  3.964919\n",
              "21    -0.053771 -0.033479      12        1  3.939935\n",
              "5     -0.049431 -0.027647      13        1  3.903849\n",
              "20    -0.051364 -0.032613      14        1  3.873928\n",
              "22    -0.028817 -0.034923      15        1  3.811791\n",
              "7     -0.031204 -0.031309      16        1  3.774802\n",
              "11    -0.028019  0.003455      17        1  3.692697\n",
              "6     -0.041056 -0.021000      18        1  3.649225\n",
              "18    -0.042373 -0.031478      19        1  3.484192\n",
              "12    -0.039211 -0.029187      20        1  3.383359\n",
              "19    -0.014935  0.015585      21        1  3.313341\n",
              "16     0.000742 -0.049786      22        1  3.216400\n",
              "4     -0.039203 -0.043574      23        1  3.213685\n",
              "2     -0.041509 -0.041067      24        1  3.108312\n",
              "14    -0.041244 -0.038955      25        1  2.824109, topic_info=             Term        Freq       Total Category  logprob  loglift\n",
              "4931         like  887.000000  887.000000  Default  30.0000  30.0000\n",
              "4582         just  840.000000  840.000000  Default  29.0000  29.0000\n",
              "2593         dont  753.000000  753.000000  Default  28.0000  28.0000\n",
              "2393   depression  627.000000  627.000000  Default  27.0000  27.0000\n",
              "4713         know  506.000000  506.000000  Default  26.0000  26.0000\n",
              "...           ...         ...         ...      ...      ...      ...\n",
              "9069       turned   15.157006   16.049460  Topic25  -5.2362   3.5098\n",
              "611    ashton5sos   38.948983   47.971773  Topic25  -4.2924   3.3586\n",
              "2576  dollahkhair   28.507457   43.939733  Topic25  -4.6045   3.1343\n",
              "326         aleph   18.062762  123.780312  Topic25  -5.0608   1.6423\n",
              "9972        zayin   15.801282   25.874581  Topic25  -5.1946   3.0738\n",
              "\n",
              "[822 rows x 6 columns], token_table=      Topic      Freq       Term\n",
              "term                            \n",
              "62       17  0.990409       2016\n",
              "63       21  0.930797       2017\n",
              "63       25  0.068107       2017\n",
              "85        1  0.858751       5sos\n",
              "85        7  0.140658       5sos\n",
              "...     ...       ...        ...\n",
              "9958     12  0.970508      youve\n",
              "9972      3  0.347832      zayin\n",
              "9972     25  0.618368      zayin\n",
              "9973      7  0.996516       zayn\n",
              "9974     18  0.993820  zaynmalik\n",
              "\n",
              "[824 rows x 3 columns], R=30, lambda_step=0.01, plot_opts={'xlab': 'PC1', 'ylab': 'PC2'}, topic_order=[24, 2, 14, 1, 16, 18, 11, 9, 4, 10, 25, 22, 6, 21, 23, 8, 12, 7, 19, 13, 20, 17, 5, 3, 15])"
            ],
            "text/html": [
              "\n",
              "<link rel=\"stylesheet\" type=\"text/css\" href=\"https://cdn.jsdelivr.net/gh/bmabey/pyLDAvis@3.3.1/pyLDAvis/js/ldavis.v1.0.0.css\">\n",
              "\n",
              "\n",
              "<div id=\"ldavis_el571401654632950567307923742\"></div>\n",
              "<script type=\"text/javascript\">\n",
              "\n",
              "var ldavis_el571401654632950567307923742_data = {\"mdsDat\": {\"x\": [0.04821718401879462, -0.04856729988640584, 0.33276797992243085, -0.054692461163456274, 0.16833634898180289, 0.21365951162731653, -0.0020803254003292485, -0.04019557347148428, -0.017426970776407615, -0.057761826231145515, -0.04086205596881129, -0.05377109665517548, -0.049431378645343006, -0.05136379540123861, -0.028816593291432224, -0.031203750491972847, -0.0280194685667594, -0.041056294115429826, -0.04237289680724648, -0.03921066556591598, -0.014935016835926802, 0.0007422155917748187, -0.03920272978931312, -0.04150908259963386, -0.04124395847869267], \"y\": [0.3858482042997295, 0.07820647830618017, -0.07521152718678763, 0.02525131151622412, 0.05506103054292526, -0.08429733970129114, 0.14888166265612476, -0.02907901721975088, -0.02440010178533405, -0.04721382671262368, -0.03706891343075785, -0.03347942413113731, -0.027646809485046664, -0.03261316013768206, -0.03492252158942871, -0.03130938202275662, 0.003454591066187855, -0.020999652190614528, -0.031478288177100515, -0.029186929639377024, 0.01558527094159786, -0.04978568153091623, -0.043573825757250585, -0.04106666988148427, -0.03895547874962961], \"topics\": [1, 2, 3, 4, 5, 6, 7, 8, 9, 10, 11, 12, 13, 14, 15, 16, 17, 18, 19, 20, 21, 22, 23, 24, 25], \"cluster\": [1, 1, 1, 1, 1, 1, 1, 1, 1, 1, 1, 1, 1, 1, 1, 1, 1, 1, 1, 1, 1, 1, 1, 1, 1], \"Freq\": [6.560846673872679, 5.511443974381305, 5.397265431597821, 4.278613303102822, 4.24196448009674, 4.240805323210039, 4.20134087756268, 4.181855805315565, 4.1410836806593405, 4.0902370100472965, 3.964918612941594, 3.9399347280824677, 3.903849369686014, 3.873928269282998, 3.8117909205121494, 3.7748022580011016, 3.6926974896292917, 3.6492246171903164, 3.4841915527337877, 3.3833590428780993, 3.313340937047294, 3.2163998853507105, 3.213684934299953, 3.108311704563689, 2.824109117954245]}, \"tinfo\": {\"Term\": [\"like\", \"just\", \"dont\", \"depression\", \"know\", \"love\", \"thank\", \"people\", \"good\", \"youre\", \"twitter\", \"time\", \"need\", \"want\", \"life\", \"yong\", \"thats\", \"trump\", \"misslusyd\", \"following\", \"hello\", \"really\", \"think\", \"thanks\", \"today\", \"fuck\", \"realdonaldtrump\", \"right\", \"make\", \"look\", \"just\", \"love\", \"year\", \"follow\", \"great\", \"person\", \"watch\", \"tell\", \"friend\", \"night\", \"little\", \"stupid\", \"making\", \"amazing\", \"thankyou\", \"food\", \"past\", \"taylor\", \"hurt\", \"absolutely\", \"eating\", \"needed\", \"fuckin\", \"boss\", \"congrats\", \"picture\", \"goodnight\", \"cover\", \"career\", \"alright\", \"going\", \"5sos\", \"theyre\", \"doing\", \"days\", \"calcalhughes\", \"depression\", \"treatments\", \"years\", \"overcome\", \"sure\", \"read\", \"team\", \"honestly\", \"support\", \"children\", \"diagnosed\", \"salon\", \"fight\", \"adult\", \"taking\", \"child\", \"difference\", \"john\", \"sense\", \"fact\", \"join\", \"case\", \"using\", \"space\", \"smart\", \"trust\", \"service\", \"class\", \"fall\", \"happiness\", \"make\", \"anxiety\", \"treatment\", \"dont\", \"know\", \"twitter\", \"trump\", \"best\", \"shit\", \"getting\", \"lost\", \"dead\", \"michael\", \"worth\", \"propaganda\", \"jesus\", \"single\", \"means\", \"lose\", \"patriots\", \"dick\", \"matter\", \"wonder\", \"scarborough\", \"joke\", \"company\", \"instagram\", \"deserve\", \"facebook\", \"advice\", \"bring\", \"liked\", \"weve\", \"joenbc\", \"think\", \"people\", \"time\", \"following\", \"really\", \"hard\", \"morning\", \"care\", \"tomorrow\", \"heart\", \"post\", \"important\", \"story\", \"high\", \"came\", \"guess\", \"asked\", \"rhaeman\", \"dumb\", \"yongstersofc\", \"national\", \"wonderful\", \"wall\", \"entire\", \"chicken\", \"couple\", \"hand\", \"motivation\", \"points\", \"blog\", \"coffee\", \"anyti\", \"make\", \"late\", \"having\", \"youre\", \"health\", \"christmas\", \"looks\", \"school\", \"russia\", \"light\", \"migraines\", \"leave\", \"talking\", \"obama\", \"called\", \"sick\", \"therapy\", \"merry\", \"living\", \"answer\", \"state\", \"level\", \"broken\", \"drive\", \"scene\", \"course\", \"count\", \"internet\", \"turn\", \"million\", \"success\", \"election\", \"road\", \"think\", \"mental\", \"going\", \"realdonaldtrump\", \"stop\", \"world\", \"wish\", \"president\", \"wrong\", \"business\", \"madreeve\", \"words\", \"body\", \"city\", \"vegan\", \"negative\", \"smile\", \"office\", \"boys\", \"outside\", \"college\", \"helping\", \"heres\", \"tips\", \"works\", \"skin\", \"propagandist\", \"sunglasses\", \"disorders\", \"issues\", \"lives\", \"soul\", \"christ\", \"automatically\", \"realdonaldtrump\", \"people\", \"good\", \"zayn\", \"bestmusicvideo\", \"pillowtalk\", \"iheartawards\", \"home\", \"miss\", \"migraine\", \"stay\", \"wont\", \"probably\", \"aint\", \"second\", \"sounds\", \"women\", \"finally\", \"feels\", \"soon\", \"safe\", \"glad\", \"learn\", \"type\", \"hahaha\", \"holy\", \"walk\", \"control\", \"worst\", \"inside\", \"enjoy\", \"possible\", \"strong\", \"misslusyd\", \"genevieveverso\", \"thefuxedos\", \"azarkansero\", \"tauri3l\", \"trying\", \"pretty\", \"liz_smith333\", \"wanted\", \"house\", \"fake\", \"place\", \"account\", \"wants\", \"nothingalarming\", \"phone\", \"kinda\", \"door\", \"step\", \"meet\", \"force\", \"aartorias\", \"shakespeare\", \"number\", \"cleaning\", \"straight\", \"pendant_kun\", \"sessions\", \"public\", \"shot\", \"thank\", \"need\", \"fuck\", \"happy\", \"yall\", \"live\", \"birthday\", \"mind\", \"literally\", \"check\", \"free\", \"started\", \"kind\", \"coming\", \"tired\", \"happened\", \"brain\", \"size\", \"personal\", \"kat_mcnamara\", \"everybody\", \"design\", \"weekend\", \"ihsnzlkfle\", \"shut\", \"monday\", \"youtube\", \"doctor\", \"lots\", \"listening\", \"chris_villain\", \"want\", \"thing\", \"video\", \"family\", \"makes\", \"doesnt\", \"positive\", \"thinking\", \"remember\", \"center\", \"different\", \"addiction\", \"power\", \"favorite\", \"lindacurley37\", \"awesome\", \"break\", \"tried\", \"heard\", \"special\", \"happen\", \"dark\", \"games\", \"plan\", \"fighting\", \"grow\", \"watched\", \"itll\", \"series\", \"questions\", \"maddytran1\", \"aleph\", \"lightsaber\", \"thats\", \"does\", \"come\", \"didnt\", \"things\", \"yeah\", \"mean\", \"long\", \"nice\", \"youll\", \"michael5sos\", \"funny\", \"music\", \"girls\", \"saying\", \"retweet\", \"instead\", \"thoughts\", \"self\", \"yesterday\", \"knows\", \"beat\", \"luke\", \"laugh\", \"moimori\", \"swear\", \"lead\", \"exactly\", \"fitness\", \"shouldnt\", \"gets\", \"adclaidekanes\", \"life\", \"help\", \"news\", \"times\", \"black\", \"kill\", \"face\", \"stuff\", \"movie\", \"later\", \"went\", \"needs\", \"youve\", \"forever\", \"lions\", \"killed\", \"whos\", \"text\", \"fool\", \"decided\", \"article\", \"write\", \"online\", \"stand\", \"green\", \"friday\", \"drink\", \"drinking\", \"dental\", \"close\", \"like\", \"thanks\", \"sleep\", \"guys\", \"tweet\", \"baby\", \"cool\", \"maybe\", \"left\", \"fine\", \"sweet\", \"goes\", \"lady\", \"fucked\", \"young\", \"furiously\", \"depressed\", \"enemies\", \"dreams\", \"kidding\", \"taken\", \"sound\", \"hospital\", \"worry\", \"warm\", \"scared\", \"park\", \"magic\", \"saved\", \"seeing\", \"aleph\", \"yong\", \"wearepayting\", \"foryong\", \"whats\", \"thought\", \"haha\", \"gopaytwin\", \"tilltheend\", \"tuesyong\", \"feeling\", \"dude\", \"gopayt\", \"dreamteamyong\", \"yongkissreturnonpbb\", \"hear\", \"fans\", \"hour\", \"fivereasonstofollow\", \"backtomanila\", \"ourfourthluckysun\", \"rest\", \"datujoe143\", \"deal\", \"tweeting\", \"tyleroakley\", \"sending\", \"relationship\", \"paytforyourdreams\", \"james\", \"chance\", \"feel\", \"work\", \"anytime\", \"talk\", \"paytforluckysun\", \"pain\", \"america\", \"working\", \"nanny\", \"asks\", \"parents\", \"american\", \"waiting\", \"problems\", \"telling\", \"press\", \"especially\", \"weird\", \"hold\", \"disc\", \"rich\", \"speakerryan\", \"poor\", \"south\", \"daniel_akhtar\", \"politicususa\", \"died\", \"present\", \"explain\", \"excuse\", \"today\", \"hope\", \"play\", \"damn\", \"hananyxnyx\", \"azfarovski\", \"bea_viel88\", \"mnwild\", \"true\", \"voting\", \"took\", \"bitch\", \"minutes\", \"word\", \"death\", \"mostrequestlive\", \"takes\", \"mostrequestedlive\", \"period\", \"donald\", \"idontwannaliveforever\", \"pick\", \"early\", \"feelings\", \"starting\", \"moving\", \"super\", \"putting\", \"onairromeo\", \"medicine\", \"better\", \"hate\", \"girl\", \"theres\", \"fucking\", \"shes\", \"hell\", \"kids\", \"2016\", \"used\", \"wear\", \"lmao\", \"question\", \"highzyl\", \"meetthebatman\", \"gave\", \"welcome\", \"reading\", \"ahmdariff\", \"seriously\", \"study\", \"calum5sos\", \"crap\", \"crying\", \"luck\", \"piece\", \"agree\", \"asking\", \"ball\", \"dinner\", \"5sos_daily\", \"hello\", \"right\", \"lydiamcrtins\", \"lets\", \"zaynmalik\", \"game\", \"okay\", \"head\", \"looking\", \"idea\", \"playing\", \"song\", \"listen\", \"forget\", \"ugly\", \"eyes\", \"anyways\", \"football\", \"louis\", \"pizza\", \"north\", \"judge\", \"report\", \"bout\", \"wearing\", \"harry\", \"character\", \"okhan24\", \"gives\", \"player\", \"sorry\", \"white\", \"watching\", \"cause\", \"vnndrws\", \"thehill\", \"half\", \"autism\", \"repair\", \"send\", \"official_ncfc\", \"celtics\", \"perfect\", \"woman\", \"gaj_2\", \"sale\", \"nbavote\", \"unless\", \"save\", \"date\", \"able\", \"abuse\", \"nocturnaltapir\", \"fast\", \"william\", \"cure\", \"store\", \"pray\", \"tickets\", \"syazwanshahrul\", \"mcbusted\", \"look\", \"money\", \"away\", \"msnbc\", \"havent\", \"crazy\", \"country\", \"daily\", \"months\", \"star\", \"book\", \"voice\", \"human\", \"mark\", \"daughter\", \"healthy\", \"wars\", \"east\", \"sister\", \"followed\", \"quote\", \"george\", \"spend\", \"lee6358\", \"cancer\", \"lunch\", \"message\", \"twain\", \"farmifahmi\", \"short\", \"real\", \"tonight\", \"week\", \"believe\", \"told\", \"beautiful\", \"isnt\", \"ones\", \"problem\", \"small\", \"final\", \"mood\", \"illness\", \"photo\", \"marijuanx\", \"open\", \"loved\", \"chaldeaprince\", \"vegas\", \"guide\", \"respect\", \"room\", \"everyones\", \"shardfox\", \"citizens\", \"turns\", \"club\", \"delete\", \"loving\", \"swift\", \"2017\", \"having\", \"mental\", \"friends\", \"says\", \"vote\", \"trumps\", \"party\", \"foxnews\", \"bellamy\", \"point\", \"headaches\", \"reason\", \"social\", \"morning_joe\", \"knew\", \"suicide\", \"dream\", \"now2016\", \"nowzayn\", \"line\", \"gone\", \"anymore\", \"media\", \"list\", \"pinterest\", \"evil\", \"clarke\", \"mika\", \"secret\", \"iriswestaiin\", \"sign\", \"draw\", \"group\", \"said\", \"putin\", \"change\", \"season\", \"truth\", \"veganrevoiution\", \"ways\", \"ready\", \"russian\", \"wasnt\", \"proud\", \"albino\", \"animals\", \"middle\", \"checked\", \"meant\", \"excited\", \"treat\", \"killing\", \"aylalaroe\", \"votes\", \"apparently\", \"film\", \"anashssn\", \"imagine\", \"intelligence\", \"snow\", \"entered\", \"jobs\", \"cast\", \"stress\", \"mmfa\", \"actually\", \"wait\", \"start\", \"tweets\", \"5sostumblrx\", \"lies\", \"understand\", \"seen\", \"arent\", \"vine\", \"wouldnt\", \"month\", \"weeks\", \"giving\", \"altright\", \"realize\", \"till\", \"happens\", \"battlemonkeyz\", \"racist\", \"pissed\", \"datukhensem\", \"accept\", \"leaving\", \"naddyduddy\", \"snapchat\", \"community\", \"suck\", \"doubt\", \"raven\", \"adclaidekanes\", \"cameronhoodkin\", \"cute\", \"allthxngsozzie\", \"hair\", \"hours\", \"headache\", \"comes\", \"nigga\", \"complete\", \"brother\", \"easy\", \"history\", \"tskimoongoddess\", \"lying\", \"loves\", \"shame\", \"pondandrory\", \"selfie\", \"truly\", \"cats\", \"worse\", \"iamyongm_\", \"lmaooo\", \"woke\", \"unfollowed\", \"hmmm\", \"redskins\", \"memories\", \"sent\", \"turned\", \"ashton5sos\", \"dollahkhair\", \"aleph\", \"zayin\"], \"Freq\": [887.0, 840.0, 753.0, 627.0, 506.0, 515.0, 438.0, 508.0, 398.0, 365.0, 373.0, 343.0, 334.0, 327.0, 305.0, 302.0, 303.0, 328.0, 289.0, 284.0, 259.0, 270.0, 337.0, 241.0, 238.0, 231.0, 258.0, 218.0, 290.0, 208.0, 839.440246257349, 514.2925758748391, 228.63220283977375, 208.99256338428276, 166.67503101580274, 134.751883333766, 125.98168893460694, 123.61728586250659, 123.30095958784044, 117.8340286492098, 82.38123302062785, 73.69167092407976, 73.67280274046581, 70.77859809834817, 51.46916848021881, 46.72169962199812, 46.59089530356952, 43.96493305373157, 40.450277954848154, 33.491251139588506, 32.52032701782602, 30.98038501633157, 30.928871320922475, 30.700889509739277, 27.402727872435502, 27.151284793431007, 26.77983451551456, 25.660271378870164, 25.391466690332912, 25.338301725888865, 170.9393643240743, 115.52330322891456, 83.54527633029076, 109.64414254840196, 79.19473130110254, 31.836237384059643, 626.2600842353698, 184.7774787750288, 179.54005447991483, 160.78473537809188, 134.11358488754038, 84.88122300864846, 69.57190513301423, 66.01195772410074, 61.55193124638006, 61.47657659387272, 53.07111372932011, 46.83536706099005, 45.6278517805377, 45.08204708770473, 44.82595933023802, 44.21744520459041, 39.55776955557256, 39.35929403687955, 37.01312303904727, 35.80305416800163, 35.35806231392638, 35.16000406516625, 34.91705987882703, 33.293434534334246, 33.254820843820724, 31.42595750859361, 31.245792421117727, 30.89924999806805, 30.305646712683426, 29.03460151895948, 246.96562629712625, 67.16003712097674, 53.291510682749106, 752.6976594138927, 506.054663993271, 372.3276382883802, 327.3071615273588, 239.53886495440196, 180.99121172916725, 87.91517301263656, 58.72138869257417, 58.518445528662355, 50.0088889765752, 49.863894394994595, 48.00999025981737, 45.57547170275357, 44.92781589480313, 41.467997186522496, 39.92697270056253, 38.603133754076126, 35.412341421743065, 35.25556113408506, 31.125331035974302, 30.502699901639534, 29.442080808793598, 29.157968601687887, 28.30141693905413, 27.568186880229373, 24.465342073641974, 24.34356252787071, 22.347671633207053, 20.381307460620672, 20.1563988874455, 68.32673725075078, 122.73389170904119, 114.67044629019249, 342.50912879169687, 284.0947708960918, 269.35315490459004, 114.00229737489646, 109.27012542669551, 101.21789875184338, 73.51254857913761, 69.3391507216305, 59.55462628072207, 49.70748931835456, 49.27126386688917, 46.3983775109678, 43.783204527265816, 39.74261812370573, 37.889215667086475, 36.34773013439888, 35.493482731721514, 35.00232402121247, 34.30550079086432, 31.07172597243607, 30.355090804301327, 30.04058756530365, 29.10225837417849, 28.14168723264914, 27.495541672507343, 25.67026946278563, 25.20564764871752, 24.016062126662828, 23.419999546378325, 23.579591808436064, 42.56804719949024, 25.575478649998473, 26.453904764094656, 364.46476993003415, 122.22370048553148, 103.13205639572314, 100.62820621346675, 71.120901012559, 69.15983045870291, 61.33328395789031, 61.033900372585244, 57.35752787655166, 52.822726418947255, 51.50122489505761, 51.24107102039352, 48.98982360639901, 44.37937756856082, 41.94015599251732, 36.902027202388474, 35.00455705871405, 32.11959434271169, 31.943331310395582, 30.936467658158833, 30.419978734737164, 30.027583248664964, 28.1725552487747, 27.24017718980757, 27.06921430516182, 26.672540797141057, 25.724149382687564, 25.561982572419318, 24.643504812301405, 24.146426840430017, 213.96254858800026, 64.39414649759814, 32.30096915254967, 25.772575858419263, 188.6066208205485, 142.8802174656513, 101.16687080931636, 94.30268803973588, 83.7724662032148, 79.00402891778798, 58.77897855657479, 49.827706435252104, 47.674311166939916, 43.39193469649651, 42.755616676813666, 39.662018621640385, 39.33163719063045, 38.39499473153365, 37.40623305650564, 35.82715176999335, 31.6360114192707, 29.554387796591385, 29.552111102459136, 28.5552704666666, 26.252142643928366, 25.693579588279878, 25.49134148108619, 24.718416404046515, 23.316947374753894, 22.511817778245014, 22.46926399344317, 21.692415623628555, 20.722351917398594, 18.82419863639613, 231.7904834960108, 393.1326282401052, 397.1094643417442, 155.65210803757358, 133.8916605424611, 131.41411943817988, 130.17182816299112, 106.7493592236043, 80.5135634466466, 69.04311972580587, 67.85606086588233, 66.53947890940789, 64.81920319916098, 58.3808432639809, 56.90970532426076, 51.85232584131527, 49.527759578590995, 48.507040707367885, 43.751932456473, 41.70212818170523, 41.35012067582034, 37.62512169601091, 36.653014486329475, 35.74593067989753, 35.04211511565469, 34.48908796955637, 32.65442253531858, 31.279564612040833, 31.001746878626157, 28.36470098649291, 27.839077139691945, 27.525071072468293, 43.734630656791765, 288.4310309879166, 190.34472918281455, 180.0281358581424, 176.11171299364318, 115.71500184548371, 106.15272378061275, 101.31714794161287, 78.85722529403297, 72.06626548879764, 69.59135287073177, 65.18204722887022, 56.535629967661244, 51.882969616091245, 49.3345224068, 44.057109128803994, 43.57453267373541, 38.57886164209261, 33.81426673535771, 32.51366429614663, 32.48840820657323, 32.31162707760272, 30.85870433297689, 30.110062396214076, 29.830623706366858, 29.34742166835334, 28.786212270792067, 27.532563572091473, 26.881381197407126, 26.45111287735503, 25.075071012474673, 437.34227060466134, 333.67941749677954, 230.8301047588191, 203.4967892929709, 115.8425464605004, 106.29783063568095, 79.5349632148361, 75.44445281060769, 72.6894731393219, 58.08784751993805, 57.75005142830104, 48.913691702290684, 47.75997002408446, 45.1761488941523, 41.68993794028251, 34.31974193139487, 32.374399806723254, 31.683611836315375, 28.189949608731556, 27.349944001115222, 26.093965157822005, 25.591301213027638, 23.99633170617165, 22.78150434850874, 22.749519909043403, 22.343785735121266, 22.104735033349034, 20.566291793854965, 18.11987103070759, 17.911994605874717, 20.460906722324847, 326.6245434688927, 176.8783237516646, 147.47084408667308, 133.73570634801104, 118.22604323038692, 116.96803269823114, 93.39643168186981, 85.90167921447612, 76.93510532238237, 63.25828528219354, 54.300658302585724, 51.75372918489186, 51.55866066874756, 48.97160785300944, 58.39498941878852, 43.21876670998184, 38.775924410275195, 38.50846060013052, 35.674340225926926, 34.86850754924625, 33.51725389450769, 33.47523620599692, 32.85198678926086, 25.66722306652718, 25.502345432895513, 24.43102991506136, 24.12167367205152, 23.801872062794118, 23.751177379886776, 23.111308468981083, 27.62629091101964, 57.37593819539686, 25.19287743412558, 302.4317533067304, 164.88638487326574, 155.76745899593536, 152.8445640757276, 150.35216738251984, 130.745228284776, 95.47960192245726, 93.54241684550297, 92.54865603062699, 69.79753518912845, 69.26396150771609, 65.97827626495415, 61.76173758626691, 52.71268113357361, 49.30662707499274, 47.896103935271576, 46.073743895740165, 36.512255433890736, 32.110919032615044, 29.627336462049282, 29.41501271954483, 26.116406602569306, 25.46494822671053, 25.390040339925484, 24.925408458110525, 24.692281261461716, 24.306784718320884, 23.64095607274878, 22.220797938037858, 21.959429688709232, 59.8506475567781, 22.68417416561602, 304.23023366252704, 202.90044737862092, 78.95430963092757, 77.88569639303492, 73.51284627620903, 66.1596935582446, 62.73369319728412, 60.428129021584546, 50.59011160064679, 49.51071476396782, 49.48084871184608, 41.63907317475545, 41.35448487470039, 40.40295834390162, 38.80534429912023, 37.25842540103784, 36.54057422913568, 33.94183466193132, 33.1622326610754, 33.036090452247386, 32.10826843923384, 30.69477829286356, 29.511718751802697, 29.30368263898274, 28.638242994789028, 28.493776360669155, 27.224875249754295, 25.446098818753683, 24.434692153504944, 22.919485880678344, 886.7909333436608, 241.0644761571296, 130.97774555631452, 118.57203944901866, 103.68749768395926, 94.32391692147758, 80.2840065094453, 78.69252466110522, 72.72852334969654, 42.96383525819033, 41.18808339733649, 35.64131155949443, 30.650099118127763, 30.079440873458907, 28.344694846471274, 28.27180146552452, 26.789807631882564, 24.729656373253505, 24.111153306829994, 23.67218120536441, 22.897844513720734, 22.32681019795777, 21.25395538837819, 20.42858290451487, 20.07290828850328, 18.413621166688266, 18.405255544023802, 17.77952807634428, 17.582484631996824, 17.558400188751182, 21.907654202745217, 301.2037625492287, 118.82285300592363, 117.69527747379658, 88.33598532107075, 84.68892021057496, 70.34114970245004, 58.262880992335724, 56.904251505508604, 56.90422068072705, 56.61316869892046, 52.99064265734648, 53.02921244876043, 53.02910041094956, 50.70131110107766, 45.065499925668036, 43.33605239328124, 41.76907980835406, 41.29274060476311, 38.5868522191709, 37.8546936262129, 33.59259707428334, 32.55943200984689, 29.0641942654232, 26.890000622825532, 24.896111118576545, 24.846713136932017, 24.544722777965916, 24.4288826979088, 24.033032837116746, 23.88729439747361, 209.52579865602476, 190.95377714769154, 166.12322907067065, 139.51381753156534, 91.01131432322408, 78.08722919093795, 76.12331893580104, 55.29080992511986, 46.02362201786659, 45.94917743799291, 40.70297708568963, 40.38233355283652, 34.84612339052663, 34.39064735540669, 32.26974655612277, 32.077533856626985, 31.517702515425942, 30.281167582916606, 28.443674266715977, 27.023097286519327, 26.551990206059696, 26.492778012706516, 23.731337353077212, 23.71851194510333, 23.590123091953522, 22.311408694275595, 20.73644313902992, 19.97693977941533, 19.538251613689074, 19.39313694162981, 237.47171738675522, 151.0455800699935, 104.27256492829505, 87.17506470691563, 80.51090212500789, 77.79516702787738, 77.10395679232099, 78.83883473395498, 64.63296259111613, 64.57584572330784, 57.13109451387996, 44.16470639784573, 44.03087985486889, 42.80798159792842, 42.45272391833498, 41.18720325939337, 39.53107028029835, 36.202212339626044, 35.45661980230981, 32.4848939623402, 31.244948392932432, 31.181513334863766, 29.344019487822905, 28.261272764659527, 27.612747195578308, 27.47412350189867, 26.287331228585618, 25.29944803381952, 24.968565919109096, 24.150288506952194, 170.2799957964405, 141.27604929621847, 122.36092292112554, 106.44123598537578, 98.41710416555671, 88.5112950996381, 82.50827138968941, 68.40803796568456, 63.727470574220554, 61.40777279859514, 46.62965654007608, 44.561261070236235, 44.44296230400678, 43.24239102867562, 36.92960604745393, 36.32911575226485, 35.98512352242461, 35.353188298342715, 34.57755501847734, 34.270732340602834, 33.025695402289834, 31.830414200815095, 31.688843382693264, 28.743549619912383, 27.991932963772815, 25.327982052892878, 24.947465946310572, 23.415574978160503, 22.712438780231054, 22.61993123159896, 28.2816287417259, 258.98394288933235, 218.0754572412034, 120.50380996128469, 84.86963041972558, 79.6040977551608, 136.2719857501791, 60.7508342450038, 59.771893376719554, 54.527358172227366, 47.54407223747117, 47.084262172807264, 44.77279315680124, 41.809609890322314, 41.02017163187992, 36.848425840361855, 34.0429832644537, 32.00578866677825, 30.332167064808523, 29.626365697242438, 27.598449523220857, 27.573207645207837, 27.375118555768932, 27.193611910737, 27.15663954072392, 24.633352670512846, 23.701565177371794, 22.717656845923827, 21.035500478663295, 20.42536911981546, 19.887832767952908, 119.93627647724118, 80.08388436672224, 76.85767302933279, 60.69778662302255, 58.169042229055556, 56.48811672684289, 55.641477551434285, 53.77648186759508, 49.454997752879486, 42.0802773575048, 40.48259167228683, 40.383935674100215, 34.13833425806775, 32.738559290688194, 32.604397476691744, 32.543581565441826, 31.594377420774318, 31.46069905202905, 31.26599359849352, 28.869822426373588, 28.777779834473023, 25.910168472535958, 25.905238553039773, 25.725817324821058, 25.364632829376397, 24.617787091154455, 24.09085100471862, 21.25076723706825, 21.184389927882975, 21.098897755621245, 23.529345115758677, 207.31338782219268, 89.23936785298605, 86.7159129469598, 73.02977304149084, 54.71599474287327, 50.994365594100465, 49.91883370462463, 45.75778300924071, 42.03693013947301, 39.376967202832304, 37.37880663915261, 36.32135110098744, 36.16002852937864, 35.363611176904016, 34.261491967184845, 34.1699649002067, 28.783586184397613, 27.557468148249075, 27.215989605923046, 25.687391724813914, 25.545489473956582, 24.86739002009525, 24.345573814793408, 22.983353580912013, 21.735561187592296, 21.73074549492525, 21.362403057479778, 20.925970978563196, 20.836337326701685, 19.8168294132654, 157.9189859491203, 99.5716208898354, 89.12104287987876, 84.37318126828656, 77.59432869826229, 65.35532224142817, 59.06668213885214, 47.44575614145957, 44.76172604322871, 40.19713892915921, 35.9239821235721, 34.52355771361374, 33.6231814031582, 28.524138608688002, 28.427668810795897, 28.19805193216926, 28.196038654746214, 27.79559136808377, 26.37554073151983, 26.27287045103439, 25.944506002780404, 25.836737834604012, 25.350066739790766, 24.5425738261139, 22.29625717576956, 22.133667147868263, 21.138631632171187, 21.040129828579026, 19.32596363394782, 19.019405306346194, 81.63198118328461, 74.48698867212961, 29.78757141951975, 127.83574253324656, 85.78580338957283, 68.6565478584727, 67.90038255260968, 53.603770592367766, 49.918545667734726, 48.2473331435525, 47.927493717740475, 47.55354504531751, 46.40557153461407, 46.04906047614807, 44.1178690383557, 43.38193914885757, 43.13063358503934, 40.781328763481305, 38.280554272510955, 38.28054182901424, 34.92078180010621, 34.87210016200921, 32.87818624550009, 31.966064659068156, 31.090893669441485, 27.79883213338644, 26.722398274793363, 26.442874444927096, 24.52463236834386, 24.45461512914891, 24.10096587642631, 21.36558291817709, 20.22561619575361, 28.87209902789589, 141.60763064188836, 128.07044925055652, 106.27497029324428, 76.2366631146854, 58.556899821736295, 57.96238633705455, 45.06004675509683, 45.04919380489253, 43.404137612833026, 42.2900535643845, 41.413288628384144, 40.02193669778007, 35.18418890723323, 31.52579863978605, 30.41565780734459, 28.98447053738676, 28.54565008038885, 28.24195753383345, 28.00584805192243, 26.18911098284883, 26.022794524201426, 24.981538994881586, 19.083509328624917, 18.75133326076191, 18.5791603528123, 18.28617352372634, 18.090900008131918, 17.992622985121347, 16.72239406730965, 16.431682986802766, 26.962183977174856, 18.16215508146166, 188.81584208491978, 141.96449459557496, 111.5325129829833, 66.7691936762008, 62.21067491856314, 62.13216266995227, 52.24915182384139, 48.59264749061696, 40.56246567439084, 40.42580596629142, 39.710962512656586, 37.06139615344232, 34.45568448162437, 28.82987599562657, 28.723618179526326, 25.96267698695847, 25.570748421223964, 22.40325945703207, 20.910556236241618, 20.490679089987022, 19.77217968433725, 19.708491531981046, 18.801426877264447, 17.776046932877204, 17.640369489503357, 17.20654347269595, 16.388887616141524, 15.870747010790971, 15.794619508533085, 15.320210501421473, 75.76618066263079, 154.21316866887508, 88.13009524361651, 78.30735557396886, 77.6044966450698, 55.796767121004514, 46.92059737529315, 39.340684274712615, 30.183953852156442, 28.835102466532945, 28.458680518302135, 28.35120610548831, 26.682061346574027, 26.5689652046723, 25.86388839842427, 25.639753686473178, 23.61450691238138, 21.339706501388388, 20.155790887917128, 20.11016646538958, 19.14667906907681, 18.8951403441753, 18.371442812536728, 18.07002337603282, 17.497785248712404, 17.0047554751935, 16.363731352922255, 15.793026262216577, 15.745078930000993, 15.334626348006442, 15.157006284677735, 38.94898329545103, 28.50745736773083, 18.0627622454252, 15.801281738583635], \"Total\": [887.0, 840.0, 753.0, 627.0, 506.0, 515.0, 438.0, 508.0, 398.0, 365.0, 373.0, 343.0, 334.0, 327.0, 305.0, 302.0, 303.0, 328.0, 289.0, 284.0, 259.0, 270.0, 337.0, 241.0, 238.0, 231.0, 258.0, 218.0, 290.0, 208.0, 840.3395464880196, 515.188140009317, 229.52485085159998, 209.8852113179814, 167.56768044718896, 135.64453130767006, 126.87433686702227, 124.509933827974, 124.19360805819355, 118.72667658089205, 83.27388419316135, 74.58431888392363, 74.5654507540229, 71.67127542343681, 52.36181658344021, 47.61434756099299, 47.483543238020665, 44.85758112193655, 41.34292588921321, 34.38389907210841, 33.41297509074825, 31.873032950543877, 31.82151940868967, 31.593537517771825, 28.29537586055418, 28.043932737127232, 27.672482696588315, 26.55291931170866, 26.284114619736563, 26.230949654085787, 204.09494021412848, 135.07985879375786, 99.89968304950759, 135.8667519969011, 115.41900122239332, 38.06045545844201, 627.1484309803692, 185.66582748055345, 180.4284012157731, 161.67308222865475, 135.00193160965065, 85.76956985587194, 70.46025185399566, 66.90030448804754, 62.44027954704854, 62.36499027505535, 53.95946044597747, 47.72371379867216, 46.51619859340717, 45.9703939665572, 45.71430605839823, 45.10579191968565, 40.44611631073735, 40.247640894007695, 37.901469749861675, 36.69140088345068, 36.246409048465075, 36.048350812949145, 35.80540813277708, 34.181781397774856, 34.14316767898459, 32.31430422472391, 32.13413913914239, 31.78759673512826, 31.19399352757347, 29.92294824138712, 290.3854371430239, 76.48201353807937, 60.86487758625611, 753.5912382202217, 506.94824124096925, 373.22121536964676, 328.20073859338873, 240.43244202837127, 181.88478921626393, 88.80875012879282, 59.614965803239066, 59.412022597898364, 50.90246941715865, 50.757471476954876, 48.90362516937117, 46.469048880595786, 45.82139304073923, 42.3615764709435, 40.82054979429014, 39.496711210322424, 36.30592041893354, 36.14913858706183, 32.018908177093444, 31.397078529089306, 30.33565865169333, 30.051545723824102, 29.194994015545337, 28.461766875997483, 25.358919139020234, 25.237139657663167, 23.241248739878426, 21.274884552376598, 21.049976036577473, 102.3179558310336, 337.5519756783416, 508.65942440354627, 343.40214966590855, 284.98778388823, 270.2461684330276, 114.89531043178464, 110.16313839141635, 102.11091171112777, 74.40556157804171, 70.23216409139508, 60.44763925932073, 50.60050225434211, 50.16427684079499, 47.29139045371412, 44.67621749986159, 40.635631058934486, 38.782228629844354, 37.24074397328946, 36.38649630478897, 35.895342869138325, 35.198513736329126, 31.964738967086376, 31.248103747163903, 30.93360050418361, 29.99527141493111, 29.03470572255827, 28.38855460240447, 26.563282396555557, 26.09866058092082, 24.909075073155343, 24.31301255990378, 24.48495424279387, 290.3854371430239, 38.09216423264076, 101.79690695896046, 365.35632736183896, 123.11525482622478, 104.02361093560161, 101.51976056890399, 72.01245543089006, 70.05138490451642, 62.224838401758404, 61.92545473353401, 58.24908221917598, 53.71428076301973, 52.392779229631664, 52.13262536054069, 49.881377959935186, 45.27093195074327, 42.83171080594131, 37.793581582023435, 35.8961113966063, 33.01114868348614, 32.83488565705908, 31.828022007101247, 31.31153307707067, 30.919137585927043, 29.064109592377942, 28.131731526122262, 27.96076903505565, 27.564095140131773, 26.615703748403497, 26.453536915111798, 25.535059150223248, 25.03798125142591, 337.5519756783416, 95.03627283096752, 204.09494021412848, 258.41738796470867, 189.49899580566938, 143.77258634195047, 102.05923963246245, 95.19505689290841, 84.66483503825123, 79.89639774762625, 59.67137041768186, 50.72007559753216, 48.56668005787939, 44.28430377109081, 43.664375302000806, 40.554387957486085, 40.22400657592864, 39.287363544858344, 38.298601979993485, 36.719520586118, 32.52838126311854, 30.446756641369483, 30.444479923390197, 29.447639317038476, 27.14451153144368, 26.58594842891658, 26.383722967763088, 25.61078537832702, 24.20931631012737, 23.404186801196193, 23.36165357199329, 22.584784450834192, 21.614720802349016, 19.723289592839773, 258.41738796470867, 508.65942440354627, 398.0027556599221, 156.54540336291683, 134.785720189842, 132.3081779143605, 131.0659649310376, 107.64264856960295, 81.40685294744355, 69.93640953560445, 68.74935020983956, 67.43276825169693, 65.7124925676997, 59.274132621657685, 57.802994683863965, 52.74564964543106, 50.42105012586215, 49.40033005475124, 44.6452220413024, 42.59541752911645, 42.243410223390434, 38.51841104587885, 37.54630389169694, 36.639220054071124, 35.93540462177114, 35.382377344955174, 33.54771196753577, 32.172854015581024, 31.895036221368937, 29.257990350084306, 28.73236647959639, 28.418360461257574, 56.35606831781146, 289.32257607931916, 191.2362788077771, 180.91964348189086, 177.00322505626977, 116.60651292501973, 107.0442187633401, 102.20864340901919, 79.7487338875725, 72.95776044001549, 70.48284788180868, 66.0735422103144, 57.427124948772374, 52.774464639709095, 50.22601735637189, 44.948609554027826, 44.466027630251126, 39.47035679461911, 34.70576168775913, 33.405159322620015, 33.37990315575231, 33.203122041457085, 31.75019939260531, 31.001557609845523, 30.72211865922134, 30.238916632045598, 29.67770750067827, 28.424058525506958, 27.77287615563069, 27.342607829108736, 25.966566312752526, 438.23541620214684, 334.5725633953136, 231.72325031945223, 204.38993537266379, 116.73569203848051, 107.19097612350605, 80.42810884034643, 76.33759824666532, 73.58261858682879, 58.980992967975425, 58.64319697977552, 49.80683714054475, 48.653115450118186, 46.069294373435646, 42.58308337010528, 35.212887380942554, 33.26754524310606, 32.576757275547415, 29.08309504192657, 28.24308942585822, 26.987110624384464, 26.484447256999776, 24.889477134894744, 23.67465084852192, 23.64266538570017, 23.236931164811576, 22.99788048877696, 21.459437222959306, 19.01301659783684, 18.80514012802485, 42.981203166810076, 327.5165505399108, 177.77033190617237, 148.3628494917624, 134.62771178672878, 119.11804904343083, 117.86003809320955, 94.28843710449324, 86.79368469204965, 77.82711072469216, 64.15029074251063, 55.19266369942036, 52.645734586918834, 52.45066658804106, 49.863613375116756, 59.56397410386293, 44.11077217691979, 39.667930077712384, 39.40046607955941, 36.566345618892285, 35.76051342059789, 34.40925935445075, 34.3672417157676, 33.743992205506736, 26.559228475390658, 26.394350962040303, 25.323035365651812, 25.01367907084647, 24.6938774584894, 24.643182774413663, 24.00331386302213, 28.91460812506161, 123.7803115823651, 47.58653056318392, 303.32372490550483, 165.7783565589234, 156.65943120783285, 153.7365359190375, 151.24413941708124, 131.6371999064235, 96.37157360380161, 94.43438843941827, 93.4406276249928, 70.68950680790937, 70.15596082183886, 66.87025975529502, 62.65372358126843, 53.60465273571102, 50.19860670995654, 48.78807552851017, 46.96571611018685, 37.404227036395895, 33.00289069304734, 30.519308327316566, 30.306984308613373, 27.008378352394075, 26.356927323644136, 26.282011985642526, 25.817381536970856, 25.584252850980416, 25.19875633701595, 24.532927661165484, 23.1127695597399, 22.85140128262137, 67.81784361499983, 108.69668904625419, 305.12167487184325, 203.79188022404495, 79.84574270245606, 78.77712940246593, 74.40427912911028, 67.05112641826727, 63.62512600892076, 61.31956258711372, 51.48154440295254, 50.40214755002285, 50.37228150258443, 42.53050598382258, 42.24591766293354, 41.29439122833416, 39.696777989860564, 38.14985822722677, 37.432007264270624, 34.833267446033325, 34.05366668001656, 33.92752324105876, 32.999702637536224, 31.586211081334735, 30.403151537232432, 30.19511542704044, 29.529675783389308, 29.38530714569047, 28.116311793324986, 26.33753160780641, 25.326125457468898, 23.810918683835926, 887.6836185483959, 241.95716046693394, 131.8704325998401, 119.4652586522914, 104.58018156884013, 95.21660548890065, 81.17669039064862, 79.58520858658767, 73.62120724589886, 43.85651915365176, 42.08076760899216, 36.533995949560406, 31.542783064178334, 30.97212475434251, 29.237380698123552, 29.164485613707804, 27.682491522862026, 25.622340252306472, 25.003837218356118, 24.564865130191244, 23.790528434242624, 23.219494095931328, 22.14663927499171, 21.321266806361066, 20.965592179013296, 19.30630509857522, 19.297939439582887, 18.67221196749331, 18.47516851634809, 18.45108407479675, 123.7803115823651, 302.10211226052843, 119.71933135224117, 118.59171739325146, 89.23150527847022, 85.58444022575219, 71.23666975702342, 59.1584205043651, 57.8001925672908, 57.80019481077763, 57.50868895308657, 53.886162664581384, 53.927445944468936, 53.92745294896626, 51.596868176028316, 45.96101985955491, 44.23157233261354, 42.66459974474236, 42.18868865638068, 39.48253569732321, 38.75027382577035, 34.48811701278149, 33.454959456373686, 29.959714205952675, 27.785520640369615, 25.79163124703352, 25.742233141055245, 25.440242711748976, 25.325633870213615, 24.92855279446927, 24.782815861389274, 210.41853118222076, 191.84662359010997, 167.01596107585678, 140.406549535999, 91.90429722567067, 78.9799612415526, 77.01605097892842, 56.183541972495426, 46.93131691422582, 46.86181029113061, 41.59570909837255, 41.27506555609922, 35.7388554097756, 35.28337938865797, 33.16247855922834, 32.97026588277413, 32.41043474000459, 31.173899595319167, 29.336406303461775, 27.915832274156365, 27.444722207185166, 27.38551092863512, 24.624069358536214, 24.611243981410485, 24.48289923547179, 23.204154639224186, 21.629175140991762, 20.86967180340986, 20.430983642561188, 20.285869042772212, 238.36478777431364, 151.93865088831402, 105.16563490137445, 88.06813460604042, 81.40440984531077, 78.68823975951315, 77.99760299952742, 79.81725174659016, 65.526032595255, 65.46891567310557, 58.02416442278228, 45.057776272702434, 44.92394974901608, 43.701051465201076, 43.345793781819324, 42.08041667845107, 40.424155625721426, 37.0953779409436, 36.34969821680616, 33.37796388116081, 32.138050423740296, 32.07458319750626, 30.23708934940992, 29.154343091946828, 28.505817105090706, 28.367193378031583, 27.180401077200916, 26.19251788701996, 25.861719764846548, 25.043358490937294, 171.17231330665084, 142.16836701525108, 123.25324042386637, 107.33370892010649, 99.3094216843315, 89.40361259844484, 83.40058888458631, 69.30035546616895, 64.61978821258913, 62.30009030435352, 47.521974032925776, 45.45357858748139, 45.335279798752, 44.134708519667726, 37.82192683871434, 37.22143328304372, 36.87744106261867, 36.24550579967038, 35.469877306990185, 35.16304990617335, 33.9180129331891, 32.7227320631209, 32.58116091791636, 29.635867149913647, 28.884250458080743, 26.220299548358238, 25.8397834429468, 24.307892486397467, 23.604756323013063, 23.512248774489258, 43.828422245434204, 259.8773482518237, 218.9688628671127, 121.397227102973, 85.76303574749416, 80.49750368336343, 138.05050752896372, 61.644239581382415, 60.66529870409305, 55.42076373487341, 48.43747756330669, 47.977667524858866, 45.66619851260106, 42.70301636422873, 41.91357698509338, 37.741831381314825, 34.93638858996097, 32.89919424743782, 31.22557241172563, 30.519771064772737, 28.49185484609919, 28.466612971273328, 28.26852395671008, 28.08701757404909, 28.050044863057217, 25.52675800788274, 24.59497053427726, 23.611062349432544, 21.9289111371808, 21.318774505718782, 20.781238423511585, 120.82829521164697, 80.97590307573283, 77.74969174840048, 61.58980535012835, 59.061062411575826, 57.38014860584667, 56.53349626890111, 54.66850059410113, 50.34701833187777, 42.97229610389519, 41.374673845797176, 41.275966755864495, 35.030352971105984, 33.630578135831314, 33.4964618019617, 33.43560027344616, 32.486430757523884, 32.35272231400659, 32.15801241530901, 29.761841150132103, 29.66979855660707, 26.802188109260467, 26.79727757931833, 26.617836093790885, 26.25665353834892, 25.50980606452364, 24.98286971717688, 22.142786063161335, 22.076408646263157, 21.990917708021776, 24.700408064096376, 208.20546013686737, 90.1314402107898, 87.6079853324561, 73.92184822870851, 55.60806709042142, 51.886438005102804, 50.81090602237295, 46.64985532042474, 42.92900246186011, 40.26903950537942, 38.270878962975665, 37.21342429530244, 37.052100854865394, 36.2556835260793, 35.15356538685641, 35.06203722974017, 29.675658625502702, 28.449540459860273, 28.10806200585012, 26.57946404656916, 26.437562023240204, 25.759462323907908, 25.237646119901253, 23.87546140445772, 22.627633491260152, 22.622817804372612, 22.254475631878645, 21.818050173622282, 21.741582215250713, 20.708901757435378, 158.81158256807072, 100.46421750531063, 90.01363951089073, 85.26577796794659, 78.4869253637652, 66.24791885938687, 59.959278755472724, 48.338352755277995, 45.654322663728834, 41.08973558610918, 36.8165787703863, 35.41615435883848, 34.515778130840786, 29.416735237937925, 29.320268225071587, 29.090649287766023, 29.08863530036993, 28.6881879769978, 27.268137363579886, 27.16546711414341, 26.83710262112128, 26.72933449794128, 26.24266349215922, 25.435202663687615, 23.1888547096591, 23.0262640503065, 22.03122861017614, 21.93272653027549, 20.21856025437373, 19.91200192256661, 88.0965401340511, 101.79690695896046, 95.03627283096752, 128.72808015264957, 86.6781410001241, 69.54888545821123, 68.79272018927455, 54.49610831068468, 50.81088356116635, 49.13967069931682, 48.81983127545374, 48.445882624055955, 47.297909207012275, 46.941398268661516, 45.010207878360255, 44.27441688627848, 44.02297144966399, 41.67366632022395, 39.17295813639082, 39.17295780953228, 35.81311935969302, 35.76443771928634, 33.77052384032627, 32.85840224255317, 31.98323125476241, 28.711614442880286, 27.614735887915806, 27.335212518500956, 25.416971320357106, 25.346952717642004, 24.99330442729745, 22.257920513259727, 21.11795375041341, 42.15081837979861, 142.50003526814905, 128.96285864561816, 107.16737275415178, 77.12906558634884, 59.449302277629656, 58.86485712248244, 45.952449219137954, 45.941596277472016, 44.296540136495665, 43.18245601397962, 42.30569107839273, 40.914339215012745, 36.07659142407753, 32.41820112196011, 31.308060256230807, 29.876873014471514, 29.43805260087313, 29.134359991805972, 28.898251437773112, 27.081521299233003, 26.915196969862276, 25.87394150080907, 19.97591177572409, 19.643735707338728, 19.471562831635946, 19.178576129683176, 18.983302455645358, 18.88502566146786, 17.61479656483227, 17.324085431419444, 36.217378649997386, 26.413146817675, 189.70769410488487, 142.85634400476434, 112.42436241222325, 67.66104332063722, 63.10253040072997, 63.02401207358004, 53.14100123671498, 49.484496898945736, 41.45431509912791, 41.31765536842446, 40.60281191517771, 37.95324559977805, 35.34753393502952, 29.721725403442097, 29.615535366284377, 26.85452639457948, 26.46260027292408, 23.295108877753666, 21.802420763748216, 21.382528495718773, 20.664029274117194, 20.600342758852513, 19.693276286628713, 18.667896335458654, 18.532224529726005, 18.098392916906754, 17.280737027641194, 16.762596464454507, 16.686469394369897, 16.212309749030585, 108.69668904625419, 155.10563484126817, 89.02254911027416, 79.19984181275575, 78.49695032188576, 56.68922079603804, 47.81305104310206, 40.23313794045963, 31.076408989591407, 29.727556141730997, 29.35113417542679, 29.243659786748466, 27.574515004594943, 27.461421728671514, 26.756342060741307, 26.53220739243666, 24.506960675891893, 22.232160177522857, 21.04824455674452, 21.002620136566986, 20.039132729139382, 19.787594003256324, 19.263909173461414, 18.962477035036503, 18.39023891674189, 17.897209194257726, 17.256185012079676, 16.685479957037277, 16.63753261916431, 16.227080163410513, 16.04945997259888, 47.97177306447786, 43.93973273296743, 123.7803115823651, 25.874580596084048], \"Category\": [\"Default\", \"Default\", \"Default\", \"Default\", \"Default\", \"Default\", \"Default\", \"Default\", \"Default\", \"Default\", \"Default\", \"Default\", \"Default\", \"Default\", \"Default\", \"Default\", \"Default\", \"Default\", \"Default\", \"Default\", \"Default\", \"Default\", \"Default\", \"Default\", \"Default\", \"Default\", \"Default\", \"Default\", \"Default\", \"Default\", \"Topic1\", \"Topic1\", \"Topic1\", \"Topic1\", \"Topic1\", \"Topic1\", \"Topic1\", \"Topic1\", \"Topic1\", \"Topic1\", \"Topic1\", \"Topic1\", \"Topic1\", \"Topic1\", \"Topic1\", \"Topic1\", \"Topic1\", \"Topic1\", \"Topic1\", \"Topic1\", \"Topic1\", \"Topic1\", \"Topic1\", \"Topic1\", \"Topic1\", \"Topic1\", \"Topic1\", \"Topic1\", \"Topic1\", \"Topic1\", \"Topic1\", \"Topic1\", \"Topic1\", \"Topic1\", \"Topic1\", \"Topic1\", \"Topic2\", \"Topic2\", \"Topic2\", \"Topic2\", \"Topic2\", \"Topic2\", \"Topic2\", \"Topic2\", \"Topic2\", \"Topic2\", \"Topic2\", \"Topic2\", \"Topic2\", \"Topic2\", \"Topic2\", \"Topic2\", \"Topic2\", \"Topic2\", \"Topic2\", \"Topic2\", \"Topic2\", \"Topic2\", \"Topic2\", \"Topic2\", \"Topic2\", \"Topic2\", \"Topic2\", \"Topic2\", \"Topic2\", \"Topic2\", \"Topic2\", \"Topic2\", \"Topic2\", \"Topic3\", \"Topic3\", \"Topic3\", \"Topic3\", \"Topic3\", \"Topic3\", \"Topic3\", \"Topic3\", \"Topic3\", \"Topic3\", \"Topic3\", \"Topic3\", \"Topic3\", \"Topic3\", \"Topic3\", \"Topic3\", \"Topic3\", \"Topic3\", \"Topic3\", \"Topic3\", \"Topic3\", \"Topic3\", \"Topic3\", \"Topic3\", \"Topic3\", \"Topic3\", \"Topic3\", \"Topic3\", \"Topic3\", \"Topic3\", \"Topic3\", \"Topic3\", \"Topic3\", \"Topic4\", \"Topic4\", \"Topic4\", \"Topic4\", \"Topic4\", \"Topic4\", \"Topic4\", \"Topic4\", \"Topic4\", \"Topic4\", \"Topic4\", \"Topic4\", \"Topic4\", \"Topic4\", \"Topic4\", \"Topic4\", \"Topic4\", \"Topic4\", \"Topic4\", \"Topic4\", \"Topic4\", \"Topic4\", \"Topic4\", \"Topic4\", \"Topic4\", \"Topic4\", \"Topic4\", \"Topic4\", \"Topic4\", \"Topic4\", \"Topic4\", \"Topic4\", \"Topic4\", \"Topic5\", \"Topic5\", \"Topic5\", \"Topic5\", \"Topic5\", \"Topic5\", \"Topic5\", \"Topic5\", \"Topic5\", \"Topic5\", \"Topic5\", \"Topic5\", \"Topic5\", \"Topic5\", \"Topic5\", \"Topic5\", \"Topic5\", \"Topic5\", \"Topic5\", \"Topic5\", \"Topic5\", \"Topic5\", \"Topic5\", \"Topic5\", \"Topic5\", \"Topic5\", \"Topic5\", \"Topic5\", \"Topic5\", \"Topic5\", \"Topic5\", \"Topic5\", \"Topic5\", \"Topic5\", \"Topic6\", \"Topic6\", \"Topic6\", \"Topic6\", \"Topic6\", \"Topic6\", \"Topic6\", \"Topic6\", \"Topic6\", \"Topic6\", \"Topic6\", \"Topic6\", \"Topic6\", \"Topic6\", \"Topic6\", \"Topic6\", \"Topic6\", \"Topic6\", \"Topic6\", \"Topic6\", \"Topic6\", \"Topic6\", \"Topic6\", \"Topic6\", \"Topic6\", \"Topic6\", \"Topic6\", \"Topic6\", \"Topic6\", \"Topic6\", \"Topic6\", \"Topic6\", \"Topic7\", \"Topic7\", \"Topic7\", \"Topic7\", \"Topic7\", \"Topic7\", \"Topic7\", \"Topic7\", \"Topic7\", \"Topic7\", \"Topic7\", \"Topic7\", \"Topic7\", \"Topic7\", \"Topic7\", \"Topic7\", \"Topic7\", \"Topic7\", \"Topic7\", \"Topic7\", \"Topic7\", \"Topic7\", \"Topic7\", \"Topic7\", \"Topic7\", \"Topic7\", \"Topic7\", \"Topic7\", \"Topic7\", \"Topic7\", \"Topic7\", \"Topic8\", \"Topic8\", \"Topic8\", \"Topic8\", \"Topic8\", \"Topic8\", \"Topic8\", \"Topic8\", \"Topic8\", \"Topic8\", \"Topic8\", \"Topic8\", \"Topic8\", \"Topic8\", \"Topic8\", \"Topic8\", \"Topic8\", \"Topic8\", \"Topic8\", \"Topic8\", \"Topic8\", \"Topic8\", \"Topic8\", \"Topic8\", \"Topic8\", \"Topic8\", \"Topic8\", \"Topic8\", \"Topic8\", \"Topic8\", \"Topic9\", \"Topic9\", \"Topic9\", \"Topic9\", \"Topic9\", \"Topic9\", \"Topic9\", \"Topic9\", \"Topic9\", \"Topic9\", \"Topic9\", \"Topic9\", \"Topic9\", \"Topic9\", \"Topic9\", \"Topic9\", \"Topic9\", \"Topic9\", \"Topic9\", \"Topic9\", \"Topic9\", \"Topic9\", \"Topic9\", \"Topic9\", \"Topic9\", \"Topic9\", \"Topic9\", \"Topic9\", \"Topic9\", \"Topic9\", \"Topic9\", \"Topic10\", \"Topic10\", \"Topic10\", \"Topic10\", \"Topic10\", \"Topic10\", \"Topic10\", \"Topic10\", \"Topic10\", \"Topic10\", \"Topic10\", \"Topic10\", \"Topic10\", \"Topic10\", \"Topic10\", \"Topic10\", \"Topic10\", \"Topic10\", \"Topic10\", \"Topic10\", \"Topic10\", \"Topic10\", \"Topic10\", \"Topic10\", \"Topic10\", \"Topic10\", \"Topic10\", \"Topic10\", \"Topic10\", \"Topic10\", \"Topic10\", \"Topic10\", \"Topic10\", \"Topic11\", \"Topic11\", \"Topic11\", \"Topic11\", \"Topic11\", \"Topic11\", \"Topic11\", \"Topic11\", \"Topic11\", \"Topic11\", \"Topic11\", \"Topic11\", \"Topic11\", \"Topic11\", \"Topic11\", \"Topic11\", \"Topic11\", \"Topic11\", \"Topic11\", \"Topic11\", \"Topic11\", \"Topic11\", \"Topic11\", \"Topic11\", \"Topic11\", \"Topic11\", \"Topic11\", \"Topic11\", \"Topic11\", \"Topic11\", \"Topic11\", \"Topic11\", \"Topic12\", \"Topic12\", \"Topic12\", \"Topic12\", \"Topic12\", \"Topic12\", \"Topic12\", \"Topic12\", \"Topic12\", \"Topic12\", \"Topic12\", \"Topic12\", \"Topic12\", \"Topic12\", \"Topic12\", \"Topic12\", \"Topic12\", \"Topic12\", \"Topic12\", \"Topic12\", \"Topic12\", \"Topic12\", \"Topic12\", \"Topic12\", \"Topic12\", \"Topic12\", \"Topic12\", \"Topic12\", \"Topic12\", \"Topic12\", \"Topic13\", \"Topic13\", \"Topic13\", \"Topic13\", \"Topic13\", \"Topic13\", \"Topic13\", \"Topic13\", \"Topic13\", \"Topic13\", \"Topic13\", \"Topic13\", \"Topic13\", \"Topic13\", \"Topic13\", \"Topic13\", \"Topic13\", \"Topic13\", \"Topic13\", \"Topic13\", \"Topic13\", \"Topic13\", \"Topic13\", \"Topic13\", \"Topic13\", \"Topic13\", \"Topic13\", \"Topic13\", \"Topic13\", \"Topic13\", \"Topic13\", \"Topic14\", \"Topic14\", \"Topic14\", \"Topic14\", \"Topic14\", \"Topic14\", \"Topic14\", \"Topic14\", \"Topic14\", \"Topic14\", \"Topic14\", \"Topic14\", \"Topic14\", \"Topic14\", \"Topic14\", \"Topic14\", \"Topic14\", \"Topic14\", \"Topic14\", \"Topic14\", \"Topic14\", \"Topic14\", \"Topic14\", \"Topic14\", \"Topic14\", \"Topic14\", \"Topic14\", \"Topic14\", \"Topic14\", \"Topic14\", \"Topic15\", \"Topic15\", \"Topic15\", \"Topic15\", \"Topic15\", \"Topic15\", \"Topic15\", \"Topic15\", \"Topic15\", \"Topic15\", \"Topic15\", \"Topic15\", \"Topic15\", \"Topic15\", \"Topic15\", \"Topic15\", \"Topic15\", \"Topic15\", \"Topic15\", \"Topic15\", \"Topic15\", \"Topic15\", \"Topic15\", \"Topic15\", \"Topic15\", \"Topic15\", \"Topic15\", \"Topic15\", \"Topic15\", \"Topic15\", \"Topic16\", \"Topic16\", \"Topic16\", \"Topic16\", \"Topic16\", \"Topic16\", \"Topic16\", \"Topic16\", \"Topic16\", \"Topic16\", \"Topic16\", \"Topic16\", \"Topic16\", \"Topic16\", \"Topic16\", \"Topic16\", \"Topic16\", \"Topic16\", \"Topic16\", \"Topic16\", \"Topic16\", \"Topic16\", \"Topic16\", \"Topic16\", \"Topic16\", \"Topic16\", \"Topic16\", \"Topic16\", \"Topic16\", \"Topic16\", \"Topic17\", \"Topic17\", \"Topic17\", \"Topic17\", \"Topic17\", \"Topic17\", \"Topic17\", \"Topic17\", \"Topic17\", \"Topic17\", \"Topic17\", \"Topic17\", \"Topic17\", \"Topic17\", \"Topic17\", \"Topic17\", \"Topic17\", \"Topic17\", \"Topic17\", \"Topic17\", \"Topic17\", \"Topic17\", \"Topic17\", \"Topic17\", \"Topic17\", \"Topic17\", \"Topic17\", \"Topic17\", \"Topic17\", \"Topic17\", \"Topic17\", \"Topic18\", \"Topic18\", \"Topic18\", \"Topic18\", \"Topic18\", \"Topic18\", \"Topic18\", \"Topic18\", \"Topic18\", \"Topic18\", \"Topic18\", \"Topic18\", \"Topic18\", \"Topic18\", \"Topic18\", \"Topic18\", \"Topic18\", \"Topic18\", \"Topic18\", \"Topic18\", \"Topic18\", \"Topic18\", \"Topic18\", \"Topic18\", \"Topic18\", \"Topic18\", \"Topic18\", \"Topic18\", \"Topic18\", \"Topic18\", \"Topic19\", \"Topic19\", \"Topic19\", \"Topic19\", \"Topic19\", \"Topic19\", \"Topic19\", \"Topic19\", \"Topic19\", \"Topic19\", \"Topic19\", \"Topic19\", \"Topic19\", \"Topic19\", \"Topic19\", \"Topic19\", \"Topic19\", \"Topic19\", \"Topic19\", \"Topic19\", \"Topic19\", \"Topic19\", \"Topic19\", \"Topic19\", \"Topic19\", \"Topic19\", \"Topic19\", \"Topic19\", \"Topic19\", \"Topic19\", \"Topic19\", \"Topic20\", \"Topic20\", \"Topic20\", \"Topic20\", \"Topic20\", \"Topic20\", \"Topic20\", \"Topic20\", \"Topic20\", \"Topic20\", \"Topic20\", \"Topic20\", \"Topic20\", \"Topic20\", \"Topic20\", \"Topic20\", \"Topic20\", \"Topic20\", \"Topic20\", \"Topic20\", \"Topic20\", \"Topic20\", \"Topic20\", \"Topic20\", \"Topic20\", \"Topic20\", \"Topic20\", \"Topic20\", \"Topic20\", \"Topic20\", \"Topic21\", \"Topic21\", \"Topic21\", \"Topic21\", \"Topic21\", \"Topic21\", \"Topic21\", \"Topic21\", \"Topic21\", \"Topic21\", \"Topic21\", \"Topic21\", \"Topic21\", \"Topic21\", \"Topic21\", \"Topic21\", \"Topic21\", \"Topic21\", \"Topic21\", \"Topic21\", \"Topic21\", \"Topic21\", \"Topic21\", \"Topic21\", \"Topic21\", \"Topic21\", \"Topic21\", \"Topic21\", \"Topic21\", \"Topic21\", \"Topic21\", \"Topic21\", \"Topic21\", \"Topic22\", \"Topic22\", \"Topic22\", \"Topic22\", \"Topic22\", \"Topic22\", \"Topic22\", \"Topic22\", \"Topic22\", \"Topic22\", \"Topic22\", \"Topic22\", \"Topic22\", \"Topic22\", \"Topic22\", \"Topic22\", \"Topic22\", \"Topic22\", \"Topic22\", \"Topic22\", \"Topic22\", \"Topic22\", \"Topic22\", \"Topic22\", \"Topic22\", \"Topic22\", \"Topic22\", \"Topic22\", \"Topic22\", \"Topic22\", \"Topic22\", \"Topic23\", \"Topic23\", \"Topic23\", \"Topic23\", \"Topic23\", \"Topic23\", \"Topic23\", \"Topic23\", \"Topic23\", \"Topic23\", \"Topic23\", \"Topic23\", \"Topic23\", \"Topic23\", \"Topic23\", \"Topic23\", \"Topic23\", \"Topic23\", \"Topic23\", \"Topic23\", \"Topic23\", \"Topic23\", \"Topic23\", \"Topic23\", \"Topic23\", \"Topic23\", \"Topic23\", \"Topic23\", \"Topic23\", \"Topic23\", \"Topic23\", \"Topic23\", \"Topic24\", \"Topic24\", \"Topic24\", \"Topic24\", \"Topic24\", \"Topic24\", \"Topic24\", \"Topic24\", \"Topic24\", \"Topic24\", \"Topic24\", \"Topic24\", \"Topic24\", \"Topic24\", \"Topic24\", \"Topic24\", \"Topic24\", \"Topic24\", \"Topic24\", \"Topic24\", \"Topic24\", \"Topic24\", \"Topic24\", \"Topic24\", \"Topic24\", \"Topic24\", \"Topic24\", \"Topic24\", \"Topic24\", \"Topic24\", \"Topic24\", \"Topic25\", \"Topic25\", \"Topic25\", \"Topic25\", \"Topic25\", \"Topic25\", \"Topic25\", \"Topic25\", \"Topic25\", \"Topic25\", \"Topic25\", \"Topic25\", \"Topic25\", \"Topic25\", \"Topic25\", \"Topic25\", \"Topic25\", \"Topic25\", \"Topic25\", \"Topic25\", \"Topic25\", \"Topic25\", \"Topic25\", \"Topic25\", \"Topic25\", \"Topic25\", \"Topic25\", \"Topic25\", \"Topic25\", \"Topic25\", \"Topic25\", \"Topic25\", \"Topic25\", \"Topic25\"], \"logprob\": [30.0, 29.0, 28.0, 27.0, 26.0, 25.0, 24.0, 23.0, 22.0, 21.0, 20.0, 19.0, 18.0, 17.0, 16.0, 15.0, 14.0, 13.0, 12.0, 11.0, 10.0, 9.0, 8.0, 7.0, 6.0, 5.0, 4.0, 3.0, 2.0, 1.0, -2.0649, -2.5548, -3.3655, -3.4553, -3.6815, -3.8942, -3.9615, -3.9804, -3.983, -4.0283, -4.3862, -4.4977, -4.498, -4.538, -4.8566, -4.9534, -4.9562, -5.0142, -5.0975, -5.2863, -5.3157, -5.3642, -5.3659, -5.3733, -5.4869, -5.4962, -5.5099, -5.5526, -5.5632, -5.5653, -3.6563, -4.0481, -4.3722, -4.1003, -4.4257, -5.337, -2.1835, -3.4041, -3.4329, -3.5432, -3.7246, -4.182, -4.3809, -4.4335, -4.5034, -4.5046, -4.6517, -4.7767, -4.8028, -4.8148, -4.8205, -4.8342, -4.9455, -4.9506, -5.012, -5.0453, -5.0578, -5.0634, -5.0703, -5.1179, -5.1191, -5.1757, -5.1814, -5.1926, -5.212, -5.2548, -3.114, -4.4162, -4.6475, -1.9787, -2.3757, -2.6826, -2.8115, -3.1236, -3.4039, -4.126, -4.5296, -4.533, -4.6902, -4.6931, -4.731, -4.783, -4.7973, -4.8774, -4.9153, -4.949, -5.0353, -5.0397, -5.1643, -5.1845, -5.2199, -5.2296, -5.2594, -5.2857, -5.4051, -5.4101, -5.4956, -5.5877, -5.5988, -4.3781, -3.7923, -3.8603, -2.5338, -2.7208, -2.7741, -3.6339, -3.6763, -3.7528, -4.0726, -4.1311, -4.2832, -4.4639, -4.4728, -4.5328, -4.5908, -4.6877, -4.7354, -4.777, -4.8007, -4.8147, -4.8348, -4.9338, -4.9571, -4.9675, -4.9993, -5.0328, -5.0561, -5.1248, -5.143, -5.1914, -5.2165, -5.2097, -4.619, -5.1285, -5.0947, -2.4631, -3.5556, -3.7255, -3.7501, -4.0971, -4.1251, -4.2452, -4.2501, -4.3122, -4.3946, -4.4199, -4.425, -4.4699, -4.5687, -4.6252, -4.7532, -4.806, -4.892, -4.8975, -4.9296, -4.9464, -4.9594, -5.0231, -5.0568, -5.0631, -5.0779, -5.1141, -5.1204, -5.157, -5.1774, -2.9957, -4.1965, -4.8864, -5.1122, -3.1216, -3.3992, -3.7444, -3.8147, -3.9331, -3.9917, -4.2874, -4.4526, -4.4968, -4.5909, -4.6057, -4.6808, -4.6892, -4.7133, -4.7394, -4.7825, -4.9069, -4.975, -4.9751, -5.0094, -5.0935, -5.115, -5.1229, -5.1537, -5.212, -5.2472, -5.2491, -5.2843, -5.33, -5.4261, -2.9154, -2.3871, -2.3677, -3.3042, -3.4548, -3.4735, -3.483, -3.6814, -3.9634, -4.1171, -4.1345, -4.1541, -4.1803, -4.2849, -4.3104, -4.4035, -4.4493, -4.4702, -4.5733, -4.6213, -4.6298, -4.7242, -4.7504, -4.7754, -4.7953, -4.8112, -4.8659, -4.9089, -4.9178, -5.0067, -5.0254, -5.0368, -4.5737, -2.6828, -3.0984, -3.1541, -3.1761, -3.5961, -3.6823, -3.729, -3.9796, -4.0696, -4.1046, -4.17, -4.3124, -4.3982, -4.4486, -4.5617, -4.5727, -4.6945, -4.8263, -4.8656, -4.8663, -4.8718, -4.9178, -4.9424, -4.9517, -4.968, -4.9873, -5.0319, -5.0558, -5.0719, -5.1253, -2.2567, -2.5272, -2.8957, -3.0218, -3.5852, -3.6712, -3.9612, -4.014, -4.0512, -4.2755, -4.2813, -4.4474, -4.4712, -4.5269, -4.6072, -4.8017, -4.8601, -4.8816, -4.9985, -5.0287, -5.0757, -5.0952, -5.1595, -5.2115, -5.2129, -5.2309, -5.2416, -5.3138, -5.4404, -5.452, -5.3189, -2.5363, -3.1496, -3.3314, -3.4292, -3.5525, -3.5632, -3.7882, -3.8719, -3.9821, -4.1778, -4.3305, -4.3786, -4.3823, -4.4338, -4.2578, -4.5588, -4.6673, -4.6742, -4.7506, -4.7735, -4.813, -4.8143, -4.8331, -5.0799, -5.0863, -5.1292, -5.142, -5.1553, -5.1574, -5.1847, -5.0063, -4.2754, -5.0985, -2.5821, -3.1887, -3.2456, -3.2645, -3.281, -3.4207, -3.735, -3.7555, -3.7662, -4.0484, -4.056, -4.1046, -4.1707, -4.3291, -4.3959, -4.4249, -4.4637, -4.6963, -4.8248, -4.9053, -4.9124, -5.0314, -5.0566, -5.0596, -5.0781, -5.0875, -5.1032, -5.131, -5.1929, -5.2048, -4.2021, -5.1723, -2.5698, -2.9749, -3.9188, -3.9324, -3.9902, -4.0956, -4.1487, -4.1862, -4.3639, -4.3854, -4.386, -4.5586, -4.5655, -4.5887, -4.6291, -4.6698, -4.6892, -4.763, -4.7862, -4.79, -4.8185, -4.8635, -4.9028, -4.9099, -4.9329, -4.9379, -4.9835, -5.0511, -5.0916, -5.1556, -1.4908, -2.7934, -3.4034, -3.5029, -3.637, -3.7317, -3.8929, -3.9129, -3.9917, -4.5181, -4.5603, -4.7049, -4.8558, -4.8746, -4.934, -4.9366, -4.9904, -5.0704, -5.0958, -5.1141, -5.1474, -5.1726, -5.2219, -5.2615, -5.2791, -5.3653, -5.3658, -5.4004, -5.4115, -5.4129, -5.1916, -2.5629, -3.4931, -3.5026, -3.7896, -3.8318, -4.0174, -4.2058, -4.2294, -4.2294, -4.2345, -4.3006, -4.2999, -4.2999, -4.3448, -4.4626, -4.5018, -4.5386, -4.55, -4.6178, -4.637, -4.7564, -4.7877, -4.9012, -4.979, -5.056, -5.058, -5.0702, -5.075, -5.0913, -5.0974, -2.9097, -3.0025, -3.1418, -3.3164, -3.7436, -3.8967, -3.9222, -4.242, -4.4254, -4.427, -4.5483, -4.5562, -4.7036, -4.7168, -4.7804, -4.7864, -4.804, -4.844, -4.9066, -4.9579, -4.9755, -4.9777, -5.0878, -5.0883, -5.0937, -5.1495, -5.2227, -5.26, -5.2822, -5.2896, -2.7748, -3.2272, -3.5978, -3.7769, -3.8564, -3.8907, -3.8997, -3.8774, -4.0761, -4.077, -4.1995, -4.4569, -4.4599, -4.4881, -4.4964, -4.5267, -4.5677, -4.6557, -4.6765, -4.764, -4.803, -4.805, -4.8657, -4.9033, -4.9265, -4.9316, -4.9757, -5.014, -5.0272, -5.0605, -3.0854, -3.2721, -3.4158, -3.5552, -3.6336, -3.7397, -3.8099, -3.9973, -4.0682, -4.1053, -4.3806, -4.426, -4.4286, -4.456, -4.6138, -4.6302, -4.6397, -4.6574, -4.6796, -4.6885, -4.7255, -4.7624, -4.7669, -4.8644, -4.8909, -4.9909, -5.0061, -5.0694, -5.0999, -5.104, -4.8806, -2.6542, -2.8261, -3.4193, -3.7699, -3.8339, -3.2963, -4.1042, -4.1204, -4.2123, -4.3493, -4.359, -4.4094, -4.4779, -4.4969, -4.6042, -4.6834, -4.7451, -4.7988, -4.8223, -4.8932, -4.8941, -4.9013, -4.908, -4.9094, -5.0069, -5.0454, -5.0878, -5.1648, -5.1942, -5.2209, -3.3777, -3.7816, -3.8227, -4.0588, -4.1013, -4.1307, -4.1458, -4.1799, -4.2636, -4.4251, -4.4638, -4.4663, -4.6343, -4.6761, -4.6803, -4.6821, -4.7117, -4.716, -4.7222, -4.8019, -4.8051, -4.9101, -4.9103, -4.9172, -4.9313, -4.9612, -4.9829, -5.1083, -5.1114, -5.1155, -5.0065, -2.8011, -3.644, -3.6727, -3.8445, -4.1332, -4.2036, -4.2249, -4.312, -4.3968, -4.4622, -4.5142, -4.5429, -4.5474, -4.5697, -4.6013, -4.604, -4.7755, -4.8191, -4.8315, -4.8893, -4.8949, -4.9218, -4.943, -5.0006, -5.0564, -5.0566, -5.0737, -5.0943, -5.0986, -5.1488, -3.0523, -3.5135, -3.6244, -3.6792, -3.7629, -3.9346, -4.0358, -4.2548, -4.3131, -4.4206, -4.533, -4.5728, -4.5992, -4.7637, -4.7671, -4.7752, -4.7752, -4.7895, -4.842, -4.8459, -4.8585, -4.8626, -4.8816, -4.914, -5.01, -5.0173, -5.0633, -5.068, -5.153, -5.169, -3.7122, -3.8038, -4.7203, -3.234, -3.6329, -3.8556, -3.8667, -4.1031, -4.1743, -4.2084, -4.215, -4.2229, -4.2473, -4.255, -4.2979, -4.3147, -4.3205, -4.3765, -4.4398, -4.4398, -4.5316, -4.533, -4.5919, -4.6201, -4.6478, -4.7597, -4.7992, -4.8097, -4.8851, -4.8879, -4.9025, -5.0229, -5.0778, -4.7219, -3.1308, -3.2313, -3.4179, -3.75, -4.0139, -4.0241, -4.2759, -4.2761, -4.3133, -4.3393, -4.3603, -4.3945, -4.5233, -4.6331, -4.6689, -4.7171, -4.7324, -4.7431, -4.7515, -4.8185, -4.8249, -4.8657, -5.1351, -5.1526, -5.1618, -5.1777, -5.1885, -5.1939, -5.2671, -5.2847, -4.7895, -5.1845, -2.8098, -3.095, -3.3362, -3.8493, -3.92, -3.9213, -4.0945, -4.1671, -4.3477, -4.3511, -4.3689, -4.438, -4.5109, -4.6891, -4.6928, -4.7939, -4.8091, -4.9413, -5.0103, -5.0306, -5.0663, -5.0695, -5.1166, -5.1727, -5.1804, -5.2053, -5.2539, -5.2861, -5.2909, -5.3214, -3.7229, -2.9163, -3.4758, -3.594, -3.603, -3.9329, -4.1062, -4.2824, -4.5473, -4.5931, -4.6062, -4.61, -4.6707, -4.6749, -4.7018, -4.7105, -4.7928, -4.8941, -4.9512, -4.9534, -5.0025, -5.0158, -5.0439, -5.0604, -5.0926, -5.1212, -5.1596, -5.1951, -5.1981, -5.2245, -5.2362, -4.2924, -4.6045, -5.0608, -5.1946], \"loglift\": [30.0, 29.0, 28.0, 27.0, 26.0, 25.0, 24.0, 23.0, 22.0, 21.0, 20.0, 19.0, 18.0, 17.0, 16.0, 15.0, 14.0, 13.0, 12.0, 11.0, 10.0, 9.0, 8.0, 7.0, 6.0, 5.0, 4.0, 3.0, 2.0, 1.0, 2.723, 2.7223, 2.7202, 2.7198, 2.7187, 2.7174, 2.717, 2.7169, 2.7168, 2.7165, 2.7133, 2.712, 2.712, 2.7115, 2.7069, 2.7051, 2.7051, 2.704, 2.7022, 2.6977, 2.697, 2.6956, 2.6956, 2.6954, 2.692, 2.6917, 2.6913, 2.6899, 2.6895, 2.6894, 2.5468, 2.5677, 2.5453, 2.5096, 2.3474, 2.5455, 2.8969, 2.8935, 2.8934, 2.8928, 2.8917, 2.8879, 2.8857, 2.885, 2.884, 2.884, 2.8817, 2.8796, 2.8791, 2.8788, 2.8787, 2.8785, 2.8761, 2.876, 2.8746, 2.8738, 2.8735, 2.8734, 2.8732, 2.872, 2.872, 2.8705, 2.8703, 2.87, 2.8695, 2.8682, 2.7364, 2.7684, 2.7655, 2.9181, 2.9175, 2.9169, 2.9166, 2.9156, 2.9144, 2.9092, 2.9042, 2.9041, 2.9016, 2.9015, 2.9008, 2.8999, 2.8996, 2.898, 2.8971, 2.8964, 2.8944, 2.8942, 2.891, 2.8904, 2.8894, 2.8891, 2.8882, 2.8874, 2.8834, 2.8832, 2.8801, 2.8764, 2.8759, 2.5155, 1.9076, 1.4296, 3.1489, 3.1484, 3.1482, 3.1437, 3.1434, 3.1428, 3.1395, 3.1387, 3.1367, 3.1337, 3.1336, 3.1325, 3.1314, 3.1293, 3.1282, 3.1273, 3.1267, 3.1263, 3.1258, 3.1232, 3.1225, 3.1222, 3.1213, 3.1203, 3.1196, 3.1173, 3.1167, 3.115, 3.1141, 3.1139, 1.2314, 2.7532, 1.804, 3.1577, 3.1529, 3.1515, 3.1513, 3.1477, 3.1473, 3.1457, 3.1456, 3.1447, 3.1434, 3.143, 3.1429, 3.1421, 3.1403, 3.1391, 3.1363, 3.135, 3.1328, 3.1326, 3.1317, 3.1313, 3.1309, 3.129, 3.1279, 3.1277, 3.1273, 3.1261, 3.1259, 3.1246, 3.1239, 2.7042, 2.7709, 1.3167, 0.8549, 3.1557, 3.1542, 3.1516, 3.151, 3.1498, 3.1492, 3.1453, 3.1427, 3.1419, 3.1401, 3.1394, 3.1382, 3.138, 3.1374, 3.1368, 3.1358, 3.1326, 3.1307, 3.1307, 3.1296, 3.127, 3.1263, 3.126, 3.125, 3.1229, 3.1215, 3.1215, 3.1201, 3.1183, 3.1138, 3.0517, 2.9028, 3.1675, 3.164, 3.1631, 3.163, 3.1629, 3.1614, 3.1587, 3.1569, 3.1567, 3.1564, 3.1561, 3.1546, 3.1542, 3.1527, 3.1519, 3.1515, 3.1496, 3.1486, 3.1484, 3.1463, 3.1457, 3.1451, 3.1446, 3.1442, 3.1428, 3.1416, 3.1414, 3.1388, 3.1382, 3.1378, 2.9162, 3.1713, 3.1697, 3.1695, 3.1694, 3.1667, 3.1661, 3.1657, 3.1632, 3.1621, 3.1617, 3.1608, 3.1588, 3.1574, 3.1565, 3.1544, 3.1542, 3.1516, 3.1484, 3.1474, 3.1473, 3.1472, 3.1459, 3.1452, 3.145, 3.1445, 3.1439, 3.1425, 3.1418, 3.1413, 3.1395, 3.1822, 3.1815, 3.1804, 3.1798, 3.1765, 3.1758, 3.173, 3.1724, 3.172, 3.169, 3.1689, 3.1661, 3.1657, 3.1646, 3.163, 3.1585, 3.157, 3.1564, 3.153, 3.1521, 3.1506, 3.1499, 3.1477, 3.1458, 3.1457, 3.145, 3.1446, 3.1417, 3.1361, 3.1356, 2.442, 3.1938, 3.1915, 3.1905, 3.1899, 3.1891, 3.189, 3.1871, 3.1862, 3.185, 3.1826, 3.1803, 3.1795, 3.1794, 3.1785, 3.1767, 3.1761, 3.1738, 3.1737, 3.1719, 3.1713, 3.1703, 3.1703, 3.1698, 3.1624, 3.1622, 3.1607, 3.1603, 3.1598, 3.1597, 3.1587, 3.151, 2.4277, 2.5606, 3.2247, 3.2223, 3.222, 3.2219, 3.2218, 3.2209, 3.2184, 3.2182, 3.2181, 3.215, 3.2149, 3.2143, 3.2133, 3.2109, 3.2098, 3.2092, 3.2085, 3.2035, 3.2003, 3.198, 3.1978, 3.1941, 3.1933, 3.1932, 3.1925, 3.1922, 3.1916, 3.1906, 3.1883, 3.1879, 3.1027, 1.6608, 3.2311, 3.2296, 3.2228, 3.2226, 3.222, 3.2206, 3.2199, 3.2194, 3.2165, 3.2162, 3.2162, 3.2128, 3.2127, 3.2122, 3.2113, 3.2104, 3.2099, 3.2081, 3.2075, 3.2074, 3.2066, 3.2054, 3.2042, 3.204, 3.2034, 3.2032, 3.2018, 3.1996, 3.1982, 3.1958, 3.2422, 3.2395, 3.2364, 3.2357, 3.2346, 3.2338, 3.2321, 3.2319, 3.231, 3.2226, 3.2218, 3.2185, 3.2145, 3.214, 3.2122, 3.2121, 3.2104, 3.2077, 3.2069, 3.2062, 3.205, 3.204, 3.2021, 3.2004, 3.1997, 3.1959, 3.1958, 3.1942, 3.1937, 3.1936, 1.5115, 3.2479, 3.2434, 3.2433, 3.2408, 3.2404, 3.2383, 3.2356, 3.2353, 3.2353, 3.2352, 3.2341, 3.2341, 3.2341, 3.2334, 3.2312, 3.2304, 3.2297, 3.2294, 3.228, 3.2275, 3.2246, 3.2238, 3.2206, 3.2181, 3.2156, 3.2155, 3.2151, 3.2149, 3.2143, 3.2141, 3.2628, 3.2624, 3.2617, 3.2607, 3.2573, 3.2557, 3.2554, 3.2511, 3.2475, 3.2474, 3.2454, 3.2452, 3.2418, 3.2414, 3.2398, 3.2396, 3.2391, 3.238, 3.2362, 3.2346, 3.234, 3.2339, 3.2301, 3.2301, 3.2299, 3.2278, 3.2249, 3.2234, 3.2224, 3.2221, 3.2731, 3.2709, 3.2683, 3.2666, 3.2658, 3.2654, 3.2653, 3.2645, 3.2631, 3.2631, 3.2613, 3.2568, 3.2567, 3.2562, 3.256, 3.2554, 3.2545, 3.2525, 3.2519, 3.2497, 3.2486, 3.2486, 3.2468, 3.2457, 3.245, 3.2448, 3.2434, 3.2421, 3.2417, 3.2405, 3.2936, 3.2925, 3.2915, 3.2905, 3.2898, 3.2888, 3.2881, 3.2859, 3.2849, 3.2844, 3.2799, 3.279, 3.2789, 3.2784, 3.2749, 3.2745, 3.2743, 3.2739, 3.2733, 3.2731, 3.2722, 3.2712, 3.271, 3.2682, 3.2674, 3.2642, 3.2637, 3.2614, 3.2603, 3.2601, 2.8607, 3.3072, 3.3066, 3.3033, 3.3002, 3.2995, 3.2977, 3.2961, 3.2958, 3.2944, 3.292, 3.2919, 3.2909, 3.2895, 3.2891, 3.2867, 3.2848, 3.2831, 3.2816, 3.2809, 3.2788, 3.2788, 3.2785, 3.2783, 3.2783, 3.275, 3.2737, 3.2721, 3.2691, 3.2678, 3.2667, 3.3495, 3.3459, 3.3454, 3.3423, 3.3417, 3.3413, 3.341, 3.3405, 3.3391, 3.336, 3.3351, 3.3351, 3.3311, 3.3301, 3.3299, 3.3299, 3.3291, 3.329, 3.3288, 3.3265, 3.3264, 3.3231, 3.3231, 3.3228, 3.3224, 3.3213, 3.3206, 3.3158, 3.3157, 3.3155, 3.3084, 3.382, 3.3764, 3.3761, 3.3742, 3.3701, 3.369, 3.3686, 3.367, 3.3653, 3.3639, 3.3627, 3.362, 3.3619, 3.3614, 3.3606, 3.3605, 3.3558, 3.3544, 3.354, 3.3522, 3.352, 3.3511, 3.3503, 3.3482, 3.3461, 3.3461, 3.3454, 3.3446, 3.3438, 3.3423, 3.4016, 3.3983, 3.3972, 3.3967, 3.3958, 3.3936, 3.3922, 3.3886, 3.3875, 3.3853, 3.3827, 3.3817, 3.381, 3.3764, 3.3763, 3.376, 3.376, 3.3756, 3.3739, 3.3738, 3.3734, 3.3732, 3.3726, 3.3715, 3.368, 3.3677, 3.3659, 3.3657, 3.3621, 3.3614, 3.331, 3.0949, 2.247, 3.43, 3.4266, 3.424, 3.4239, 3.4204, 3.4192, 3.4186, 3.4185, 3.4183, 3.4179, 3.4177, 3.4169, 3.4165, 3.4164, 3.4153, 3.4139, 3.4139, 3.4117, 3.4116, 3.4101, 3.4094, 3.4086, 3.4046, 3.4041, 3.4037, 3.4012, 3.4011, 3.4006, 3.396, 3.3937, 3.0585, 3.4315, 3.4308, 3.4294, 3.4261, 3.4226, 3.4223, 3.4181, 3.4181, 3.4174, 3.4169, 3.4164, 3.4157, 3.4127, 3.4098, 3.4088, 3.4074, 3.407, 3.4066, 3.4064, 3.4042, 3.404, 3.4027, 3.392, 3.3913, 3.3908, 3.3901, 3.3896, 3.3893, 3.3858, 3.3849, 3.1426, 3.0632, 3.4664, 3.4648, 3.4631, 3.4578, 3.4569, 3.4568, 3.4542, 3.4529, 3.4493, 3.4493, 3.4489, 3.4473, 3.4455, 3.4406, 3.4405, 3.4373, 3.4368, 3.4321, 3.4293, 3.4285, 3.427, 3.4268, 3.4247, 3.4221, 3.4218, 3.4206, 3.4181, 3.4164, 3.4162, 3.4145, 3.1102, 3.5612, 3.5569, 3.5556, 3.5555, 3.5511, 3.5481, 3.5445, 3.5378, 3.5365, 3.5361, 3.536, 3.5341, 3.5339, 3.5331, 3.5328, 3.5299, 3.526, 3.5237, 3.5236, 3.5214, 3.5208, 3.5195, 3.5188, 3.5172, 3.5158, 3.5139, 3.512, 3.5118, 3.5104, 3.5098, 3.3586, 3.1343, 1.6423, 3.0738]}, \"token.table\": {\"Topic\": [17, 21, 25, 1, 7, 1, 17, 24, 8, 19, 1, 19, 24, 8, 24, 4, 9, 11, 22, 24, 10, 2, 3, 17, 17, 7, 23, 10, 12, 13, 14, 25, 25, 1, 24, 1, 15, 15, 23, 23, 5, 1, 2, 22, 4, 15, 18, 23, 24, 12, 1, 25, 4, 17, 15, 19, 6, 20, 10, 23, 8, 16, 13, 14, 17, 24, 16, 11, 21, 21, 22, 3, 7, 17, 9, 16, 12, 4, 6, 20, 1, 18, 6, 9, 10, 3, 5, 25, 6, 1, 17, 5, 17, 4, 25, 20, 4, 1, 2, 23, 25, 19, 19, 10, 21, 14, 23, 18, 9, 23, 4, 2, 2, 5, 9, 10, 13, 6, 5, 21, 6, 22, 2, 8, 12, 21, 4, 6, 11, 25, 9, 24, 3, 25, 1, 7, 13, 5, 20, 4, 5, 1, 17, 20, 17, 19, 25, 20, 16, 15, 10, 19, 14, 24, 20, 1, 5, 7, 3, 14, 16, 12, 21, 12, 13, 2, 3, 9, 2, 3, 11, 15, 2, 10, 17, 15, 6, 9, 11, 10, 1, 2, 17, 25, 16, 3, 8, 24, 22, 22, 13, 14, 12, 12, 5, 14, 4, 16, 20, 25, 1, 5, 13, 7, 23, 4, 15, 9, 21, 22, 11, 23, 15, 15, 18, 12, 3, 2, 8, 2, 10, 14, 20, 19, 10, 15, 14, 16, 7, 2, 10, 23, 21, 7, 13, 11, 14, 1, 20, 4, 1, 12, 18, 8, 12, 18, 14, 22, 9, 12, 1, 22, 9, 13, 1, 17, 11, 13, 19, 4, 18, 10, 17, 8, 20, 11, 16, 3, 17, 11, 18, 24, 7, 13, 1, 5, 22, 7, 1, 14, 14, 1, 12, 2, 22, 10, 4, 21, 13, 14, 7, 25, 19, 16, 4, 10, 9, 24, 2, 9, 4, 18, 17, 20, 4, 21, 18, 25, 22, 5, 20, 14, 10, 4, 17, 18, 12, 6, 6, 4, 17, 25, 25, 15, 7, 7, 2, 16, 13, 14, 25, 8, 20, 1, 25, 18, 16, 7, 9, 21, 23, 4, 7, 3, 11, 23, 5, 22, 21, 6, 10, 14, 3, 23, 3, 6, 22, 2, 2, 3, 18, 1, 9, 13, 17, 12, 12, 23, 9, 8, 22, 3, 11, 13, 1, 4, 12, 11, 11, 7, 5, 24, 20, 13, 18, 5, 24, 12, 5, 10, 14, 16, 13, 3, 10, 22, 12, 22, 18, 9, 9, 1, 9, 6, 5, 8, 17, 25, 11, 20, 18, 5, 3, 3, 9, 18, 1, 21, 25, 21, 17, 11, 20, 18, 25, 10, 6, 13, 2, 4, 10, 1, 21, 20, 3, 13, 19, 11, 3, 23, 22, 16, 8, 17, 25, 5, 21, 5, 20, 3, 11, 23, 7, 5, 22, 5, 9, 16, 7, 8, 23, 24, 16, 11, 9, 20, 24, 20, 21, 4, 22, 16, 16, 4, 12, 16, 20, 11, 24, 15, 4, 19, 9, 1, 12, 6, 12, 11, 25, 1, 19, 18, 8, 22, 22, 8, 5, 6, 19, 18, 18, 16, 21, 12, 21, 14, 6, 2, 15, 15, 13, 22, 1, 3, 15, 14, 8, 3, 6, 19, 16, 1, 9, 8, 21, 16, 1, 17, 7, 22, 24, 18, 8, 10, 16, 18, 18, 22, 4, 15, 25, 15, 10, 7, 4, 10, 19, 15, 6, 15, 8, 7, 21, 15, 3, 6, 23, 8, 23, 16, 17, 10, 20, 24, 24, 2, 17, 23, 21, 5, 6, 24, 4, 22, 25, 14, 10, 19, 18, 21, 14, 11, 4, 15, 18, 5, 21, 5, 23, 7, 23, 19, 2, 19, 13, 11, 22, 3, 13, 5, 5, 23, 7, 22, 13, 24, 11, 25, 19, 14, 2, 25, 10, 17, 2, 8, 8, 25, 21, 17, 3, 20, 8, 11, 9, 5, 22, 3, 20, 9, 6, 13, 21, 2, 6, 24, 23, 22, 18, 7, 19, 6, 13, 7, 15, 2, 15, 10, 20, 12, 20, 24, 9, 16, 5, 7, 8, 6, 19, 4, 8, 12, 23, 1, 7, 17, 12, 1, 5, 24, 22, 6, 16, 2, 2, 11, 13, 21, 19, 13, 16, 2, 15, 5, 8, 1, 2, 1, 15, 12, 9, 13, 1, 11, 8, 19, 5, 17, 1, 21, 10, 11, 3, 5, 10, 14, 11, 19, 24, 14, 4, 12, 6, 9, 16, 21, 4, 21, 16, 23, 2, 19, 2, 10, 16, 25, 3, 22, 2, 23, 8, 25, 14, 5, 25, 21, 20, 13, 14, 24, 3, 14, 7, 18, 24, 25, 19, 17, 2, 6, 23, 21, 10, 24, 19, 20, 22, 23, 16, 24, 15, 7, 4, 10, 8, 8, 13, 20, 23, 1, 10, 19, 23, 17, 14, 18, 21, 9, 24, 15, 17, 12, 3, 14, 19, 12, 19, 6, 25, 19, 7, 3, 4, 7, 16, 6, 15, 15, 6, 6, 13, 25, 7, 3, 24, 12, 6, 9, 11, 1, 2, 11, 14, 14, 4, 11, 13, 5, 9, 12, 3, 25, 7, 18], \"Freq\": [0.9904086932233495, 0.9307970537233997, 0.06810710149195608, 0.8587512678489744, 0.14065753525112512, 0.34224366818412255, 0.6388548472770288, 0.9825279526236366, 0.976371821060751, 0.9774249038014478, 0.9597515375086997, 0.9700700515200361, 0.9647962951142146, 0.9853250119163433, 0.9962695550740626, 0.009199912239962207, 0.07359929791969766, 0.21159798151913078, 0.009199912239962207, 0.6991933302371278, 0.9877343417850364, 0.9788908929676969, 0.9509794027990207, 0.9675003683834654, 0.9867527789024073, 0.9785044071451813, 0.9776523528778575, 0.4604932664276857, 0.11310360929802807, 0.17773424318261552, 0.09694595082688119, 0.1454189262403218, 0.9848504519037751, 0.9530726233583369, 0.9792157947282922, 0.9906339684975481, 0.9868072828194423, 0.9691080913156587, 0.9672294660786831, 0.9701581723333482, 0.975035975715993, 0.10459975659527984, 0.8760229614854687, 0.9771835389948507, 0.9801937860293697, 0.993916982129658, 0.9726681984769932, 0.9662231013090239, 0.989040583639085, 0.9697057076993448, 0.16676473452935264, 0.8129780808305942, 0.9798302300440156, 0.9461947395427491, 0.9816095390729341, 0.9877717408226618, 0.9633281461778895, 0.9930601607815897, 0.9748185732848952, 0.9600642339371225, 0.9943321651006594, 0.9912535880632665, 0.9872227592797091, 0.9877785028544678, 0.9743798955287895, 0.9631957949787652, 0.9872098249027799, 0.9626642392506068, 0.9811628971766553, 0.9851549121099625, 0.9768075226573982, 0.9982013990095386, 0.9941705976810055, 0.9931512679591432, 0.9946771241234051, 0.9765240018437557, 0.9945664532491639, 0.963504262182137, 0.9883319169190884, 0.9667925326668052, 0.9812133251163169, 0.9625653053967069, 0.96609270540288, 0.9618984438484011, 0.9831619629155376, 0.946592855066835, 0.9739844968400329, 0.9539665429161515, 0.9887804985844574, 0.8407676580470934, 0.13136994656985834, 0.97827415456813, 0.9779134559508424, 0.9848640386831385, 0.9928717300154849, 0.9722625217744236, 0.9891205387111757, 0.9511448402080727, 0.9709182032102128, 0.9235696777956286, 0.9481448252683933, 0.9904236529604956, 0.9690869322719569, 0.9820688148222473, 0.9760114519066317, 0.9684129573585352, 0.9891070134113504, 0.9741196588112339, 0.9833676423774678, 0.9582196966044716, 0.9668190562051163, 0.9754844805373422, 0.9781128760056695, 0.1628618904136535, 0.4653196868961529, 0.13959590606884587, 0.2093938591032688, 0.9715600859261523, 0.9901598211560325, 0.9487316331684162, 0.9709986685637086, 0.9511541197055899, 0.9752231431117316, 0.959029066843861, 0.9659434104746903, 0.9531924148025127, 0.945995480540772, 0.9837563001108318, 0.9957906702280949, 0.9693501923144914, 0.9767894345251309, 0.9258864349597701, 0.9650085977777022, 0.975525867707986, 0.9542195209938868, 0.9635452293099946, 0.9855045779153351, 0.9597702855556057, 0.9840407092521458, 0.9643631407032183, 0.9633875041313151, 0.9791767035022455, 0.9821626700355918, 0.9829158053783607, 0.9785440005282416, 0.9800152904638257, 0.9885135943590257, 0.9860695104848436, 0.9878714973262627, 0.9802760600030511, 0.9602167166316314, 0.9744020826437103, 0.9864008367140015, 0.970857632521938, 0.9671849676082155, 0.6844626895339362, 0.17328169355289524, 0.1386253548423162, 0.9930649962771518, 0.967966509982195, 0.9689521481924321, 0.9726616283048838, 0.9574732977686119, 0.9476380443705884, 0.975345733519023, 0.9981688051446227, 0.9837758886154429, 0.9817082360715783, 0.9822188650878366, 0.9640300974644207, 0.9952091029329204, 0.9709108120448225, 0.9889701076041528, 0.9783909016257013, 0.9782135354468924, 0.9671930872358688, 0.9500474819430782, 0.9785904346798174, 0.9953048360770379, 0.9927028863461813, 0.8096167633602438, 0.18400380985460085, 0.34137667816867917, 0.6599949111261131, 0.9587163589107195, 0.9992154390998255, 0.9796644230399342, 0.9588607165395027, 0.9470614547400681, 0.9838347239465939, 0.9598526734280941, 0.9828018402826488, 0.9602966490935697, 0.9492157569006973, 0.9581134186613461, 0.9835549124160617, 0.9618953060724759, 0.9590870227251532, 0.9841986741228902, 0.9574724984554764, 0.9876402777775213, 0.9790460970904558, 0.9757110300550923, 0.9745107497457105, 0.9531361154952717, 0.9698192098893452, 0.9873363395678866, 0.9634228859056683, 0.9526472039497629, 0.9777388460128342, 0.9782770459145369, 0.9851195115786926, 0.9366125730151865, 0.9789053894760419, 0.9731973272638134, 0.9901748562535952, 0.9464125765151702, 0.9811563236397841, 0.9837523133405308, 0.961723607895281, 0.9953374251229704, 0.9721562615194338, 0.9658910649690192, 0.976788643088271, 0.9826804895060469, 0.9980109585412023, 0.9911545722507856, 0.9604057931160971, 0.9855477918621284, 0.9889028207588673, 0.9850592665602027, 0.9511455703909308, 0.9778203516551863, 0.9918962068814612, 0.9804699695693829, 0.9518547720183984, 0.9718244701544925, 0.9957824026170177, 0.9781988062079093, 0.99653394305274, 0.987097427719533, 0.9690586423506965, 0.9607510025575893, 0.9637647917579896, 0.9686545511428677, 0.9782033161851518, 0.9950104661079381, 0.9840411442522898, 0.9890320273637649, 0.9528571493630403, 0.9903891345387578, 0.9943440455898497, 0.996878818511068, 0.9686129136424129, 0.9741835266211287, 0.9868147285310584, 0.9869858475429937, 0.9600717931688644, 0.9851786793215089, 0.007243725632737676, 0.9851466860523239, 0.9779518617425083, 0.9671846789521631, 0.9935353332773236, 0.9705171515477233, 0.8847229106932163, 0.10321767291420857, 0.990893350850902, 0.9898319880308502, 0.9887201445237942, 0.9381402291503661, 0.9757172440817142, 0.9865412141414303, 0.9853835876508649, 0.8378453665759349, 0.15678977620134454, 0.9786257587694687, 0.9974805308615026, 0.9756985051192669, 0.9828019679362534, 0.9804183327666833, 0.9966122318714803, 0.9820629326486796, 0.28469198134836626, 0.6880056215918852, 0.9477536817151715, 0.9843577903832078, 0.9570974756573716, 0.9961054899345629, 0.982639983575292, 0.9739698319354825, 0.9936691767024329, 0.9905631828188453, 0.9950320892187628, 0.9510875202400456, 0.9881061271841118, 0.9655555828801765, 0.944404257367929, 0.9691558387247895, 0.9931995899400353, 0.9922075981306809, 0.9758092601311286, 0.9917818074457749, 0.9890651280967441, 0.2554105107582682, 0.7269376075427634, 0.9890332905581134, 0.9829952068449027, 0.9907962741123731, 0.9909413758043311, 0.9697097683519846, 0.9790905453688464, 0.984511834329989, 0.9824558433114544, 0.9951968098793563, 0.9966239910568367, 0.9961142699936113, 0.9853266261943168, 0.985400311501176, 0.97269290580538, 0.9742898830030323, 0.9791650005630487, 0.9272037816469677, 0.9544454665088247, 0.9609303430496517, 0.9940297960135437, 0.9865425950608583, 0.9938221717592847, 0.9482251342628536, 0.9844226888633999, 0.9878421190773148, 0.9931494271823642, 0.9716048258913438, 0.9675173960156604, 0.934389787551396, 0.990968200961024, 0.9645886913258552, 0.9918669585075083, 0.9715032397800265, 0.9850567433570352, 0.9757819731413759, 0.9881324843116438, 0.957003528436782, 0.9590685302107257, 0.9794378497727754, 0.9385472559738643, 0.9656386763235627, 0.9602571788701708, 0.9840011625325769, 0.9827301497535674, 0.9719008300881135, 0.9627514359888841, 0.9899062087153747, 0.9650977198306278, 0.6645949818651012, 0.1661487454662753, 0.15637528985061205, 0.9690008938090716, 0.965612895699585, 0.95597067243441, 0.9551259217264871, 0.9984059461516266, 0.9559860677026325, 0.9770051605332447, 0.981235948107023, 0.9843235084268337, 0.9698594364262633, 0.9689167547141277, 0.98657608163268, 0.9880832900227741, 0.9712155015039069, 0.9981295107393053, 0.956875144841055, 0.9827921631685459, 0.3150254190523869, 0.682555074613505, 0.9920212219206784, 0.9512209344420484, 0.9524279563251689, 0.9854498623014196, 0.9785561905597755, 0.9642221960387674, 0.9633321681358474, 0.9915621154673002, 0.9911029764648175, 0.974573212595318, 0.9837520329174774, 0.9963238440130011, 0.9803159247461575, 0.525358745513203, 0.14710044874369685, 0.31521524730792183, 0.9992298849115704, 0.9400756065567377, 0.9737429523903862, 0.9772954890768837, 0.982447492588982, 0.9692579137195213, 0.9835370794832744, 0.9571851035119399, 0.9920821167006814, 0.9847024765866996, 0.9888892128183085, 0.9417141612944007, 0.9790022128413227, 0.9906113382486041, 0.9900210588125989, 0.9492430744539251, 0.9954001032187872, 0.99421023763702, 0.9924078322542378, 0.9948802029674684, 0.9798986099299203, 0.9896843721211084, 0.9467198383473723, 0.9829693655411236, 0.9976937745319691, 0.9625752363722583, 0.9799410812464713, 0.9397306119207905, 0.9693864149473416, 0.948517241521288, 0.9724694859076206, 0.9967278733423123, 0.9717322323423626, 0.9683686487776095, 0.988748868796167, 0.9639993393035826, 0.8505936193981545, 0.148079051150286, 0.9906139409400234, 0.992416719160081, 0.9549707998938893, 0.9653658846294797, 0.9682111764767442, 0.992646766943496, 0.9716438666811151, 0.9857678612840716, 0.9678582200103572, 0.9706504420979136, 0.9738757156779371, 0.9583379165651897, 0.9586606602986949, 0.9782685096341253, 0.9616810597005259, 0.6734270830868025, 0.3156689451969387, 0.9805818915403691, 0.9436304115796977, 0.9822706161902935, 0.9835229849566963, 0.9870998048168435, 0.9866105574789662, 0.9850553421445792, 0.9835947676416056, 0.9768668995483379, 0.9824778578657503, 0.9794330250528268, 0.9950022272976672, 0.9954287145606067, 0.681478815237375, 0.26501953925897914, 0.9897609635923719, 0.968339874599585, 0.9467687382624475, 0.987446775418836, 0.9748836868965003, 0.9783595609358622, 0.9882495893082579, 0.9894416734272434, 0.9775560272662962, 0.9704713093181728, 0.9743249529417245, 0.9787946990832505, 0.9906462712310371, 0.9518037135428992, 0.9875294212631646, 0.9895660857184253, 0.9712811309364233, 0.9801557472608761, 0.9659498765968599, 0.9850266481672129, 0.9982886720013647, 0.9726090406300986, 0.9875264596187883, 0.9863297663851502, 0.9894077921523291, 0.9952844106873813, 0.9653625040798011, 0.993879416136129, 0.9702478142804456, 0.9836084127133704, 0.9788956863529314, 0.9700569425391143, 0.9700569506332541, 0.9764951542817965, 0.9925031801059807, 0.9672321217638228, 0.9667749925734626, 0.9895490708335871, 0.9576398877550368, 0.9666797191879765, 0.9723128183110902, 0.9867398109456277, 0.9625085959073216, 0.9806382316382138, 0.9804049569647698, 0.9958367699843639, 0.9875922800398004, 0.9856785925451176, 0.9327420710565283, 0.9908964451579487, 0.9898166142404999, 0.9874239855648383, 0.990160446758543, 0.9476564386499822, 0.9850810001278875, 0.2260844771230749, 0.7726191261684212, 0.9705868515810889, 0.9628690667868562, 0.995248379706454, 0.9627586045995048, 0.9895194678929656, 0.9858333960391201, 0.9664973605147329, 0.9627750948159574, 0.9534597403775791, 0.9901126450762004, 0.9752151017388454, 0.9678654503771476, 0.9827370015481274, 0.9925623135555995, 0.9789440993774037, 0.9889161996457532, 0.9624065511597373, 0.9796224457065925, 0.9832070030961795, 0.9579035645329635, 0.9481060759184612, 0.944577577361619, 0.9746561240772386, 0.9863351526013168, 0.9852785152110404, 0.9925945948459566, 0.9914078005608452, 0.9483901411547044, 0.9583284389135546, 0.9874462295426452, 0.9705714874661941, 0.9881747436546787, 0.9891574259344118, 0.9856678924239374, 0.9636265173321091, 0.9815223275116807, 0.9475539153646441, 0.9691367509876325, 0.950896862599938, 0.9925338298504686, 0.954471048099926, 0.9705465631914164, 0.9582010272103401, 0.983449229438949, 0.9353430771297424, 0.9252228850918004, 0.9910274721306738, 0.9656369590604055, 0.9795044936665873, 0.9948896512776525, 0.10061242474732678, 0.8977724054376851, 0.9681794278542196, 0.9953887655826786, 0.9725588460722097, 0.9589175763117219, 0.9826950270586192, 0.9893724600978956, 0.9732453206464287, 0.9612982200341045, 0.968808010576281, 0.9858468059418672, 0.9838469642433499, 0.9666831582586166, 0.9837957111087561, 0.9955753395508992, 0.9585437323799099, 0.9727140794321888, 0.9849912331362254, 0.9707304423212175, 0.9705655813104324, 0.99649098144286, 0.9869719619243054, 0.9848353419910859, 0.963989925734411, 0.9742806937902824, 0.976122709602639, 0.9921763319759808, 0.9873530102897499, 0.9323379024673332, 0.97027285824604, 0.98594055118893, 0.9853613475313685, 0.9861080781669582, 0.9468593825598413, 0.9755524351323667, 0.9902091174143864, 0.9696120348252216, 0.9501980056380221, 0.9773738852225992, 0.9711667151412949, 0.9762154408308937, 0.9243807172298697, 0.9739001743280716, 0.9669240890856524, 0.9647060985753652, 0.9721715478332266, 0.9676933132699291, 0.9793136047102486, 0.9828897504988655, 0.9954855001189085, 0.9951354413963012, 0.965768259189271, 0.9627765064848858, 0.9627418348620543, 0.9728175577831054, 0.9823305210083989, 0.943484364924821, 0.9820740272996733, 0.9605784985951896, 0.9822954362624564, 0.977960220960962, 0.9933993346144439, 0.973479128775957, 0.9665184059741411, 0.9695702472199493, 0.939309919839309, 0.9482017179074689, 0.979945244424259, 0.9854115618488096, 0.9860215590395505, 0.9931448572522181, 0.9741071493461788, 0.9474797301399854, 0.9858632958273622, 0.9751640355167673, 0.9654265708383535, 0.9494071543070468, 0.9787331515167834, 0.9509603188022633, 0.9604202398256048, 0.9684859753059198, 0.996225351844405, 0.9838006750304578, 0.9822556531803337, 0.969369478984778, 0.9891002575653098, 0.9878713548794343, 0.997366762797091, 0.9606582539034293, 0.9767907181341411, 0.9771644254980685, 0.2208884325205181, 0.7454984597567486, 0.21293181654063992, 0.7807499939823463, 0.9729343539376148, 0.9784805609916234, 0.9921656603872322, 0.98285533928536, 0.9545060655685644, 0.9767627805216724, 0.9761512437317174, 0.9565716093059773, 0.9929487896235828, 0.992578390562976, 0.9771635757986176, 0.9743168276055588, 0.9541983811515695, 0.9549396836831274, 0.9667712957100698, 0.9895073720364479, 0.9843745619262878, 0.9971044831075009, 0.9867022186116381, 0.9947986359440341, 0.9808821362969755, 0.9934679220995496, 0.9959044727412791, 0.9649459687655086, 0.9760784012776208, 0.9971809302569535, 0.9960440911726407, 0.9739921822370293, 0.9956359335033315, 0.994916840072245, 0.9759472807341938, 0.9719260926166464, 0.9875741839770092, 0.840843508566207, 0.15015062652967984, 0.9956667015361205, 0.991773966106215, 0.3643883279095619, 0.6339764404280183, 0.9908555018159938, 0.9931711859748037, 0.9891930119020355, 0.9512416777787197, 0.9825187144062557, 0.9861558840593962, 0.9988289250189616, 0.9901350885928372, 0.9847988046777159, 0.9863071594642998, 0.9942743733793188, 0.9937960958273186, 0.9945493109729932, 0.9953792751604711, 0.9823493464667601, 0.9610645302616906, 0.8707813455287048, 0.11500885695662139, 0.9964138393715818, 0.9898360065398525, 0.9919721586303839, 0.9522621401497732, 0.9963414506666411, 0.9884766849298374, 0.9593274787665603, 0.9924422615503307, 0.9902449774924443, 0.9831974566637328, 0.9861558457822287, 0.9795351475437886, 0.934610885700166, 0.9554307182413796, 0.9625058074799326, 0.9944522799622582, 0.9717291372532955, 0.9902300749708423, 0.9967279047402564, 0.9693066623258049, 0.9825536664501106, 0.9803445843997362, 0.9785287967828754, 0.9498687653186959, 0.9581883001721635, 0.9791318070647698, 0.977505964188695, 0.9847845000093162, 0.9853077512668909, 0.9534938031640677, 0.9908140784810279, 0.9681091447064193, 0.9820344848492285, 0.9673928342182794, 0.9921079187021475, 0.9659970175627156, 0.9928375830226527, 0.9940055584459324, 0.9793262710485825, 0.9836736416460893, 0.9600582564221299, 0.9984228261470779, 0.9868723980253897, 0.9755899945704862, 0.9539439587125108, 0.9772318911593741, 0.9726172125643614, 0.9931086389208981, 0.9594750109340006, 0.9903576241713408, 0.9792731565928964, 0.9890161542413174, 0.993991518795534, 0.9793644767690407, 0.9887390453669181, 0.964262924043201, 0.9618775686726448, 0.9623435113810583, 0.9762065632176387, 0.972757209686561, 0.9501198464666666, 0.9861987615850816, 0.987948228563501, 0.9884588806253257, 0.9521396153354605, 0.9896213254549319, 0.9244034336347713, 0.9812498573980959, 0.9916493185919152, 0.9681779225119744, 0.9698186502295623, 0.993582226224473, 0.9839580183611984, 0.9858029470766957, 0.9955869768554342, 0.9789343652795186, 0.9578363556066242, 0.9946263306405788, 0.9380305673972958, 0.9601975862691182, 0.9719380716435969, 0.9850766506897652, 0.9851534441398534, 0.9814409180061123, 0.9921474477809961, 0.9936977969151201, 0.9951594237276662, 0.9977133157928101, 0.9976256442284783, 0.9829842694419206, 0.996351855164859, 0.9884320851802083, 0.9750568514583514, 0.9902459807820838, 0.9576781275005607, 0.9962876587586899, 0.9566098932784728, 0.9705079749273217, 0.3478317249077302, 0.6183675109470759, 0.9965160052534252, 0.9938196383664224], \"Term\": [\"2016\", \"2017\", \"2017\", \"5sos\", \"5sos\", \"5sos_daily\", \"5sos_daily\", \"5sostumblrx\", \"aartorias\", \"able\", \"absolutely\", \"abuse\", \"accept\", \"account\", \"actually\", \"adclaidekanes\", \"adclaidekanes\", \"adclaidekanes\", \"adclaidekanes\", \"adclaidekanes\", \"addiction\", \"adult\", \"advice\", \"agree\", \"ahmdariff\", \"aint\", \"albino\", \"aleph\", \"aleph\", \"aleph\", \"aleph\", \"aleph\", \"allthxngsozzie\", \"alright\", \"altright\", \"amazing\", \"america\", \"american\", \"anashssn\", \"animals\", \"answer\", \"anxiety\", \"anxiety\", \"anymore\", \"anyti\", \"anytime\", \"anyways\", \"apparently\", \"arent\", \"article\", \"ashton5sos\", \"ashton5sos\", \"asked\", \"asking\", \"asks\", \"autism\", \"automatically\", \"away\", \"awesome\", \"aylalaroe\", \"azarkansero\", \"azfarovski\", \"baby\", \"backtomanila\", \"ball\", \"battlemonkeyz\", \"bea_viel88\", \"beat\", \"beautiful\", \"believe\", \"bellamy\", \"best\", \"bestmusicvideo\", \"better\", \"birthday\", \"bitch\", \"black\", \"blog\", \"body\", \"book\", \"boss\", \"bout\", \"boys\", \"brain\", \"break\", \"bring\", \"broken\", \"brother\", \"business\", \"calcalhughes\", \"calcalhughes\", \"called\", \"calum5sos\", \"came\", \"cameronhoodkin\", \"cancer\", \"care\", \"career\", \"case\", \"cast\", \"cats\", \"cause\", \"celtics\", \"center\", \"chaldeaprince\", \"chance\", \"change\", \"character\", \"check\", \"checked\", \"chicken\", \"child\", \"children\", \"chris_villain\", \"chris_villain\", \"chris_villain\", \"chris_villain\", \"christ\", \"christmas\", \"citizens\", \"city\", \"clarke\", \"class\", \"cleaning\", \"close\", \"club\", \"coffee\", \"college\", \"come\", \"comes\", \"coming\", \"community\", \"company\", \"complete\", \"congrats\", \"control\", \"cool\", \"count\", \"country\", \"couple\", \"course\", \"cover\", \"crap\", \"crazy\", \"crying\", \"cure\", \"cute\", \"daily\", \"damn\", \"daniel_akhtar\", \"dark\", \"date\", \"datujoe143\", \"datukhensem\", \"daughter\", \"days\", \"days\", \"days\", \"dead\", \"deal\", \"death\", \"decided\", \"delete\", \"dental\", \"depressed\", \"depression\", \"deserve\", \"design\", \"diagnosed\", \"dick\", \"didnt\", \"died\", \"difference\", \"different\", \"dinner\", \"disc\", \"disorders\", \"doctor\", \"does\", \"doesnt\", \"doing\", \"doing\", \"dollahkhair\", \"dollahkhair\", \"donald\", \"dont\", \"door\", \"doubt\", \"draw\", \"dream\", \"dreams\", \"dreamteamyong\", \"drink\", \"drinking\", \"drive\", \"dude\", \"dumb\", \"early\", \"east\", \"easy\", \"eating\", \"election\", \"enemies\", \"enjoy\", \"entered\", \"entire\", \"especially\", \"everybody\", \"everyones\", \"evil\", \"exactly\", \"excited\", \"excuse\", \"explain\", \"eyes\", \"face\", \"facebook\", \"fact\", \"fake\", \"fall\", \"family\", \"fans\", \"farmifahmi\", \"fast\", \"favorite\", \"feel\", \"feeling\", \"feelings\", \"feels\", \"fight\", \"fighting\", \"film\", \"final\", \"finally\", \"fine\", \"fitness\", \"fivereasonstofollow\", \"follow\", \"followed\", \"following\", \"food\", \"fool\", \"football\", \"force\", \"forever\", \"forget\", \"foryong\", \"foxnews\", \"free\", \"friday\", \"friend\", \"friends\", \"fuck\", \"fucked\", \"fuckin\", \"fucking\", \"funny\", \"furiously\", \"gaj_2\", \"game\", \"game\", \"games\", \"gave\", \"genevieveverso\", \"george\", \"gets\", \"gets\", \"getting\", \"girl\", \"girls\", \"gives\", \"giving\", \"glad\", \"goes\", \"going\", \"going\", \"gone\", \"good\", \"goodnight\", \"gopayt\", \"gopaytwin\", \"great\", \"green\", \"group\", \"group\", \"grow\", \"guess\", \"guide\", \"guys\", \"haha\", \"hahaha\", \"hair\", \"half\", \"hananyxnyx\", \"hand\", \"happen\", \"happened\", \"happens\", \"happiness\", \"happy\", \"hard\", \"harry\", \"hate\", \"havent\", \"having\", \"having\", \"head\", \"headache\", \"headaches\", \"health\", \"healthy\", \"hear\", \"heard\", \"heart\", \"hell\", \"hello\", \"help\", \"helping\", \"heres\", \"high\", \"highzyl\", \"history\", \"hmmm\", \"hold\", \"holy\", \"home\", \"honestly\", \"hope\", \"hospital\", \"hour\", \"hours\", \"house\", \"human\", \"hurt\", \"iamyongm_\", \"idea\", \"idontwannaliveforever\", \"iheartawards\", \"ihsnzlkfle\", \"illness\", \"imagine\", \"important\", \"inside\", \"instagram\", \"instead\", \"intelligence\", \"internet\", \"iriswestaiin\", \"isnt\", \"issues\", \"itll\", \"james\", \"jesus\", \"jobs\", \"joenbc\", \"joenbc\", \"joenbc\", \"john\", \"join\", \"joke\", \"judge\", \"just\", \"kat_mcnamara\", \"kidding\", \"kids\", \"kill\", \"killed\", \"killing\", \"kind\", \"kinda\", \"knew\", \"know\", \"knows\", \"lady\", \"late\", \"late\", \"later\", \"laugh\", \"lead\", \"learn\", \"leave\", \"leaving\", \"lee6358\", \"left\", \"lets\", \"level\", \"lies\", \"life\", \"light\", \"lightsaber\", \"lightsaber\", \"lightsaber\", \"like\", \"liked\", \"lindacurley37\", \"line\", \"lions\", \"list\", \"listen\", \"listening\", \"literally\", \"little\", \"live\", \"lives\", \"living\", \"liz_smith333\", \"lmao\", \"lmaooo\", \"long\", \"look\", \"looking\", \"looks\", \"lose\", \"lost\", \"lots\", \"louis\", \"love\", \"loved\", \"loves\", \"loving\", \"luck\", \"luke\", \"lunch\", \"lydiamcrtins\", \"lying\", \"maddytran1\", \"madreeve\", \"magic\", \"make\", \"make\", \"makes\", \"making\", \"marijuanx\", \"mark\", \"matter\", \"maybe\", \"mcbusted\", \"mean\", \"means\", \"meant\", \"media\", \"medicine\", \"meet\", \"meetthebatman\", \"memories\", \"mental\", \"mental\", \"merry\", \"message\", \"michael\", \"michael5sos\", \"middle\", \"migraine\", \"migraines\", \"mika\", \"million\", \"mind\", \"minutes\", \"miss\", \"misslusyd\", \"mmfa\", \"mmfa\", \"mnwild\", \"moimori\", \"monday\", \"money\", \"month\", \"months\", \"mood\", \"morning\", \"morning_joe\", \"mostrequestedlive\", \"mostrequestlive\", \"motivation\", \"movie\", \"moving\", \"msnbc\", \"music\", \"naddyduddy\", \"nanny\", \"national\", \"nbavote\", \"need\", \"needed\", \"needs\", \"negative\", \"news\", \"nice\", \"nigga\", \"night\", \"nocturnaltapir\", \"north\", \"nothingalarming\", \"now2016\", \"nowzayn\", \"number\", \"obama\", \"office\", \"official_ncfc\", \"okay\", \"okhan24\", \"onairromeo\", \"ones\", \"online\", \"open\", \"ourfourthluckysun\", \"outside\", \"overcome\", \"pain\", \"parents\", \"park\", \"party\", \"past\", \"patriots\", \"paytforluckysun\", \"paytforyourdreams\", \"pendant_kun\", \"people\", \"people\", \"perfect\", \"period\", \"person\", \"personal\", \"phone\", \"photo\", \"pick\", \"picture\", \"piece\", \"pillowtalk\", \"pinterest\", \"pissed\", \"pizza\", \"place\", \"plan\", \"play\", \"player\", \"playing\", \"point\", \"points\", \"politicususa\", \"pondandrory\", \"poor\", \"positive\", \"possible\", \"post\", \"power\", \"pray\", \"present\", \"president\", \"press\", \"pretty\", \"probably\", \"problem\", \"problems\", \"propaganda\", \"propagandist\", \"proud\", \"public\", \"putin\", \"putting\", \"question\", \"questions\", \"quote\", \"racist\", \"raven\", \"read\", \"reading\", \"ready\", \"real\", \"realdonaldtrump\", \"realdonaldtrump\", \"realize\", \"really\", \"reason\", \"redskins\", \"relationship\", \"remember\", \"repair\", \"report\", \"respect\", \"rest\", \"retweet\", \"rhaeman\", \"rich\", \"right\", \"road\", \"room\", \"russia\", \"russian\", \"safe\", \"said\", \"sale\", \"salon\", \"save\", \"saved\", \"saying\", \"says\", \"scarborough\", \"scared\", \"scene\", \"school\", \"season\", \"second\", \"secret\", \"seeing\", \"seen\", \"self\", \"selfie\", \"send\", \"sending\", \"sense\", \"sent\", \"series\", \"seriously\", \"service\", \"sessions\", \"shakespeare\", \"shame\", \"shardfox\", \"shes\", \"shit\", \"short\", \"shot\", \"shouldnt\", \"shut\", \"sick\", \"sign\", \"single\", \"sister\", \"size\", \"skin\", \"sleep\", \"small\", \"smart\", \"smile\", \"snapchat\", \"snow\", \"social\", \"song\", \"soon\", \"sorry\", \"soul\", \"sound\", \"sounds\", \"south\", \"space\", \"speakerryan\", \"special\", \"spend\", \"stand\", \"star\", \"start\", \"started\", \"starting\", \"state\", \"stay\", \"step\", \"stop\", \"store\", \"story\", \"straight\", \"stress\", \"stress\", \"strong\", \"strong\", \"study\", \"stuff\", \"stupid\", \"success\", \"suck\", \"suicide\", \"sunglasses\", \"super\", \"support\", \"sure\", \"swear\", \"sweet\", \"swift\", \"syazwanshahrul\", \"taken\", \"takes\", \"taking\", \"talk\", \"talking\", \"tauri3l\", \"taylor\", \"team\", \"tell\", \"telling\", \"text\", \"thank\", \"thanks\", \"thankyou\", \"thats\", \"thefuxedos\", \"thehill\", \"therapy\", \"theres\", \"theyre\", \"theyre\", \"thing\", \"things\", \"think\", \"think\", \"thinking\", \"thought\", \"thoughts\", \"tickets\", \"till\", \"tilltheend\", \"time\", \"times\", \"tips\", \"tired\", \"today\", \"told\", \"tomorrow\", \"tonight\", \"took\", \"treat\", \"treatment\", \"treatment\", \"treatments\", \"tried\", \"true\", \"truly\", \"trump\", \"trumps\", \"trust\", \"truth\", \"trying\", \"tskimoongoddess\", \"tuesyong\", \"turn\", \"turned\", \"turns\", \"twain\", \"tweet\", \"tweeting\", \"tweets\", \"twitter\", \"tyleroakley\", \"type\", \"ugly\", \"understand\", \"unfollowed\", \"unless\", \"used\", \"using\", \"vegan\", \"veganrevoiution\", \"vegas\", \"video\", \"vine\", \"vnndrws\", \"voice\", \"vote\", \"votes\", \"voting\", \"wait\", \"waiting\", \"walk\", \"wall\", \"want\", \"wanted\", \"wants\", \"warm\", \"wars\", \"wasnt\", \"watch\", \"watched\", \"watching\", \"ways\", \"wear\", \"wearepayting\", \"wearing\", \"week\", \"weekend\", \"weeks\", \"weird\", \"welcome\", \"went\", \"weve\", \"whats\", \"white\", \"whos\", \"william\", \"wish\", \"woke\", \"woman\", \"women\", \"wonder\", \"wonderful\", \"wont\", \"word\", \"words\", \"work\", \"working\", \"works\", \"world\", \"worry\", \"worse\", \"worst\", \"worth\", \"wouldnt\", \"write\", \"wrong\", \"yall\", \"yeah\", \"year\", \"years\", \"yesterday\", \"yong\", \"yongkissreturnonpbb\", \"yongstersofc\", \"youll\", \"young\", \"youre\", \"youtube\", \"youve\", \"zayin\", \"zayin\", \"zayn\", \"zaynmalik\"]}, \"R\": 30, \"lambda.step\": 0.01, \"plot.opts\": {\"xlab\": \"PC1\", \"ylab\": \"PC2\"}, \"topic.order\": [24, 2, 14, 1, 16, 18, 11, 9, 4, 10, 25, 22, 6, 21, 23, 8, 12, 7, 19, 13, 20, 17, 5, 3, 15]};\n",
              "\n",
              "function LDAvis_load_lib(url, callback){\n",
              "  var s = document.createElement('script');\n",
              "  s.src = url;\n",
              "  s.async = true;\n",
              "  s.onreadystatechange = s.onload = callback;\n",
              "  s.onerror = function(){console.warn(\"failed to load library \" + url);};\n",
              "  document.getElementsByTagName(\"head\")[0].appendChild(s);\n",
              "}\n",
              "\n",
              "if(typeof(LDAvis) !== \"undefined\"){\n",
              "   // already loaded: just create the visualization\n",
              "   !function(LDAvis){\n",
              "       new LDAvis(\"#\" + \"ldavis_el571401654632950567307923742\", ldavis_el571401654632950567307923742_data);\n",
              "   }(LDAvis);\n",
              "}else if(typeof define === \"function\" && define.amd){\n",
              "   // require.js is available: use it to load d3/LDAvis\n",
              "   require.config({paths: {d3: \"https://d3js.org/d3.v5\"}});\n",
              "   require([\"d3\"], function(d3){\n",
              "      window.d3 = d3;\n",
              "      LDAvis_load_lib(\"https://cdn.jsdelivr.net/gh/bmabey/pyLDAvis@3.3.1/pyLDAvis/js/ldavis.v3.0.0.js\", function(){\n",
              "        new LDAvis(\"#\" + \"ldavis_el571401654632950567307923742\", ldavis_el571401654632950567307923742_data);\n",
              "      });\n",
              "    });\n",
              "}else{\n",
              "    // require.js not available: dynamically load d3 & LDAvis\n",
              "    LDAvis_load_lib(\"https://d3js.org/d3.v5.js\", function(){\n",
              "         LDAvis_load_lib(\"https://cdn.jsdelivr.net/gh/bmabey/pyLDAvis@3.3.1/pyLDAvis/js/ldavis.v3.0.0.js\", function(){\n",
              "                 new LDAvis(\"#\" + \"ldavis_el571401654632950567307923742\", ldavis_el571401654632950567307923742_data);\n",
              "            })\n",
              "         });\n",
              "}\n",
              "</script>"
            ]
          },
          "metadata": {},
          "execution_count": 73
        }
      ],
      "source": [
        "import pyLDAvis\n",
        "import pyLDAvis.sklearn\n",
        "\n",
        "pyLDAvis.enable_notebook()\n",
        "pyLDAvis.sklearn.prepare(lda, tf_vectors, vectorizer_tf)"
      ]
    }
  ],
  "metadata": {
    "kernelspec": {
      "display_name": "Python 3",
      "language": "python",
      "name": "python3"
    },
    "language_info": {
      "codemirror_mode": {
        "name": "ipython",
        "version": 3
      },
      "file_extension": ".py",
      "mimetype": "text/x-python",
      "name": "python",
      "nbconvert_exporter": "python",
      "pygments_lexer": "ipython3",
      "version": "3.7.12"
    },
    "papermill": {
      "default_parameters": {},
      "duration": 62.816956,
      "end_time": "2022-08-10T14:33:50.609639",
      "environment_variables": {},
      "exception": null,
      "input_path": "__notebook__.ipynb",
      "output_path": "__notebook__.ipynb",
      "parameters": {},
      "start_time": "2022-08-10T14:32:47.792683",
      "version": "2.3.4"
    },
    "colab": {
      "provenance": [],
      "collapsed_sections": [],
      "include_colab_link": true
    }
  },
  "nbformat": 4,
  "nbformat_minor": 5
}